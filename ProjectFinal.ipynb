{
 "cells": [
  {
   "cell_type": "code",
   "execution_count": 8,
   "metadata": {},
   "outputs": [
    {
     "ename": "FileNotFoundError",
     "evalue": "[Errno 2] No such file or directory: '/Users/lenoxherman/Tippers/archive.zip'",
     "output_type": "error",
     "traceback": [
      "\u001b[0;31m---------------------------------------------------------------------------\u001b[0m",
      "\u001b[0;31mFileNotFoundError\u001b[0m                         Traceback (most recent call last)",
      "\u001b[1;32m/Users/lenoxherman/Tippers/ProjectFinal.ipynb Cell 1\u001b[0m line \u001b[0;36m8\n\u001b[1;32m      <a href='vscode-notebook-cell:/Users/lenoxherman/Tippers/ProjectFinal.ipynb#W1sZmlsZQ%3D%3D?line=3'>4</a>\u001b[0m zipfile_path \u001b[39m=\u001b[39m \u001b[39m'\u001b[39m\u001b[39m/Users/lenoxherman/Tippers/archive.zip\u001b[39m\u001b[39m'\u001b[39m\n\u001b[1;32m      <a href='vscode-notebook-cell:/Users/lenoxherman/Tippers/ProjectFinal.ipynb#W1sZmlsZQ%3D%3D?line=6'>7</a>\u001b[0m \u001b[39m# Extract the CSV file from the zip archive\u001b[39;00m\n\u001b[0;32m----> <a href='vscode-notebook-cell:/Users/lenoxherman/Tippers/ProjectFinal.ipynb#W1sZmlsZQ%3D%3D?line=7'>8</a>\u001b[0m \u001b[39mwith\u001b[39;00m zipfile\u001b[39m.\u001b[39;49mZipFile(zipfile_path, \u001b[39m'\u001b[39;49m\u001b[39mr\u001b[39;49m\u001b[39m'\u001b[39;49m) \u001b[39mas\u001b[39;00m zip_ref:\n\u001b[1;32m      <a href='vscode-notebook-cell:/Users/lenoxherman/Tippers/ProjectFinal.ipynb#W1sZmlsZQ%3D%3D?line=8'>9</a>\u001b[0m     \u001b[39m# Assuming the CSV file is directly in the root of the zip file\u001b[39;00m\n\u001b[1;32m     <a href='vscode-notebook-cell:/Users/lenoxherman/Tippers/ProjectFinal.ipynb#W1sZmlsZQ%3D%3D?line=9'>10</a>\u001b[0m     tip_data \u001b[39m=\u001b[39m zip_ref\u001b[39m.\u001b[39mnamelist()[\u001b[39m0\u001b[39m]  \u001b[39m# Assuming it's the first file in the list\u001b[39;00m\n\u001b[1;32m     <a href='vscode-notebook-cell:/Users/lenoxherman/Tippers/ProjectFinal.ipynb#W1sZmlsZQ%3D%3D?line=10'>11</a>\u001b[0m     zip_ref\u001b[39m.\u001b[39mextract(tip_data, path\u001b[39m=\u001b[39m\u001b[39m'\u001b[39m\u001b[39m.\u001b[39m\u001b[39m'\u001b[39m)\n",
      "File \u001b[0;32m~/anaconda3/envs/ml-0451/lib/python3.9/zipfile.py:1248\u001b[0m, in \u001b[0;36mZipFile.__init__\u001b[0;34m(self, file, mode, compression, allowZip64, compresslevel, strict_timestamps)\u001b[0m\n\u001b[1;32m   1246\u001b[0m \u001b[39mwhile\u001b[39;00m \u001b[39mTrue\u001b[39;00m:\n\u001b[1;32m   1247\u001b[0m     \u001b[39mtry\u001b[39;00m:\n\u001b[0;32m-> 1248\u001b[0m         \u001b[39mself\u001b[39m\u001b[39m.\u001b[39mfp \u001b[39m=\u001b[39m io\u001b[39m.\u001b[39;49mopen(file, filemode)\n\u001b[1;32m   1249\u001b[0m     \u001b[39mexcept\u001b[39;00m \u001b[39mOSError\u001b[39;00m:\n\u001b[1;32m   1250\u001b[0m         \u001b[39mif\u001b[39;00m filemode \u001b[39min\u001b[39;00m modeDict:\n",
      "\u001b[0;31mFileNotFoundError\u001b[0m: [Errno 2] No such file or directory: '/Users/lenoxherman/Tippers/archive.zip'"
     ]
    }
   ],
   "source": [
    "import pandas as pd \n",
    "import zipfile\n",
    "\n",
    "zipfile_path = '/Users/lenoxherman/Tippers/archive (1).zip'\n",
    "\n",
    "\n",
    "# Extract the CSV file from the zip archive\n",
    "with zipfile.ZipFile(zipfile_path, 'r') as zip_ref:\n",
    "    # Assuming the CSV file is directly in the root of the zip file\n",
    "    tip_data = zip_ref.namelist()[0]  # Assuming it's the first file in the list\n",
    "    zip_ref.extract(tip_data, path='.')\n",
    "\n",
    "# Load the CSV file into a pandas DataFrame\n",
    "df = pd.read_csv(tip_data)\n",
    "\n"
   ]
  },
  {
   "cell_type": "code",
   "execution_count": null,
   "metadata": {},
   "outputs": [],
   "source": []
  }
 ],
 "metadata": {
  "kernelspec": {
   "display_name": "ml-0451",
   "language": "python",
   "name": "python3"
  },
  "language_info": {
   "codemirror_mode": {
    "name": "ipython",
    "version": 3
   },
   "file_extension": ".py",
   "mimetype": "text/x-python",
   "name": "python",
   "nbconvert_exporter": "python",
   "pygments_lexer": "ipython3",
   "version": "3.9.18"
  },
  "orig_nbformat": 4
 },
 "nbformat": 4,
 "nbformat_minor": 2
}
