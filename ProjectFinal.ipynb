{
 "cells": [
  {
   "cell_type": "code",
   "execution_count": 22,
   "metadata": {},
   "outputs": [
    {
     "name": "stdout",
     "output_type": "stream",
     "text": [
      "The autoreload extension is already loaded. To reload it, use:\n",
      "  %reload_ext autoreload\n"
     ]
    }
   ],
   "source": [
    "%load_ext autoreload\n",
    "%autoreload 2\n",
    "import warnings \n",
    "warnings.filterwarnings('ignore')\n"
   ]
  },
  {
   "cell_type": "code",
   "execution_count": 23,
   "metadata": {},
   "outputs": [],
   "source": [
    "import pandas as pd \n",
    "\n",
    "file_path = '/Users/ddelgado/Tippers/tipDataSet/tip.csv'\n",
    "# Extract the CSV file from the zip archive\n",
    "\n",
    "# Load the CSV file into a pandas DataFrame\n",
    "df = pd.read_csv(file_path)\n"
   ]
  },
  {
   "cell_type": "code",
   "execution_count": 24,
   "metadata": {},
   "outputs": [
    {
     "data": {
      "text/html": [
       "<div>\n",
       "<style scoped>\n",
       "    .dataframe tbody tr th:only-of-type {\n",
       "        vertical-align: middle;\n",
       "    }\n",
       "\n",
       "    .dataframe tbody tr th {\n",
       "        vertical-align: top;\n",
       "    }\n",
       "\n",
       "    .dataframe thead th {\n",
       "        text-align: right;\n",
       "    }\n",
       "</style>\n",
       "<table border=\"1\" class=\"dataframe\">\n",
       "  <thead>\n",
       "    <tr style=\"text-align: right;\">\n",
       "      <th></th>\n",
       "      <th>total_bill</th>\n",
       "      <th>tip</th>\n",
       "      <th>sex</th>\n",
       "      <th>smoker</th>\n",
       "      <th>day</th>\n",
       "      <th>time</th>\n",
       "      <th>size</th>\n",
       "    </tr>\n",
       "  </thead>\n",
       "  <tbody>\n",
       "    <tr>\n",
       "      <th>0</th>\n",
       "      <td>16.99</td>\n",
       "      <td>1.01</td>\n",
       "      <td>Female</td>\n",
       "      <td>No</td>\n",
       "      <td>Sun</td>\n",
       "      <td>Dinner</td>\n",
       "      <td>2</td>\n",
       "    </tr>\n",
       "    <tr>\n",
       "      <th>1</th>\n",
       "      <td>10.34</td>\n",
       "      <td>1.66</td>\n",
       "      <td>Male</td>\n",
       "      <td>No</td>\n",
       "      <td>Sun</td>\n",
       "      <td>Dinner</td>\n",
       "      <td>3</td>\n",
       "    </tr>\n",
       "    <tr>\n",
       "      <th>2</th>\n",
       "      <td>21.01</td>\n",
       "      <td>3.50</td>\n",
       "      <td>Male</td>\n",
       "      <td>No</td>\n",
       "      <td>Sun</td>\n",
       "      <td>Dinner</td>\n",
       "      <td>3</td>\n",
       "    </tr>\n",
       "    <tr>\n",
       "      <th>3</th>\n",
       "      <td>23.68</td>\n",
       "      <td>3.31</td>\n",
       "      <td>Male</td>\n",
       "      <td>No</td>\n",
       "      <td>Sun</td>\n",
       "      <td>Dinner</td>\n",
       "      <td>2</td>\n",
       "    </tr>\n",
       "    <tr>\n",
       "      <th>4</th>\n",
       "      <td>24.59</td>\n",
       "      <td>3.61</td>\n",
       "      <td>Female</td>\n",
       "      <td>No</td>\n",
       "      <td>Sun</td>\n",
       "      <td>Dinner</td>\n",
       "      <td>4</td>\n",
       "    </tr>\n",
       "    <tr>\n",
       "      <th>...</th>\n",
       "      <td>...</td>\n",
       "      <td>...</td>\n",
       "      <td>...</td>\n",
       "      <td>...</td>\n",
       "      <td>...</td>\n",
       "      <td>...</td>\n",
       "      <td>...</td>\n",
       "    </tr>\n",
       "    <tr>\n",
       "      <th>239</th>\n",
       "      <td>29.03</td>\n",
       "      <td>5.92</td>\n",
       "      <td>Male</td>\n",
       "      <td>No</td>\n",
       "      <td>Sat</td>\n",
       "      <td>Dinner</td>\n",
       "      <td>3</td>\n",
       "    </tr>\n",
       "    <tr>\n",
       "      <th>240</th>\n",
       "      <td>27.18</td>\n",
       "      <td>2.00</td>\n",
       "      <td>Female</td>\n",
       "      <td>Yes</td>\n",
       "      <td>Sat</td>\n",
       "      <td>Dinner</td>\n",
       "      <td>2</td>\n",
       "    </tr>\n",
       "    <tr>\n",
       "      <th>241</th>\n",
       "      <td>22.67</td>\n",
       "      <td>2.00</td>\n",
       "      <td>Male</td>\n",
       "      <td>Yes</td>\n",
       "      <td>Sat</td>\n",
       "      <td>Dinner</td>\n",
       "      <td>2</td>\n",
       "    </tr>\n",
       "    <tr>\n",
       "      <th>242</th>\n",
       "      <td>17.82</td>\n",
       "      <td>1.75</td>\n",
       "      <td>Male</td>\n",
       "      <td>No</td>\n",
       "      <td>Sat</td>\n",
       "      <td>Dinner</td>\n",
       "      <td>2</td>\n",
       "    </tr>\n",
       "    <tr>\n",
       "      <th>243</th>\n",
       "      <td>18.78</td>\n",
       "      <td>3.00</td>\n",
       "      <td>Female</td>\n",
       "      <td>No</td>\n",
       "      <td>Thur</td>\n",
       "      <td>Dinner</td>\n",
       "      <td>2</td>\n",
       "    </tr>\n",
       "  </tbody>\n",
       "</table>\n",
       "<p>244 rows × 7 columns</p>\n",
       "</div>"
      ],
      "text/plain": [
       "     total_bill   tip     sex smoker   day    time  size\n",
       "0         16.99  1.01  Female     No   Sun  Dinner     2\n",
       "1         10.34  1.66    Male     No   Sun  Dinner     3\n",
       "2         21.01  3.50    Male     No   Sun  Dinner     3\n",
       "3         23.68  3.31    Male     No   Sun  Dinner     2\n",
       "4         24.59  3.61  Female     No   Sun  Dinner     4\n",
       "..          ...   ...     ...    ...   ...     ...   ...\n",
       "239       29.03  5.92    Male     No   Sat  Dinner     3\n",
       "240       27.18  2.00  Female    Yes   Sat  Dinner     2\n",
       "241       22.67  2.00    Male    Yes   Sat  Dinner     2\n",
       "242       17.82  1.75    Male     No   Sat  Dinner     2\n",
       "243       18.78  3.00  Female     No  Thur  Dinner     2\n",
       "\n",
       "[244 rows x 7 columns]"
      ]
     },
     "execution_count": 24,
     "metadata": {},
     "output_type": "execute_result"
    }
   ],
   "source": [
    "df\n"
   ]
  },
  {
   "cell_type": "code",
   "execution_count": 25,
   "metadata": {},
   "outputs": [
    {
     "name": "stdout",
     "output_type": "stream",
     "text": [
      "[0 2 2 1 1 2 3 1 1 3 2 1 0 2 2 2 2 3 3 2 3 1 1 2 2 1 1 2 2 1 1 1 2 1 2 1 1\n",
      " 2 1 2 1 1 3 1 2 2 3 2 0 2 2 3 1 2 2 2 0 0 2 1 2 1 2 3 1 2 1 4 0 1 2 2 1 2\n",
      " 1 1 2 1 1 2 1 2 2 1 1 1 1 3 3 1 0 2 2 4 1 1 1 1 1 1 3 2 0 2 2 1 2 2 3 4 3\n",
      " 1 1 1 2 2 2 1 1 1 2 1 2 1 2 1 2 1 2 0 0 1 1 2 2 1 2 1 1 3 2 2 1 2 1 2 0 1\n",
      " 2 4 2 1 2 0 0 2 0 1 2 1 2 2 1 1 2 1 1 1 1 2 2 2 4 0 3 0 1 1 4 0 1 3 0 4 0\n",
      " 3 2 0 2 2 0 3 0 1 3 2 2 1 1 1 3 2 1 1 2 2 1 0 0 2 0 2 2 2 3 0 1 1 2 0 2 4\n",
      " 3 2 1 1 2 1 2 1 0 2 4 1 2 1 0 0 1 2 0 0 0 2]\n"
     ]
    }
   ],
   "source": [
    "from sklearn.preprocessing import LabelEncoder\n",
    "import torch\n",
    "\n",
    "le = LabelEncoder()\n",
    "def prepare_data(df):\n",
    "  #removing columns that are not needed\n",
    "  # df.drop('smoker', axis=1, inplace=True)\n",
    "  day_mapping = {'Sun': 1, 'Sat': 1, 'Fri': 1, 'Thur':0}\n",
    "  # Create a new column 'day_encoded' based on Weekday or Weekend\n",
    "  df['day_encoded'] = df['day'].map(day_mapping)\n",
    "  # Create a new column \"time_encoded\" based on Lunch or Dinner\n",
    "  df['time_encoded'] = le.fit_transform(df['time'])\n",
    "  # Creates a new column 'smoker_encoded' based on Yes or No\n",
    "  df['smoker_encoded'] = le.fit_transform(df['smoker'])\n",
    "  # Creates a new column \"sex_encoded'\" based on female or male\n",
    "  df['sex_encoded'] = le.fit_transform(df['sex'])\n",
    "  # Creates a new column 'percent_tip' based on the percentage of the tip amount\n",
    "  df['percent_tip'] = (df['tip'] / df['total_bill']) * 100\n",
    "  # Round the 'percent_tip' column to two decimal places\n",
    "  df['percent_tip'] = df['percent_tip'].round()\n",
    "  #makes groups for tips to 25+\n",
    "  tip_groups = [0, 10, 15, 20, 25, float('inf')]\n",
    "  label_tip_groups = ['0-10%', '10-15%', '15-20%', '20-25%', '25+']\n",
    "  df['tip_groups'] = pd.cut(df['percent_tip'], bins = tip_groups, labels= label_tip_groups)\n",
    "  df['tip_groups'] = df['tip_groups'].astype(str)\n",
    "  df['tip_groups'] = df['tip_groups'].str.extract(r'(\\d+)').astype(float)\n",
    "\n",
    "  le.fit(df[\"tip_groups\"])\n",
    "  #turns the labels in 'tip' to a number\n",
    "  y = le.transform(df[\"tip_groups\"])\n",
    "  print(y)\n",
    "  #removing 'tip' col bc now held by y\n",
    "  df = df.drop([\"tip_groups\"], axis = 1)\n",
    "\n",
    "#drop tip, and percent_tip?\n",
    "\n",
    "  #converted into “one-hot encoded” 0-1 columns\n",
    "  df = pd.get_dummies(df)\n",
    "  return df, y\n",
    "X_train, y_train = prepare_data(df)"
   ]
  },
  {
   "cell_type": "code",
   "execution_count": 26,
   "metadata": {},
   "outputs": [
    {
     "data": {
      "text/plain": [
       "(244, 18)"
      ]
     },
     "execution_count": 26,
     "metadata": {},
     "output_type": "execute_result"
    }
   ],
   "source": [
    "X_train.shape"
   ]
  },
  {
   "cell_type": "code",
   "execution_count": 27,
   "metadata": {},
   "outputs": [
    {
     "data": {
      "text/html": [
       "<div>\n",
       "<style scoped>\n",
       "    .dataframe tbody tr th:only-of-type {\n",
       "        vertical-align: middle;\n",
       "    }\n",
       "\n",
       "    .dataframe tbody tr th {\n",
       "        vertical-align: top;\n",
       "    }\n",
       "\n",
       "    .dataframe thead th {\n",
       "        text-align: right;\n",
       "    }\n",
       "</style>\n",
       "<table border=\"1\" class=\"dataframe\">\n",
       "  <thead>\n",
       "    <tr style=\"text-align: right;\">\n",
       "      <th></th>\n",
       "      <th>total_bill</th>\n",
       "      <th>tip</th>\n",
       "      <th>sex</th>\n",
       "      <th>smoker</th>\n",
       "      <th>day</th>\n",
       "      <th>time</th>\n",
       "      <th>size</th>\n",
       "      <th>day_encoded</th>\n",
       "      <th>time_encoded</th>\n",
       "      <th>smoker_encoded</th>\n",
       "      <th>sex_encoded</th>\n",
       "      <th>percent_tip</th>\n",
       "      <th>tip_groups</th>\n",
       "    </tr>\n",
       "  </thead>\n",
       "  <tbody>\n",
       "    <tr>\n",
       "      <th>0</th>\n",
       "      <td>16.99</td>\n",
       "      <td>1.01</td>\n",
       "      <td>Female</td>\n",
       "      <td>No</td>\n",
       "      <td>Sun</td>\n",
       "      <td>Dinner</td>\n",
       "      <td>2</td>\n",
       "      <td>1</td>\n",
       "      <td>0</td>\n",
       "      <td>0</td>\n",
       "      <td>0</td>\n",
       "      <td>6.0</td>\n",
       "      <td>0.0</td>\n",
       "    </tr>\n",
       "    <tr>\n",
       "      <th>1</th>\n",
       "      <td>10.34</td>\n",
       "      <td>1.66</td>\n",
       "      <td>Male</td>\n",
       "      <td>No</td>\n",
       "      <td>Sun</td>\n",
       "      <td>Dinner</td>\n",
       "      <td>3</td>\n",
       "      <td>1</td>\n",
       "      <td>0</td>\n",
       "      <td>0</td>\n",
       "      <td>1</td>\n",
       "      <td>16.0</td>\n",
       "      <td>15.0</td>\n",
       "    </tr>\n",
       "    <tr>\n",
       "      <th>2</th>\n",
       "      <td>21.01</td>\n",
       "      <td>3.50</td>\n",
       "      <td>Male</td>\n",
       "      <td>No</td>\n",
       "      <td>Sun</td>\n",
       "      <td>Dinner</td>\n",
       "      <td>3</td>\n",
       "      <td>1</td>\n",
       "      <td>0</td>\n",
       "      <td>0</td>\n",
       "      <td>1</td>\n",
       "      <td>17.0</td>\n",
       "      <td>15.0</td>\n",
       "    </tr>\n",
       "    <tr>\n",
       "      <th>3</th>\n",
       "      <td>23.68</td>\n",
       "      <td>3.31</td>\n",
       "      <td>Male</td>\n",
       "      <td>No</td>\n",
       "      <td>Sun</td>\n",
       "      <td>Dinner</td>\n",
       "      <td>2</td>\n",
       "      <td>1</td>\n",
       "      <td>0</td>\n",
       "      <td>0</td>\n",
       "      <td>1</td>\n",
       "      <td>14.0</td>\n",
       "      <td>10.0</td>\n",
       "    </tr>\n",
       "    <tr>\n",
       "      <th>4</th>\n",
       "      <td>24.59</td>\n",
       "      <td>3.61</td>\n",
       "      <td>Female</td>\n",
       "      <td>No</td>\n",
       "      <td>Sun</td>\n",
       "      <td>Dinner</td>\n",
       "      <td>4</td>\n",
       "      <td>1</td>\n",
       "      <td>0</td>\n",
       "      <td>0</td>\n",
       "      <td>0</td>\n",
       "      <td>15.0</td>\n",
       "      <td>10.0</td>\n",
       "    </tr>\n",
       "    <tr>\n",
       "      <th>...</th>\n",
       "      <td>...</td>\n",
       "      <td>...</td>\n",
       "      <td>...</td>\n",
       "      <td>...</td>\n",
       "      <td>...</td>\n",
       "      <td>...</td>\n",
       "      <td>...</td>\n",
       "      <td>...</td>\n",
       "      <td>...</td>\n",
       "      <td>...</td>\n",
       "      <td>...</td>\n",
       "      <td>...</td>\n",
       "      <td>...</td>\n",
       "    </tr>\n",
       "    <tr>\n",
       "      <th>239</th>\n",
       "      <td>29.03</td>\n",
       "      <td>5.92</td>\n",
       "      <td>Male</td>\n",
       "      <td>No</td>\n",
       "      <td>Sat</td>\n",
       "      <td>Dinner</td>\n",
       "      <td>3</td>\n",
       "      <td>1</td>\n",
       "      <td>0</td>\n",
       "      <td>0</td>\n",
       "      <td>1</td>\n",
       "      <td>20.0</td>\n",
       "      <td>15.0</td>\n",
       "    </tr>\n",
       "    <tr>\n",
       "      <th>240</th>\n",
       "      <td>27.18</td>\n",
       "      <td>2.00</td>\n",
       "      <td>Female</td>\n",
       "      <td>Yes</td>\n",
       "      <td>Sat</td>\n",
       "      <td>Dinner</td>\n",
       "      <td>2</td>\n",
       "      <td>1</td>\n",
       "      <td>0</td>\n",
       "      <td>1</td>\n",
       "      <td>0</td>\n",
       "      <td>7.0</td>\n",
       "      <td>0.0</td>\n",
       "    </tr>\n",
       "    <tr>\n",
       "      <th>241</th>\n",
       "      <td>22.67</td>\n",
       "      <td>2.00</td>\n",
       "      <td>Male</td>\n",
       "      <td>Yes</td>\n",
       "      <td>Sat</td>\n",
       "      <td>Dinner</td>\n",
       "      <td>2</td>\n",
       "      <td>1</td>\n",
       "      <td>0</td>\n",
       "      <td>1</td>\n",
       "      <td>1</td>\n",
       "      <td>9.0</td>\n",
       "      <td>0.0</td>\n",
       "    </tr>\n",
       "    <tr>\n",
       "      <th>242</th>\n",
       "      <td>17.82</td>\n",
       "      <td>1.75</td>\n",
       "      <td>Male</td>\n",
       "      <td>No</td>\n",
       "      <td>Sat</td>\n",
       "      <td>Dinner</td>\n",
       "      <td>2</td>\n",
       "      <td>1</td>\n",
       "      <td>0</td>\n",
       "      <td>0</td>\n",
       "      <td>1</td>\n",
       "      <td>10.0</td>\n",
       "      <td>0.0</td>\n",
       "    </tr>\n",
       "    <tr>\n",
       "      <th>243</th>\n",
       "      <td>18.78</td>\n",
       "      <td>3.00</td>\n",
       "      <td>Female</td>\n",
       "      <td>No</td>\n",
       "      <td>Thur</td>\n",
       "      <td>Dinner</td>\n",
       "      <td>2</td>\n",
       "      <td>0</td>\n",
       "      <td>0</td>\n",
       "      <td>0</td>\n",
       "      <td>0</td>\n",
       "      <td>16.0</td>\n",
       "      <td>15.0</td>\n",
       "    </tr>\n",
       "  </tbody>\n",
       "</table>\n",
       "<p>244 rows × 13 columns</p>\n",
       "</div>"
      ],
      "text/plain": [
       "     total_bill   tip     sex smoker   day    time  size  day_encoded  \\\n",
       "0         16.99  1.01  Female     No   Sun  Dinner     2            1   \n",
       "1         10.34  1.66    Male     No   Sun  Dinner     3            1   \n",
       "2         21.01  3.50    Male     No   Sun  Dinner     3            1   \n",
       "3         23.68  3.31    Male     No   Sun  Dinner     2            1   \n",
       "4         24.59  3.61  Female     No   Sun  Dinner     4            1   \n",
       "..          ...   ...     ...    ...   ...     ...   ...          ...   \n",
       "239       29.03  5.92    Male     No   Sat  Dinner     3            1   \n",
       "240       27.18  2.00  Female    Yes   Sat  Dinner     2            1   \n",
       "241       22.67  2.00    Male    Yes   Sat  Dinner     2            1   \n",
       "242       17.82  1.75    Male     No   Sat  Dinner     2            1   \n",
       "243       18.78  3.00  Female     No  Thur  Dinner     2            0   \n",
       "\n",
       "     time_encoded  smoker_encoded  sex_encoded  percent_tip  tip_groups  \n",
       "0               0               0            0          6.0         0.0  \n",
       "1               0               0            1         16.0        15.0  \n",
       "2               0               0            1         17.0        15.0  \n",
       "3               0               0            1         14.0        10.0  \n",
       "4               0               0            0         15.0        10.0  \n",
       "..            ...             ...          ...          ...         ...  \n",
       "239             0               0            1         20.0        15.0  \n",
       "240             0               1            0          7.0         0.0  \n",
       "241             0               1            1          9.0         0.0  \n",
       "242             0               0            1         10.0         0.0  \n",
       "243             0               0            0         16.0        15.0  \n",
       "\n",
       "[244 rows x 13 columns]"
      ]
     },
     "execution_count": 27,
     "metadata": {},
     "output_type": "execute_result"
    }
   ],
   "source": [
    "df"
   ]
  },
  {
   "cell_type": "code",
   "execution_count": 28,
   "metadata": {},
   "outputs": [
    {
     "data": {
      "text/html": [
       "<div>\n",
       "<style scoped>\n",
       "    .dataframe tbody tr th:only-of-type {\n",
       "        vertical-align: middle;\n",
       "    }\n",
       "\n",
       "    .dataframe tbody tr th {\n",
       "        vertical-align: top;\n",
       "    }\n",
       "\n",
       "    .dataframe thead th {\n",
       "        text-align: right;\n",
       "    }\n",
       "</style>\n",
       "<table border=\"1\" class=\"dataframe\">\n",
       "  <thead>\n",
       "    <tr style=\"text-align: right;\">\n",
       "      <th></th>\n",
       "      <th>total_bill</th>\n",
       "      <th>tip</th>\n",
       "      <th>size</th>\n",
       "      <th>day_encoded</th>\n",
       "      <th>time_encoded</th>\n",
       "      <th>smoker_encoded</th>\n",
       "      <th>sex_encoded</th>\n",
       "      <th>percent_tip</th>\n",
       "      <th>sex_Female</th>\n",
       "      <th>sex_Male</th>\n",
       "      <th>smoker_No</th>\n",
       "      <th>smoker_Yes</th>\n",
       "      <th>day_Fri</th>\n",
       "      <th>day_Sat</th>\n",
       "      <th>day_Sun</th>\n",
       "      <th>day_Thur</th>\n",
       "      <th>time_Dinner</th>\n",
       "      <th>time_Lunch</th>\n",
       "    </tr>\n",
       "  </thead>\n",
       "  <tbody>\n",
       "    <tr>\n",
       "      <th>0</th>\n",
       "      <td>16.99</td>\n",
       "      <td>1.01</td>\n",
       "      <td>2</td>\n",
       "      <td>1</td>\n",
       "      <td>0</td>\n",
       "      <td>0</td>\n",
       "      <td>0</td>\n",
       "      <td>6.0</td>\n",
       "      <td>True</td>\n",
       "      <td>False</td>\n",
       "      <td>True</td>\n",
       "      <td>False</td>\n",
       "      <td>False</td>\n",
       "      <td>False</td>\n",
       "      <td>True</td>\n",
       "      <td>False</td>\n",
       "      <td>True</td>\n",
       "      <td>False</td>\n",
       "    </tr>\n",
       "    <tr>\n",
       "      <th>1</th>\n",
       "      <td>10.34</td>\n",
       "      <td>1.66</td>\n",
       "      <td>3</td>\n",
       "      <td>1</td>\n",
       "      <td>0</td>\n",
       "      <td>0</td>\n",
       "      <td>1</td>\n",
       "      <td>16.0</td>\n",
       "      <td>False</td>\n",
       "      <td>True</td>\n",
       "      <td>True</td>\n",
       "      <td>False</td>\n",
       "      <td>False</td>\n",
       "      <td>False</td>\n",
       "      <td>True</td>\n",
       "      <td>False</td>\n",
       "      <td>True</td>\n",
       "      <td>False</td>\n",
       "    </tr>\n",
       "    <tr>\n",
       "      <th>2</th>\n",
       "      <td>21.01</td>\n",
       "      <td>3.50</td>\n",
       "      <td>3</td>\n",
       "      <td>1</td>\n",
       "      <td>0</td>\n",
       "      <td>0</td>\n",
       "      <td>1</td>\n",
       "      <td>17.0</td>\n",
       "      <td>False</td>\n",
       "      <td>True</td>\n",
       "      <td>True</td>\n",
       "      <td>False</td>\n",
       "      <td>False</td>\n",
       "      <td>False</td>\n",
       "      <td>True</td>\n",
       "      <td>False</td>\n",
       "      <td>True</td>\n",
       "      <td>False</td>\n",
       "    </tr>\n",
       "    <tr>\n",
       "      <th>3</th>\n",
       "      <td>23.68</td>\n",
       "      <td>3.31</td>\n",
       "      <td>2</td>\n",
       "      <td>1</td>\n",
       "      <td>0</td>\n",
       "      <td>0</td>\n",
       "      <td>1</td>\n",
       "      <td>14.0</td>\n",
       "      <td>False</td>\n",
       "      <td>True</td>\n",
       "      <td>True</td>\n",
       "      <td>False</td>\n",
       "      <td>False</td>\n",
       "      <td>False</td>\n",
       "      <td>True</td>\n",
       "      <td>False</td>\n",
       "      <td>True</td>\n",
       "      <td>False</td>\n",
       "    </tr>\n",
       "    <tr>\n",
       "      <th>4</th>\n",
       "      <td>24.59</td>\n",
       "      <td>3.61</td>\n",
       "      <td>4</td>\n",
       "      <td>1</td>\n",
       "      <td>0</td>\n",
       "      <td>0</td>\n",
       "      <td>0</td>\n",
       "      <td>15.0</td>\n",
       "      <td>True</td>\n",
       "      <td>False</td>\n",
       "      <td>True</td>\n",
       "      <td>False</td>\n",
       "      <td>False</td>\n",
       "      <td>False</td>\n",
       "      <td>True</td>\n",
       "      <td>False</td>\n",
       "      <td>True</td>\n",
       "      <td>False</td>\n",
       "    </tr>\n",
       "    <tr>\n",
       "      <th>...</th>\n",
       "      <td>...</td>\n",
       "      <td>...</td>\n",
       "      <td>...</td>\n",
       "      <td>...</td>\n",
       "      <td>...</td>\n",
       "      <td>...</td>\n",
       "      <td>...</td>\n",
       "      <td>...</td>\n",
       "      <td>...</td>\n",
       "      <td>...</td>\n",
       "      <td>...</td>\n",
       "      <td>...</td>\n",
       "      <td>...</td>\n",
       "      <td>...</td>\n",
       "      <td>...</td>\n",
       "      <td>...</td>\n",
       "      <td>...</td>\n",
       "      <td>...</td>\n",
       "    </tr>\n",
       "    <tr>\n",
       "      <th>239</th>\n",
       "      <td>29.03</td>\n",
       "      <td>5.92</td>\n",
       "      <td>3</td>\n",
       "      <td>1</td>\n",
       "      <td>0</td>\n",
       "      <td>0</td>\n",
       "      <td>1</td>\n",
       "      <td>20.0</td>\n",
       "      <td>False</td>\n",
       "      <td>True</td>\n",
       "      <td>True</td>\n",
       "      <td>False</td>\n",
       "      <td>False</td>\n",
       "      <td>True</td>\n",
       "      <td>False</td>\n",
       "      <td>False</td>\n",
       "      <td>True</td>\n",
       "      <td>False</td>\n",
       "    </tr>\n",
       "    <tr>\n",
       "      <th>240</th>\n",
       "      <td>27.18</td>\n",
       "      <td>2.00</td>\n",
       "      <td>2</td>\n",
       "      <td>1</td>\n",
       "      <td>0</td>\n",
       "      <td>1</td>\n",
       "      <td>0</td>\n",
       "      <td>7.0</td>\n",
       "      <td>True</td>\n",
       "      <td>False</td>\n",
       "      <td>False</td>\n",
       "      <td>True</td>\n",
       "      <td>False</td>\n",
       "      <td>True</td>\n",
       "      <td>False</td>\n",
       "      <td>False</td>\n",
       "      <td>True</td>\n",
       "      <td>False</td>\n",
       "    </tr>\n",
       "    <tr>\n",
       "      <th>241</th>\n",
       "      <td>22.67</td>\n",
       "      <td>2.00</td>\n",
       "      <td>2</td>\n",
       "      <td>1</td>\n",
       "      <td>0</td>\n",
       "      <td>1</td>\n",
       "      <td>1</td>\n",
       "      <td>9.0</td>\n",
       "      <td>False</td>\n",
       "      <td>True</td>\n",
       "      <td>False</td>\n",
       "      <td>True</td>\n",
       "      <td>False</td>\n",
       "      <td>True</td>\n",
       "      <td>False</td>\n",
       "      <td>False</td>\n",
       "      <td>True</td>\n",
       "      <td>False</td>\n",
       "    </tr>\n",
       "    <tr>\n",
       "      <th>242</th>\n",
       "      <td>17.82</td>\n",
       "      <td>1.75</td>\n",
       "      <td>2</td>\n",
       "      <td>1</td>\n",
       "      <td>0</td>\n",
       "      <td>0</td>\n",
       "      <td>1</td>\n",
       "      <td>10.0</td>\n",
       "      <td>False</td>\n",
       "      <td>True</td>\n",
       "      <td>True</td>\n",
       "      <td>False</td>\n",
       "      <td>False</td>\n",
       "      <td>True</td>\n",
       "      <td>False</td>\n",
       "      <td>False</td>\n",
       "      <td>True</td>\n",
       "      <td>False</td>\n",
       "    </tr>\n",
       "    <tr>\n",
       "      <th>243</th>\n",
       "      <td>18.78</td>\n",
       "      <td>3.00</td>\n",
       "      <td>2</td>\n",
       "      <td>0</td>\n",
       "      <td>0</td>\n",
       "      <td>0</td>\n",
       "      <td>0</td>\n",
       "      <td>16.0</td>\n",
       "      <td>True</td>\n",
       "      <td>False</td>\n",
       "      <td>True</td>\n",
       "      <td>False</td>\n",
       "      <td>False</td>\n",
       "      <td>False</td>\n",
       "      <td>False</td>\n",
       "      <td>True</td>\n",
       "      <td>True</td>\n",
       "      <td>False</td>\n",
       "    </tr>\n",
       "  </tbody>\n",
       "</table>\n",
       "<p>244 rows × 18 columns</p>\n",
       "</div>"
      ],
      "text/plain": [
       "     total_bill   tip  size  day_encoded  time_encoded  smoker_encoded  \\\n",
       "0         16.99  1.01     2            1             0               0   \n",
       "1         10.34  1.66     3            1             0               0   \n",
       "2         21.01  3.50     3            1             0               0   \n",
       "3         23.68  3.31     2            1             0               0   \n",
       "4         24.59  3.61     4            1             0               0   \n",
       "..          ...   ...   ...          ...           ...             ...   \n",
       "239       29.03  5.92     3            1             0               0   \n",
       "240       27.18  2.00     2            1             0               1   \n",
       "241       22.67  2.00     2            1             0               1   \n",
       "242       17.82  1.75     2            1             0               0   \n",
       "243       18.78  3.00     2            0             0               0   \n",
       "\n",
       "     sex_encoded  percent_tip  sex_Female  sex_Male  smoker_No  smoker_Yes  \\\n",
       "0              0          6.0        True     False       True       False   \n",
       "1              1         16.0       False      True       True       False   \n",
       "2              1         17.0       False      True       True       False   \n",
       "3              1         14.0       False      True       True       False   \n",
       "4              0         15.0        True     False       True       False   \n",
       "..           ...          ...         ...       ...        ...         ...   \n",
       "239            1         20.0       False      True       True       False   \n",
       "240            0          7.0        True     False      False        True   \n",
       "241            1          9.0       False      True      False        True   \n",
       "242            1         10.0       False      True       True       False   \n",
       "243            0         16.0        True     False       True       False   \n",
       "\n",
       "     day_Fri  day_Sat  day_Sun  day_Thur  time_Dinner  time_Lunch  \n",
       "0      False    False     True     False         True       False  \n",
       "1      False    False     True     False         True       False  \n",
       "2      False    False     True     False         True       False  \n",
       "3      False    False     True     False         True       False  \n",
       "4      False    False     True     False         True       False  \n",
       "..       ...      ...      ...       ...          ...         ...  \n",
       "239    False     True    False     False         True       False  \n",
       "240    False     True    False     False         True       False  \n",
       "241    False     True    False     False         True       False  \n",
       "242    False     True    False     False         True       False  \n",
       "243    False    False    False      True         True       False  \n",
       "\n",
       "[244 rows x 18 columns]"
      ]
     },
     "execution_count": 28,
     "metadata": {},
     "output_type": "execute_result"
    }
   ],
   "source": [
    "X_train"
   ]
  },
  {
   "cell_type": "markdown",
   "metadata": {},
   "source": [
    "## Visualizations"
   ]
  },
  {
   "cell_type": "code",
   "execution_count": 29,
   "metadata": {},
   "outputs": [
    {
     "data": {
      "image/png": "[encoded data removed]",
      "text/plain": [
       "<Figure size 640x480 with 1 Axes>"
      ]
     },
     "metadata": {},
     "output_type": "display_data"
    }
   ],
   "source": [
    "from matplotlib import pyplot as plt\n",
    "import seaborn as sns\n",
    "\n",
    "sns.barplot(data = df, x = \"size\", y = \"total_bill\", hue = \"time\")\n",
    "\n",
    "plt.title('')\n",
    "plt.grid(True)\n",
    "plt.show()"
   ]
  },
  {
   "cell_type": "code",
   "execution_count": 30,
   "metadata": {},
   "outputs": [
    {
     "data": {
      "image/png": "[encoded data removed]",
      "text/plain": [
       "<Figure size 1000x600 with 1 Axes>"
      ]
     },
     "metadata": {},
     "output_type": "display_data"
    }
   ],
   "source": [
    "import pandas as pd\n",
    "import matplotlib.pyplot as plt\n",
    "import seaborn as sns\n",
    "\n",
    "plt.figure(figsize=(10, 6))\n",
    "sns.boxplot(x='size', y='total_bill', data=df, palette='viridis')\n",
    "plt.title('Distribution of Total Bill by Party Size', fontsize=14)\n",
    "plt.xlabel('Party Size', fontsize=12)\n",
    "plt.ylabel('Total Bill ($)', fontsize=12)\n",
    "plt.xticks(fontsize=10)\n",
    "plt.yticks(fontsize=10)\n",
    "plt.grid(axis='y', linestyle='--', alpha=0.7)\n",
    "plt.show()\n",
    "\n"
   ]
  },
  {
   "cell_type": "code",
   "execution_count": 31,
   "metadata": {},
   "outputs": [
    {
     "data": {
      "image/png": "[encoded data removed]",
      "text/plain": [
       "<Figure size 800x600 with 1 Axes>"
      ]
     },
     "metadata": {},
     "output_type": "display_data"
    }
   ],
   "source": [
    "import pandas as pd\n",
    "import matplotlib.pyplot as plt\n",
    "import seaborn as sns\n",
    "\n",
    "plt.figure(figsize=(8, 6))\n",
    "sns.boxplot(x='smoker', y='total_bill', data=df, palette='Set2')\n",
    "plt.title('Distribution of Total Bill by Smoking Status', fontsize=14)\n",
    "plt.xlabel('Smoker', fontsize=12)\n",
    "plt.ylabel('Total Bill ($)', fontsize=12)\n",
    "plt.xticks([0, 1], ['Non-Smoker', 'Smoker'], fontsize=10)  # Customize x-axis labels\n",
    "plt.yticks(fontsize=10)\n",
    "plt.grid(axis='y', linestyle='--', alpha=0.7)\n",
    "plt.show()\n"
   ]
  },
  {
   "cell_type": "code",
   "execution_count": 32,
   "metadata": {},
   "outputs": [
    {
     "data": {
      "image/png": "[encoded data removed]",
      "text/plain": [
       "<Figure size 800x600 with 1 Axes>"
      ]
     },
     "metadata": {},
     "output_type": "display_data"
    }
   ],
   "source": [
    "import pandas as pd\n",
    "import matplotlib.pyplot as plt\n",
    "import seaborn as sns\n",
    "\n",
    "plt.figure(figsize=(8, 6))\n",
    "sns.barplot(x='size', y='total_bill', hue='sex', data=df, palette='pastel')\n",
    "plt.title('Total Bill by Party Size and Gender', fontsize=14)\n",
    "plt.xlabel('Party Size', fontsize=12)\n",
    "plt.ylabel('Total Bill ($)', fontsize=12)\n",
    "plt.xticks(fontsize=10)\n",
    "plt.yticks(fontsize=10)\n",
    "plt.legend(title='Gender', fontsize=10, title_fontsize=10)\n",
    "plt.grid(axis='y', linestyle='--', alpha=0.7)\n",
    "plt.show()\n"
   ]
  },
  {
   "cell_type": "code",
   "execution_count": 33,
   "metadata": {},
   "outputs": [],
   "source": [
    "from sklearn.model_selection import train_test_split\n",
    "\n",
    "df_train, df_test = train_test_split(df, test_size = 0.2)"
   ]
  },
  {
   "cell_type": "code",
   "execution_count": 34,
   "metadata": {},
   "outputs": [],
   "source": [
    "predictor_cols = [\"size\", \"day_encoded\", \"time_encoded\", \"total_bill\", \"smoker_encoded\",'sex_encoded']\n",
    "target_col = [\"tip_groups\"]\n",
    "\n",
    "X_train = df_train[predictor_cols]\n",
    "y_train = df_train[target_col]\n",
    "\n",
    "X_test = df_test[predictor_cols]\n",
    "y_test = df_test[target_col]"
   ]
  },
  {
   "cell_type": "code",
   "execution_count": 35,
   "metadata": {},
   "outputs": [
    {
     "name": "stdout",
     "output_type": "stream",
     "text": [
      "(195, 13)\n",
      "(49, 13)\n"
     ]
    }
   ],
   "source": [
    "print(df_train.shape)\n",
    "print(df_test.shape)"
   ]
  },
  {
   "cell_type": "markdown",
   "metadata": {},
   "source": [
    "# Basic Logistic Regression Score"
   ]
  },
  {
   "cell_type": "markdown",
   "metadata": {},
   "source": [
    "### Basic Logistic Regression Score on Training Data"
   ]
  },
  {
   "cell_type": "code",
   "execution_count": 36,
   "metadata": {},
   "outputs": [
    {
     "data": {
      "text/plain": [
       "0.4358974358974359"
      ]
     },
     "execution_count": 36,
     "metadata": {},
     "output_type": "execute_result"
    }
   ],
   "source": [
    "from sklearn.linear_model import LogisticRegression\n",
    "\n",
    "LR = LogisticRegression()\n",
    "\n",
    "result = LR.fit(X_train, y_train)\n",
    "LR.fit(X_train, y_train)\n",
    "LR.score(X_train, y_train)"
   ]
  },
  {
   "cell_type": "markdown",
   "metadata": {},
   "source": [
    "### Basic Logistic Regression Score on Testing Data"
   ]
  },
  {
   "cell_type": "code",
   "execution_count": 37,
   "metadata": {},
   "outputs": [
    {
     "data": {
      "text/plain": [
       "0.5102040816326531"
      ]
     },
     "execution_count": 37,
     "metadata": {},
     "output_type": "execute_result"
    }
   ],
   "source": [
    "from sklearn.linear_model import LogisticRegression\n",
    "\n",
    "LR = LogisticRegression()\n",
    "\n",
    "LR.fit(X_test, y_test)\n",
    "LR.score(X_test, y_test)"
   ]
  },
  {
   "cell_type": "markdown",
   "metadata": {},
   "source": [
    "### Combination Logistic Regression Score on Training Data"
   ]
  },
  {
   "cell_type": "code",
   "execution_count": 38,
   "metadata": {},
   "outputs": [
    {
     "name": "stdout",
     "output_type": "stream",
     "text": [
      "['total_bill', 'sex_encoded']\n",
      "['size', 'sex_encoded']\n",
      "['total_bill', 'size', 'sex_encoded']\n",
      "['total_bill', 'smoker_encoded']\n",
      "['size', 'smoker_encoded']\n",
      "['total_bill', 'size', 'smoker_encoded']\n",
      "['total_bill', 'day_encoded']\n",
      "['size', 'day_encoded']\n",
      "['total_bill', 'size', 'day_encoded']\n",
      "['total_bill', 'time_encoded']\n",
      "['size', 'time_encoded']\n",
      "['total_bill', 'size', 'time_encoded']\n",
      "Best Score:  0.4256410256410256\n",
      "Best Columns:  ['size', 'smoker_encoded']\n"
     ]
    }
   ],
   "source": [
    "from itertools import combinations\n",
    "from sklearn.model_selection import cross_val_score\n",
    "import random\n",
    "\n",
    "# issue is we are looking at same cateogories --> looking at sexes in both quan and qual cols\n",
    "all_qual_cols= [\"sex\", \"smoker\",\"day\", \"time\"]\n",
    "all_quan_cols = [\"total_bill\", \"size\"]\n",
    "\n",
    "score_counter = 0\n",
    "\n",
    "for qual in all_qual_cols:\n",
    "  qual_cols = [col for col in X_train.columns if qual in col ]\n",
    "  for quan in range(1, len(all_quan_cols) + 1):\n",
    "    for comb in combinations(all_quan_cols, quan):\n",
    "      cols = list(comb) + qual_cols\n",
    "      print(cols)\n",
    "      # training LR model and scoring it\n",
    "      LR = LogisticRegression()\n",
    "      #using cross validation on LR to avoid overfitting\n",
    "      cv_scores_LR = cross_val_score(LR, X_train[cols], y_train, cv = 5) #training on remaining 80% of data\n",
    "\n",
    "      if cv_scores_LR.mean() > score_counter:\n",
    "        #updating the best score and columns of that score\n",
    "        score_counter = cv_scores_LR.mean()\n",
    "        col_best = cols\n",
    "\n",
    "print('Best Score: ', score_counter)\n",
    "print('Best Columns: ', col_best)"
   ]
  },
  {
   "cell_type": "code",
   "execution_count": 39,
   "metadata": {},
   "outputs": [
    {
     "data": {
      "text/plain": [
       "0.4307692307692308"
      ]
     },
     "execution_count": 39,
     "metadata": {},
     "output_type": "execute_result"
    }
   ],
   "source": [
    "cols = col_best\n",
    "\n",
    "LR = LogisticRegression()\n",
    "LR.fit(X_train[cols], y_train)\n",
    "LR.score(X_train[cols], y_train)"
   ]
  },
  {
   "cell_type": "markdown",
   "metadata": {},
   "source": [
    "### Combination Logistic Regression Score on Testing Data"
   ]
  },
  {
   "cell_type": "code",
   "execution_count": 40,
   "metadata": {},
   "outputs": [
    {
     "name": "stdout",
     "output_type": "stream",
     "text": [
      "['total_bill', 'sex_encoded']\n",
      "['size', 'sex_encoded']\n",
      "['total_bill', 'size', 'sex_encoded']\n",
      "['total_bill', 'smoker_encoded']\n",
      "['size', 'smoker_encoded']\n",
      "['total_bill', 'size', 'smoker_encoded']\n",
      "['total_bill', 'day_encoded']\n",
      "['size', 'day_encoded']\n",
      "['total_bill', 'size', 'day_encoded']\n",
      "['total_bill', 'time_encoded']\n",
      "['size', 'time_encoded']\n",
      "['total_bill', 'size', 'time_encoded']\n",
      "Best Score:  0.49111111111111116\n",
      "Best Three Columns:  ['total_bill', 'size', 'day_encoded']\n"
     ]
    }
   ],
   "source": [
    "from itertools import combinations\n",
    "from sklearn.model_selection import cross_val_score\n",
    "\n",
    "all_qual_cols= [\"sex\", \"smoker\",\"day\", \"time\"]\n",
    "all_quan_cols = [\"total_bill\", \"size\"]\n",
    "\n",
    "score_counter = 0\n",
    "\n",
    "for qual in all_qual_cols:\n",
    "  qual_cols = [col for col in X_train.columns if qual in col ]\n",
    "  for quan in range(1, len(all_quan_cols) + 1):\n",
    "    for comb in combinations(all_quan_cols, quan):\n",
    "      cols = list(comb) + qual_cols\n",
    "      print(cols)\n",
    "    # training LR model and scoring it\n",
    "    LR = LogisticRegression()\n",
    "    #using cross validation on LR to avoid overfitting\n",
    "    cv_scores_LR = cross_val_score(LR, X_test[cols], y_test, cv = 5) #training on remaining 80% of data\n",
    "\n",
    "    if cv_scores_LR.mean() > score_counter:\n",
    "      #updating the best score and columns of that score\n",
    "      score_counter = cv_scores_LR.mean()\n",
    "      col_best = cols\n",
    "\n",
    "print('Best Score: ', score_counter)\n",
    "print('Best Three Columns: ', col_best)"
   ]
  },
  {
   "cell_type": "code",
   "execution_count": 41,
   "metadata": {},
   "outputs": [
    {
     "data": {
      "text/plain": [
       "0.5510204081632653"
      ]
     },
     "execution_count": 41,
     "metadata": {},
     "output_type": "execute_result"
    }
   ],
   "source": [
    "cols = col_best\n",
    "\n",
    "LR = LogisticRegression()\n",
    "LR.fit(X_test[cols], y_test)\n",
    "LR.score(X_test[cols], y_test)"
   ]
  },
  {
   "cell_type": "markdown",
   "metadata": {},
   "source": [
    "# Logistic Regression with Optimization Score"
   ]
  },
  {
   "cell_type": "code",
   "execution_count": 21,
   "metadata": {},
   "outputs": [],
   "source": [
    "from sklearn.model_selection import cross_val_score\n",
    "from GDO import LogisticRegression, GradientDescentOptimizer\n",
    "import torch"
   ]
  },
  {
   "cell_type": "code",
   "execution_count": 22,
   "metadata": {},
   "outputs": [],
   "source": [
    "X_train_tensor = torch.tensor(X_train.values, dtype=torch.double)\n",
    "y_train_tensor = torch.tensor(y_train.values, dtype=torch.double)"
   ]
  },
  {
   "cell_type": "code",
   "execution_count": 23,
   "metadata": {},
   "outputs": [],
   "source": [
    "LRO = LogisticRegression()\n",
    "opt = GradientDescentOptimizer(LRO)"
   ]
  },
  {
   "cell_type": "code",
   "execution_count": 24,
   "metadata": {},
   "outputs": [
    {
     "name": "stdout",
     "output_type": "stream",
     "text": [
      "self.w inside of if statnemt tensor([0.9794, 0.9434, 0.9705, 0.6971, 0.0150, 0.7208], dtype=torch.float64)\n",
      "s:  tensor([18.4002, 39.2296, 10.2992, 15.9717, 18.7606, 10.6426, 14.6587, 17.0458,\n",
      "        21.3119,  8.8852, 10.9493, 16.9022, 20.3179, 10.3532, 19.1190, 28.1671,\n",
      "        13.0849, 17.2162, 11.7989, 12.9429, 18.4654, 18.5455, 20.5560, 33.5983,\n",
      "        17.2090, 21.7481, 28.8578, 15.1072, 15.2290, 15.7807, 18.9970, 15.6579,\n",
      "        23.6441, 22.6541, 26.3999, 24.5694, 17.7816, 16.1296, 29.1262, 13.5904,\n",
      "        17.7248, 33.0605, 27.6198, 10.8290, 26.1989, 21.6947, 40.0357, 26.5229,\n",
      "        29.4399, 12.7756, 13.2646, 13.9258, 16.1086,  9.7364, 13.4001, 16.0170,\n",
      "        13.2398, 21.2112, 18.3463, 16.3725, 21.3741, 23.5331, 16.5485,  9.0334,\n",
      "        24.8385, 20.5392, 17.4390,  4.0778, 10.1301, 12.0062, 20.5368, 15.7939,\n",
      "        35.3009, 21.6737, 14.2934, 12.2840, 12.4480, 19.2835, 16.9503, 23.3991,\n",
      "        13.3821, 11.5939, 20.1297, 12.2360, 23.2109, 34.9539, 12.1673, 41.1188,\n",
      "        13.0826,  8.7499, 21.6405, 10.8620, 11.7161, 15.9578, 13.9632, 13.6382,\n",
      "        25.8398, 16.7533, 12.0062, 16.8640, 26.7729, 14.8183, 16.5997, 19.5155,\n",
      "         9.6099, 17.4850, 12.4211, 14.5751, 14.3763, 15.2226, 10.8729, 16.0449,\n",
      "        19.2480,  8.8614, 10.7820, 17.9210, 11.7171, 11.9094, 15.4045, 12.0019,\n",
      "        11.8102, 11.2036, 15.1229, 14.4636, 10.2801, 18.7495, 14.9686, 18.2835,\n",
      "        11.3198, 25.5714, 29.1672,  9.5892, 18.3364, 31.1400, 12.0238, 10.7156,\n",
      "        24.3192, 12.3644, 15.0499, 14.3450, 12.8923, 15.3628, 20.9838, 11.8118,\n",
      "        16.3377, 12.7330, 31.9043, 19.4406, 11.4754, 11.4731, 13.1701,  9.6091,\n",
      "        20.8748, 24.5039, 11.1305, 15.7025, 17.0767, 39.2714,  6.9254, 25.7029,\n",
      "        17.6308, 22.6951, 27.7776, 12.3086, 23.8322, 21.8034, 34.7769, 13.0508,\n",
      "        11.0824, 16.6340, 14.4558, 27.6861, 11.6288, 19.8371, 17.0590, 19.9349,\n",
      "        13.7316, 14.7685, 22.3336, 15.1812,  8.9694, 26.5717,  8.6918, 22.0021,\n",
      "        13.2496, 15.7835, 10.9211, 18.4290, 13.2424, 14.3822, 13.3403, 10.4675,\n",
      "        13.8951, 26.4454, 14.3691], dtype=torch.float64)\n",
      "sigma_s: tensor([1.0000, 1.0000, 1.0000, 1.0000, 1.0000, 1.0000, 1.0000, 1.0000, 1.0000,\n",
      "        0.9999, 1.0000, 1.0000, 1.0000, 1.0000, 1.0000, 1.0000, 1.0000, 1.0000,\n",
      "        1.0000, 1.0000, 1.0000, 1.0000, 1.0000, 1.0000, 1.0000, 1.0000, 1.0000,\n",
      "        1.0000, 1.0000, 1.0000, 1.0000, 1.0000, 1.0000, 1.0000, 1.0000, 1.0000,\n",
      "        1.0000, 1.0000, 1.0000, 1.0000, 1.0000, 1.0000, 1.0000, 1.0000, 1.0000,\n",
      "        1.0000, 1.0000, 1.0000, 1.0000, 1.0000, 1.0000, 1.0000, 1.0000, 0.9999,\n",
      "        1.0000, 1.0000, 1.0000, 1.0000, 1.0000, 1.0000, 1.0000, 1.0000, 1.0000,\n",
      "        0.9999, 1.0000, 1.0000, 1.0000, 0.9833, 1.0000, 1.0000, 1.0000, 1.0000,\n",
      "        1.0000, 1.0000, 1.0000, 1.0000, 1.0000, 1.0000, 1.0000, 1.0000, 1.0000,\n",
      "        1.0000, 1.0000, 1.0000, 1.0000, 1.0000, 1.0000, 1.0000, 1.0000, 0.9998,\n",
      "        1.0000, 1.0000, 1.0000, 1.0000, 1.0000, 1.0000, 1.0000, 1.0000, 1.0000,\n",
      "        1.0000, 1.0000, 1.0000, 1.0000, 1.0000, 0.9999, 1.0000, 1.0000, 1.0000,\n",
      "        1.0000, 1.0000, 1.0000, 1.0000, 1.0000, 0.9999, 1.0000, 1.0000, 1.0000,\n",
      "        1.0000, 1.0000, 1.0000, 1.0000, 1.0000, 1.0000, 1.0000, 1.0000, 1.0000,\n",
      "        1.0000, 1.0000, 1.0000, 1.0000, 1.0000, 0.9999, 1.0000, 1.0000, 1.0000,\n",
      "        1.0000, 1.0000, 1.0000, 1.0000, 1.0000, 1.0000, 1.0000, 1.0000, 1.0000,\n",
      "        1.0000, 1.0000, 1.0000, 1.0000, 1.0000, 1.0000, 1.0000, 0.9999, 1.0000,\n",
      "        1.0000, 1.0000, 1.0000, 1.0000, 1.0000, 0.9990, 1.0000, 1.0000, 1.0000,\n",
      "        1.0000, 1.0000, 1.0000, 1.0000, 1.0000, 1.0000, 1.0000, 1.0000, 1.0000,\n",
      "        1.0000, 1.0000, 1.0000, 1.0000, 1.0000, 1.0000, 1.0000, 1.0000, 1.0000,\n",
      "        0.9999, 1.0000, 0.9998, 1.0000, 1.0000, 1.0000, 1.0000, 1.0000, 1.0000,\n",
      "        1.0000, 1.0000, 1.0000, 1.0000, 1.0000, 1.0000], dtype=torch.float64)\n",
      "y tensor([[10.],\n",
      "        [10.],\n",
      "        [10.],\n",
      "        [10.],\n",
      "        [10.],\n",
      "        [10.],\n",
      "        [15.],\n",
      "        [10.],\n",
      "        [ 0.],\n",
      "        [25.],\n",
      "        [10.],\n",
      "        [ 0.],\n",
      "        [10.],\n",
      "        [10.],\n",
      "        [20.],\n",
      "        [15.],\n",
      "        [15.],\n",
      "        [10.],\n",
      "        [15.],\n",
      "        [10.],\n",
      "        [15.],\n",
      "        [15.],\n",
      "        [ 0.],\n",
      "        [10.],\n",
      "        [15.],\n",
      "        [25.],\n",
      "        [10.],\n",
      "        [15.],\n",
      "        [10.],\n",
      "        [15.],\n",
      "        [15.],\n",
      "        [15.],\n",
      "        [15.],\n",
      "        [10.],\n",
      "        [15.],\n",
      "        [10.],\n",
      "        [15.],\n",
      "        [15.],\n",
      "        [10.],\n",
      "        [15.],\n",
      "        [ 0.],\n",
      "        [15.],\n",
      "        [10.],\n",
      "        [20.],\n",
      "        [10.],\n",
      "        [10.],\n",
      "        [15.],\n",
      "        [ 0.],\n",
      "        [10.],\n",
      "        [10.],\n",
      "        [10.],\n",
      "        [20.],\n",
      "        [10.],\n",
      "        [20.],\n",
      "        [15.],\n",
      "        [15.],\n",
      "        [15.],\n",
      "        [15.],\n",
      "        [20.],\n",
      "        [15.],\n",
      "        [10.],\n",
      "        [20.],\n",
      "        [15.],\n",
      "        [15.],\n",
      "        [15.],\n",
      "        [15.],\n",
      "        [15.],\n",
      "        [25.],\n",
      "        [15.],\n",
      "        [10.],\n",
      "        [ 0.],\n",
      "        [10.],\n",
      "        [10.],\n",
      "        [10.],\n",
      "        [25.],\n",
      "        [10.],\n",
      "        [15.],\n",
      "        [10.],\n",
      "        [ 0.],\n",
      "        [15.],\n",
      "        [20.],\n",
      "        [10.],\n",
      "        [10.],\n",
      "        [15.],\n",
      "        [15.],\n",
      "        [10.],\n",
      "        [15.],\n",
      "        [ 0.],\n",
      "        [10.],\n",
      "        [15.],\n",
      "        [10.],\n",
      "        [15.],\n",
      "        [25.],\n",
      "        [20.],\n",
      "        [10.],\n",
      "        [15.],\n",
      "        [ 0.],\n",
      "        [20.],\n",
      "        [10.],\n",
      "        [10.],\n",
      "        [15.],\n",
      "        [10.],\n",
      "        [10.],\n",
      "        [10.],\n",
      "        [20.],\n",
      "        [15.],\n",
      "        [ 0.],\n",
      "        [ 0.],\n",
      "        [10.],\n",
      "        [20.],\n",
      "        [15.],\n",
      "        [ 0.],\n",
      "        [15.],\n",
      "        [10.],\n",
      "        [15.],\n",
      "        [15.],\n",
      "        [10.],\n",
      "        [ 0.],\n",
      "        [15.],\n",
      "        [15.],\n",
      "        [15.],\n",
      "        [10.],\n",
      "        [15.],\n",
      "        [15.],\n",
      "        [10.],\n",
      "        [15.],\n",
      "        [15.],\n",
      "        [10.],\n",
      "        [15.],\n",
      "        [ 0.],\n",
      "        [10.],\n",
      "        [15.],\n",
      "        [10.],\n",
      "        [10.],\n",
      "        [10.],\n",
      "        [10.],\n",
      "        [10.],\n",
      "        [15.],\n",
      "        [15.],\n",
      "        [10.],\n",
      "        [25.],\n",
      "        [20.],\n",
      "        [20.],\n",
      "        [15.],\n",
      "        [20.],\n",
      "        [10.],\n",
      "        [ 0.],\n",
      "        [ 0.],\n",
      "        [15.],\n",
      "        [15.],\n",
      "        [10.],\n",
      "        [25.],\n",
      "        [20.],\n",
      "        [ 0.],\n",
      "        [10.],\n",
      "        [15.],\n",
      "        [10.],\n",
      "        [15.],\n",
      "        [15.],\n",
      "        [15.],\n",
      "        [10.],\n",
      "        [ 0.],\n",
      "        [ 0.],\n",
      "        [10.],\n",
      "        [ 0.],\n",
      "        [15.],\n",
      "        [ 0.],\n",
      "        [10.],\n",
      "        [15.],\n",
      "        [15.],\n",
      "        [10.],\n",
      "        [10.],\n",
      "        [15.],\n",
      "        [10.],\n",
      "        [10.],\n",
      "        [15.],\n",
      "        [10.],\n",
      "        [10.],\n",
      "        [ 0.],\n",
      "        [10.],\n",
      "        [15.],\n",
      "        [ 0.],\n",
      "        [25.],\n",
      "        [10.],\n",
      "        [10.],\n",
      "        [10.],\n",
      "        [15.],\n",
      "        [15.],\n",
      "        [25.],\n",
      "        [10.],\n",
      "        [20.],\n",
      "        [15.],\n",
      "        [10.],\n",
      "        [10.],\n",
      "        [10.]], dtype=torch.float64)\n"
     ]
    }
   ],
   "source": [
    "\n",
    "\n",
    "loss_vec = []\n",
    "\n",
    "for _ in range(1):\n",
    "    loss_var = LRO.loss(X_train_tensor,y_train_tensor)    \n",
    "    loss_vec.append(loss_var)\n",
    "    opt.step(X_train_tensor, y_train_tensor, alpha = 0.1, beta = 0.9) #optimizer with momentum\n"
   ]
  },
  {
   "cell_type": "markdown",
   "metadata": {},
   "source": [
    "### Plotting data and checking the prediction at 10,000 iterations"
   ]
  },
  {
   "cell_type": "code",
   "execution_count": 21,
   "metadata": {},
   "outputs": [
    {
     "ename": "NameError",
     "evalue": "name 'loss_vec' is not defined",
     "output_type": "error",
     "traceback": [
      "\u001b[0;31m---------------------------------------------------------------------------\u001b[0m",
      "\u001b[0;31mNameError\u001b[0m                                 Traceback (most recent call last)",
      "Cell \u001b[0;32mIn[21], line 1\u001b[0m\n\u001b[0;32m----> 1\u001b[0m plt\u001b[38;5;241m.\u001b[39mplot(torch\u001b[38;5;241m.\u001b[39marange(\u001b[38;5;241m1\u001b[39m, \u001b[38;5;28mlen\u001b[39m(\u001b[43mloss_vec\u001b[49m)\u001b[38;5;241m+\u001b[39m\u001b[38;5;241m1\u001b[39m), loss_vec, color \u001b[38;5;241m=\u001b[39m \u001b[38;5;124m\"\u001b[39m\u001b[38;5;124mblack\u001b[39m\u001b[38;5;124m\"\u001b[39m)\n\u001b[1;32m      2\u001b[0m plt\u001b[38;5;241m.\u001b[39msemilogx()\n\u001b[1;32m      3\u001b[0m plt\u001b[38;5;241m.\u001b[39mgrid(\u001b[38;5;28;01mTrue\u001b[39;00m)\n",
      "\u001b[0;31mNameError\u001b[0m: name 'loss_vec' is not defined"
     ]
    }
   ],
   "source": [
    "plt.plot(torch.arange(1, len(loss_vec)+1), loss_vec, color = \"black\")\n",
    "plt.semilogx()\n",
    "plt.grid(True)\n",
    "labs = plt.gca().set(xlabel = \"Number of gradient descent iterations\", ylabel = \"Loss (binary cross entropy)\")"
   ]
  },
  {
   "cell_type": "markdown",
   "metadata": {},
   "source": [
    "In this graph, we can see that as we increase the number of gradient descent optimizer iterations, the graph flattens out to reach convergence."
   ]
  },
  {
   "cell_type": "code",
   "execution_count": 24,
   "metadata": {},
   "outputs": [
    {
     "name": "stdout",
     "output_type": "stream",
     "text": [
      "X:  tensor([[ 2.0000,  1.0000,  0.0000, 17.3100,  0.0000,  0.0000],\n",
      "        [ 4.0000,  1.0000,  0.0000, 21.5000,  0.0000,  1.0000],\n",
      "        [ 2.0000,  1.0000,  1.0000, 13.4200,  1.0000,  1.0000],\n",
      "        ...,\n",
      "        [ 2.0000,  0.0000,  1.0000, 16.4300,  0.0000,  0.0000],\n",
      "        [ 4.0000,  1.0000,  0.0000, 16.4900,  0.0000,  1.0000],\n",
      "        [ 2.0000,  1.0000,  0.0000, 12.4600,  0.0000,  1.0000]],\n",
      "       dtype=torch.float64)\n",
      "self.w score tensor([0.8383, 0.5170, 0.4535, 0.5425, 0.1639, 0.7554])\n"
     ]
    }
   ],
   "source": [
    "from GDO import LogisticRegression\n",
    "\n",
    "LRO = LogisticRegression()\n",
    "\n",
    "GDO_predict = (1.0 * (LRO.predict(X_train_tensor) == y_train_tensor)).mean()\n",
    "print(\"Prediction Accuracy with Gradient Descent Optimizer Training Data: \", float(GDO_predict))"
   ]
  },
  {
   "cell_type": "markdown",
   "metadata": {},
   "source": [
    "### Running Gradient Descent on Testing Data"
   ]
  },
  {
   "cell_type": "code",
   "execution_count": null,
   "metadata": {},
   "outputs": [
    {
     "name": "stdout",
     "output_type": "stream",
     "text": [
      "X:  tensor([[ 2.0000,  1.0000,  0.0000, 20.2900,  0.0000,  0.0000],\n",
      "        [ 2.0000,  1.0000,  0.0000, 20.9200,  0.0000,  0.0000],\n",
      "        [ 4.0000,  1.0000,  0.0000, 30.4000,  0.0000,  1.0000],\n",
      "        [ 4.0000,  1.0000,  0.0000, 18.3500,  0.0000,  1.0000],\n",
      "        [ 4.0000,  1.0000,  0.0000, 25.5600,  0.0000,  1.0000],\n",
      "        [ 2.0000,  0.0000,  1.0000, 13.0300,  0.0000,  1.0000],\n",
      "        [ 3.0000,  1.0000,  0.0000, 20.6500,  0.0000,  1.0000],\n",
      "        [ 2.0000,  0.0000,  1.0000, 14.5200,  0.0000,  0.0000],\n",
      "        [ 3.0000,  1.0000,  0.0000, 16.9700,  0.0000,  0.0000],\n",
      "        [ 2.0000,  1.0000,  0.0000, 12.9000,  1.0000,  0.0000],\n",
      "        [ 1.0000,  1.0000,  0.0000,  7.2500,  0.0000,  0.0000],\n",
      "        [ 2.0000,  1.0000,  0.0000,  9.6800,  0.0000,  1.0000],\n",
      "        [ 4.0000,  1.0000,  0.0000, 23.1700,  1.0000,  1.0000],\n",
      "        [ 2.0000,  1.0000,  0.0000, 14.8300,  0.0000,  0.0000],\n",
      "        [ 2.0000,  0.0000,  1.0000, 13.4200,  0.0000,  0.0000],\n",
      "        [ 2.0000,  0.0000,  1.0000, 10.6500,  0.0000,  0.0000],\n",
      "        [ 3.0000,  1.0000,  0.0000, 28.5500,  0.0000,  1.0000],\n",
      "        [ 2.0000,  0.0000,  1.0000, 17.2900,  0.0000,  1.0000],\n",
      "        [ 5.0000,  1.0000,  0.0000, 28.1500,  1.0000,  1.0000],\n",
      "        [ 2.0000,  0.0000,  1.0000, 15.4800,  1.0000,  1.0000],\n",
      "        [ 2.0000,  1.0000,  1.0000, 13.4200,  1.0000,  0.0000],\n",
      "        [ 2.0000,  1.0000,  0.0000, 27.1800,  1.0000,  0.0000],\n",
      "        [ 2.0000,  1.0000,  0.0000, 32.8300,  1.0000,  1.0000],\n",
      "        [ 2.0000,  1.0000,  0.0000, 34.6300,  1.0000,  1.0000],\n",
      "        [ 3.0000,  1.0000,  0.0000, 15.6900,  1.0000,  1.0000],\n",
      "        [ 2.0000,  0.0000,  1.0000, 14.2600,  0.0000,  1.0000],\n",
      "        [ 2.0000,  1.0000,  0.0000, 26.4100,  0.0000,  0.0000],\n",
      "        [ 3.0000,  1.0000,  0.0000, 23.1000,  1.0000,  1.0000],\n",
      "        [ 2.0000,  1.0000,  0.0000, 10.5900,  1.0000,  0.0000],\n",
      "        [ 3.0000,  1.0000,  0.0000, 16.2900,  0.0000,  1.0000],\n",
      "        [ 2.0000,  0.0000,  1.0000, 16.5800,  1.0000,  1.0000],\n",
      "        [ 3.0000,  1.0000,  0.0000, 16.2100,  0.0000,  0.0000],\n",
      "        [ 2.0000,  1.0000,  0.0000, 20.7600,  0.0000,  1.0000],\n",
      "        [ 2.0000,  0.0000,  1.0000, 18.2600,  0.0000,  0.0000],\n",
      "        [ 3.0000,  1.0000,  0.0000, 28.1700,  1.0000,  0.0000],\n",
      "        [ 2.0000,  0.0000,  1.0000, 28.4400,  1.0000,  1.0000],\n",
      "        [ 2.0000,  1.0000,  0.0000,  9.6000,  1.0000,  0.0000],\n",
      "        [ 2.0000,  0.0000,  1.0000, 12.2600,  0.0000,  0.0000],\n",
      "        [ 2.0000,  1.0000,  0.0000, 19.6500,  0.0000,  0.0000],\n",
      "        [ 2.0000,  1.0000,  1.0000, 12.1600,  1.0000,  1.0000],\n",
      "        [ 2.0000,  1.0000,  0.0000, 17.3100,  0.0000,  0.0000],\n",
      "        [ 3.0000,  1.0000,  0.0000, 18.6900,  0.0000,  1.0000],\n",
      "        [ 2.0000,  0.0000,  1.0000, 16.0000,  1.0000,  1.0000],\n",
      "        [ 2.0000,  0.0000,  1.0000, 17.4700,  0.0000,  0.0000],\n",
      "        [ 2.0000,  0.0000,  1.0000, 13.5100,  1.0000,  1.0000],\n",
      "        [ 2.0000,  1.0000,  0.0000, 10.6300,  1.0000,  0.0000],\n",
      "        [ 1.0000,  1.0000,  1.0000,  8.5800,  1.0000,  1.0000],\n",
      "        [ 2.0000,  1.0000,  0.0000, 12.0300,  1.0000,  1.0000],\n",
      "        [ 4.0000,  1.0000,  0.0000, 24.0100,  1.0000,  1.0000]],\n",
      "       dtype=torch.float64)\n",
      "self.w score tensor([0.5054, 0.0323, 0.8663, 0.0796, 0.5821, 0.2387])\n"
     ]
    },
    {
     "ename": "RuntimeError",
     "evalue": "expected scalar type Double but found Float",
     "output_type": "error",
     "traceback": [
      "\u001b[0;31m---------------------------------------------------------------------------\u001b[0m",
      "\u001b[0;31mRuntimeError\u001b[0m                              Traceback (most recent call last)",
      "\u001b[1;32m/Users/lenoxherman/Tippers/ProjectFinal.ipynb Cell 35\u001b[0m line \u001b[0;36m9\n\u001b[1;32m      <a href='vscode-notebook-cell:/Users/lenoxherman/Tippers/ProjectFinal.ipynb#Y151sZmlsZQ%3D%3D?line=4'>5</a>\u001b[0m X_test_tensor \u001b[39m=\u001b[39m torch\u001b[39m.\u001b[39mtensor(X_test\u001b[39m.\u001b[39mvalues, dtype\u001b[39m=\u001b[39mtorch\u001b[39m.\u001b[39mdouble)\n\u001b[1;32m      <a href='vscode-notebook-cell:/Users/lenoxherman/Tippers/ProjectFinal.ipynb#Y151sZmlsZQ%3D%3D?line=5'>6</a>\u001b[0m y_test_tensor \u001b[39m=\u001b[39m torch\u001b[39m.\u001b[39mtensor(y_test\u001b[39m.\u001b[39mvalues, dtype\u001b[39m=\u001b[39mtorch\u001b[39m.\u001b[39mdouble)\n\u001b[0;32m----> <a href='vscode-notebook-cell:/Users/lenoxherman/Tippers/ProjectFinal.ipynb#Y151sZmlsZQ%3D%3D?line=8'>9</a>\u001b[0m GDO_predict \u001b[39m=\u001b[39m (\u001b[39m1.0\u001b[39m \u001b[39m*\u001b[39m (LRO\u001b[39m.\u001b[39;49mpredict(X_test_tensor) \u001b[39m==\u001b[39m y_test_tensor))\u001b[39m.\u001b[39mmean()\n\u001b[1;32m     <a href='vscode-notebook-cell:/Users/lenoxherman/Tippers/ProjectFinal.ipynb#Y151sZmlsZQ%3D%3D?line=9'>10</a>\u001b[0m \u001b[39mprint\u001b[39m(\u001b[39m\"\u001b[39m\u001b[39mPrediction Accuracy with Gradient Descent Optimizer Testing Data: \u001b[39m\u001b[39m\"\u001b[39m, \u001b[39mfloat\u001b[39m(GDO_predict))\n",
      "File \u001b[0;32m~/Tippers/GDO.py:49\u001b[0m, in \u001b[0;36mLinearModel.predict\u001b[0;34m(self, X)\u001b[0m\n\u001b[1;32m     36\u001b[0m \u001b[39mdef\u001b[39;00m \u001b[39mpredict\u001b[39m(\u001b[39mself\u001b[39m, X):\n\u001b[1;32m     37\u001b[0m \u001b[39m    \u001b[39m\u001b[39m\"\"\"\u001b[39;00m\n\u001b[1;32m     38\u001b[0m \u001b[39m    Compute the predictions for each data point in the feature matrix X. The prediction for the ith data point is either 0 or 1. \u001b[39;00m\n\u001b[1;32m     39\u001b[0m \n\u001b[0;32m   (...)\u001b[0m\n\u001b[1;32m     47\u001b[0m \u001b[39m        y_hat, torch.Tensor: vector predictions in {0.0, 1.0}. y_hat.size() = (n,)\u001b[39;00m\n\u001b[1;32m     48\u001b[0m \u001b[39m    \"\"\"\u001b[39;00m\n\u001b[0;32m---> 49\u001b[0m     scores \u001b[39m=\u001b[39m \u001b[39mself\u001b[39;49m\u001b[39m.\u001b[39;49mscore(X\u001b[39m.\u001b[39;49mdouble())\u001b[39m.\u001b[39mdouble()\n\u001b[1;32m     50\u001b[0m     y_hat \u001b[39m=\u001b[39m torch\u001b[39m.\u001b[39mwhere(scores \u001b[39m>\u001b[39m\u001b[39m=\u001b[39m \u001b[39m0\u001b[39m, torch\u001b[39m.\u001b[39mtensor(\u001b[39m1.0\u001b[39m), torch\u001b[39m.\u001b[39mtensor(\u001b[39m0.0\u001b[39m))\n\u001b[1;32m     51\u001b[0m     \u001b[39mreturn\u001b[39;00m y_hat\n",
      "File \u001b[0;32m~/Tippers/GDO.py:33\u001b[0m, in \u001b[0;36mLinearModel.score\u001b[0;34m(self, X)\u001b[0m\n\u001b[1;32m     31\u001b[0m \u001b[39mprint\u001b[39m(\u001b[39m\"\u001b[39m\u001b[39mX: \u001b[39m\u001b[39m\"\u001b[39m, X)\n\u001b[1;32m     32\u001b[0m \u001b[39mprint\u001b[39m(\u001b[39m\"\u001b[39m\u001b[39mself.w score\u001b[39m\u001b[39m\"\u001b[39m, \u001b[39mself\u001b[39m\u001b[39m.\u001b[39mw)\n\u001b[0;32m---> 33\u001b[0m scores \u001b[39m=\u001b[39m (X\u001b[39m.\u001b[39;49mdouble()\u001b[39m@self\u001b[39;49m\u001b[39m.\u001b[39;49mw)\u001b[39m.\u001b[39mdouble()\n\u001b[1;32m     34\u001b[0m \u001b[39mreturn\u001b[39;00m scores\n",
      "\u001b[0;31mRuntimeError\u001b[0m: expected scalar type Double but found Float"
     ]
    }
   ],
   "source": [
    "from GDO import LogisticRegression\n",
    "\n",
    "LRO = LogisticRegression()\n",
    "\n",
    "X_test_tensor = torch.tensor(X_test.values, dtype=torch.double)\n",
    "y_test_tensor = torch.tensor(y_test.values, dtype=torch.double)\n",
    "\n",
    "\n",
    "GDO_predict = (1.0 * (LRO.predict(X_test_tensor) == y_test_tensor)).mean()\n",
    "print(\"Prediction Accuracy with Gradient Descent Optimizer Testing Data: \", float(GDO_predict))"
   ]
  },
  {
   "cell_type": "markdown",
   "metadata": {},
   "source": [
    "# Decision Tree Classifier Model Prediction Score"
   ]
  },
  {
   "cell_type": "code",
   "execution_count": 42,
   "metadata": {},
   "outputs": [
    {
     "name": "stdout",
     "output_type": "stream",
     "text": [
      "Best score:  0.4461538461538462\n",
      "Best depth:  49\n"
     ]
    }
   ],
   "source": [
    "from sklearn.tree import DecisionTreeClassifier\n",
    "from sklearn.model_selection import cross_val_score\n",
    "\n",
    "\n",
    "score_counter = 0\n",
    "for i in range(1, 50):\n",
    "    DTC = DecisionTreeClassifier(max_depth= i)\n",
    "    cv_scores= cross_val_score(DTC, X_train, y_train, cv= 5)\n",
    "    if(cv_scores.mean() > score_counter):\n",
    "        score_counter = cv_scores.mean()\n",
    "\n",
    "print(\"Best score: \" , score_counter)\n",
    "print(\"Best depth: \" , i)\n",
    "\n"
   ]
  },
  {
   "cell_type": "markdown",
   "metadata": {},
   "source": [
    "### Combination Decision Tree Classifier on Training Data"
   ]
  },
  {
   "cell_type": "code",
   "execution_count": 43,
   "metadata": {},
   "outputs": [
    {
     "name": "stdout",
     "output_type": "stream",
     "text": [
      "['total_bill', 'sex_encoded']\n",
      "['size', 'sex_encoded']\n",
      "['total_bill', 'size', 'sex_encoded']\n",
      "['total_bill', 'smoker_encoded']\n",
      "['size', 'smoker_encoded']\n",
      "['total_bill', 'size', 'smoker_encoded']\n",
      "['total_bill', 'day_encoded']\n",
      "['size', 'day_encoded']\n",
      "['total_bill', 'size', 'day_encoded']\n",
      "['total_bill', 'time_encoded']\n",
      "['size', 'time_encoded']\n",
      "['total_bill', 'size', 'time_encoded']\n",
      "Best Score:  0.4615384615384615\n",
      "Best Three Columns:  ['total_bill', 'smoker_encoded']\n",
      "At depth:  9\n"
     ]
    }
   ],
   "source": [
    "from itertools import combinations\n",
    "from sklearn.model_selection import cross_val_score\n",
    "from sklearn.tree import DecisionTreeClassifier\n",
    "\n",
    "all_qual_cols= [\"sex\", \"smoker\",\"day\", \"time\"]\n",
    "all_quan_cols = [\"total_bill\", \"size\", ]\n",
    "\n",
    "score_counter = 0\n",
    "\n",
    "for qual in all_qual_cols:\n",
    "  qual_cols = [col for col in X_train.columns if qual in col ]\n",
    "  for quan in range(1, len(all_quan_cols) + 1):\n",
    "    for comb in combinations(all_quan_cols, quan):\n",
    "      cols = list(comb) + qual_cols\n",
    "      print(cols)\n",
    "      # training DTC model and scoring it\n",
    "      for i in range(1,10):\n",
    "        #setting the max depth to be between 1-19 and iterating through each one\n",
    "        DTC = DecisionTreeClassifier(max_depth=i)\n",
    "        #using cross validation on DTC to avoid overfitting\n",
    "        cv_scores_DTC = cross_val_score(DTC, X_train[cols], y_train, cv = 5)\n",
    "        #updating the best score and columns of that score\n",
    "        if cv_scores_DTC.mean() > score_counter:\n",
    "          score_counter = cv_scores_DTC.mean()\n",
    "          col_best = cols\n",
    "    \n",
    "print('Best Score: ', score_counter)\n",
    "print('Best Three Columns: ', col_best)\n",
    "print('At depth: ', i)"
   ]
  },
  {
   "cell_type": "code",
   "execution_count": 44,
   "metadata": {},
   "outputs": [
    {
     "data": {
      "text/plain": [
       "0.7897435897435897"
      ]
     },
     "execution_count": 44,
     "metadata": {},
     "output_type": "execute_result"
    }
   ],
   "source": [
    "cols = col_best\n",
    "\n",
    "DTC = DecisionTreeClassifier(max_depth=i)\n",
    "DTC.fit(X_train[cols], y_train)\n",
    "DTC.score(X_train[cols], y_train)"
   ]
  },
  {
   "cell_type": "markdown",
   "metadata": {},
   "source": [
    "### Combination Decision Tree Classifier on Test Data"
   ]
  },
  {
   "cell_type": "code",
   "execution_count": 45,
   "metadata": {},
   "outputs": [
    {
     "name": "stdout",
     "output_type": "stream",
     "text": [
      "['total_bill', 'sex_encoded']\n",
      "['size', 'sex_encoded']\n",
      "['total_bill', 'size', 'sex_encoded']\n",
      "['total_bill', 'smoker_encoded']\n",
      "['size', 'smoker_encoded']\n",
      "['total_bill', 'size', 'smoker_encoded']\n",
      "['total_bill', 'day_encoded']\n",
      "['size', 'day_encoded']\n",
      "['total_bill', 'size', 'day_encoded']\n",
      "['total_bill', 'time_encoded']\n",
      "['size', 'time_encoded']\n",
      "['total_bill', 'size', 'time_encoded']\n",
      "Best Score:  0.4615384615384615\n",
      "Best Three Columns:  ['total_bill', 'smoker_encoded']\n",
      "At depth:  9\n"
     ]
    }
   ],
   "source": [
    "from itertools import combinations\n",
    "from sklearn.model_selection import cross_val_score\n",
    "from sklearn.tree import DecisionTreeClassifier\n",
    "\n",
    "all_qual_cols= [\"sex\", \"smoker\",\"day\", \"time\"]\n",
    "all_quan_cols = [\"total_bill\", \"size\", ]\n",
    "\n",
    "score_counter = 0\n",
    "\n",
    "for qual in all_qual_cols:\n",
    "  qual_cols = [col for col in X_test.columns if qual in col ]\n",
    "  for quan in range(1, len(all_quan_cols) + 1):\n",
    "    for comb in combinations(all_quan_cols, quan):\n",
    "      cols = list(comb) + qual_cols\n",
    "      print(cols)\n",
    "      # training DTC model and scoring it\n",
    "      for i in range(1,10):\n",
    "        #setting the max depth to be between 1-19 and iterating through each one\n",
    "        DTC = DecisionTreeClassifier(max_depth=i)\n",
    "        #using cross validation on DTC to avoid overfitting\n",
    "        cv_scores_DTC = cross_val_score(DTC, X_train[cols], y_train, cv = 5)\n",
    "        #updating the best score and columns of that score\n",
    "        if cv_scores_DTC.mean() > score_counter:\n",
    "          score_counter = cv_scores_DTC.mean()\n",
    "          col_best = cols\n",
    "    \n",
    "print('Best Score: ', score_counter)\n",
    "print('Best Three Columns: ', col_best)\n",
    "print('At depth: ', i)"
   ]
  },
  {
   "cell_type": "code",
   "execution_count": 46,
   "metadata": {},
   "outputs": [
    {
     "data": {
      "text/plain": [
       "0.24489795918367346"
      ]
     },
     "execution_count": 46,
     "metadata": {},
     "output_type": "execute_result"
    }
   ],
   "source": [
    "cols = col_best\n",
    "\n",
    "DTC = DecisionTreeClassifier(max_depth=i)\n",
    "DTC.fit(X_train[cols], y_train)\n",
    "DTC.score(X_test[cols], y_test)\n",
    "\n",
    "# THE CUT IS A SIGN OF OVERFITTING"
   ]
  },
  {
   "cell_type": "markdown",
   "metadata": {},
   "source": [
    "# Random Forest Classifier Prediction Score\n",
    "### Basic Random Forest Classifier\n"
   ]
  },
  {
   "cell_type": "code",
   "execution_count": 47,
   "metadata": {},
   "outputs": [],
   "source": [
    "from sklearn.ensemble import RandomForestClassifier\n",
    "\n",
    "RFC = RandomForestClassifier(n_estimators=100)\n",
    "RFC.fit(X_train, y_train)\n",
    "y_pred = RFC.predict(X_test)"
   ]
  },
  {
   "cell_type": "code",
   "execution_count": 48,
   "metadata": {},
   "outputs": [
    {
     "name": "stdout",
     "output_type": "stream",
     "text": [
      "Accuracy: 0.24489795918367346\n"
     ]
    }
   ],
   "source": [
    "from sklearn import metrics\n",
    "\n",
    "print(\"Accuracy:\", metrics.accuracy_score(y_test, y_pred))"
   ]
  },
  {
   "cell_type": "markdown",
   "metadata": {},
   "source": [
    "### Combinations Ranodm Forest Classifier on Training Data"
   ]
  },
  {
   "cell_type": "code",
   "execution_count": 49,
   "metadata": {},
   "outputs": [
    {
     "name": "stdout",
     "output_type": "stream",
     "text": [
      "['total_bill', 'sex_encoded']\n",
      "['size', 'sex_encoded']\n",
      "['total_bill', 'size', 'sex_encoded']\n",
      "['total_bill', 'smoker_encoded']\n",
      "['size', 'smoker_encoded']\n",
      "['total_bill', 'size', 'smoker_encoded']\n",
      "['total_bill', 'day_encoded']\n",
      "['size', 'day_encoded']\n",
      "['total_bill', 'size', 'day_encoded']\n",
      "['total_bill', 'time_encoded']\n",
      "['size', 'time_encoded']\n",
      "['total_bill', 'size', 'time_encoded']\n",
      "Best Score:  0.3897435897435898\n",
      "Best Columns:  ['size', 'time_encoded']\n"
     ]
    }
   ],
   "source": [
    "from itertools import combinations\n",
    "from sklearn.model_selection import cross_val_score\n",
    "from sklearn.tree import DecisionTreeClassifier\n",
    "\n",
    "all_qual_cols= [\"sex\", \"smoker\",\"day\", \"time\"]\n",
    "all_quan_cols = [\"total_bill\", \"size\", ]\n",
    "\n",
    "score_counter = 0\n",
    "\n",
    "for qual in all_qual_cols:\n",
    "  qual_cols = [col for col in X_train.columns if qual in col ]\n",
    "  for quan in range(1, len(all_quan_cols) + 1):\n",
    "    for comb in combinations(all_quan_cols, quan):\n",
    "      cols = list(comb) + qual_cols\n",
    "      print(cols)\n",
    "      # training RFC model and scoring it\n",
    "      for depth in range(1, 10):\n",
    "        RFC = RandomForestClassifier(n_estimators=10, max_depth=depth)\n",
    "        cv_scores_RFC = cross_val_score(RFC, X_train[cols], y_train, cv=5)\n",
    "        mean_score = cv_scores_RFC.mean()\n",
    "        # using cross validation on RFC to avoid overfitting \n",
    "\n",
    "      if cv_scores_RFC.mean() > score_counter:\n",
    "        #updating the best score and columns of that score\n",
    "        score_counter = cv_scores_RFC.mean()\n",
    "        col_best = cols\n",
    "\n",
    "print('Best Score: ', score_counter)\n",
    "print('Best Columns: ', col_best)"
   ]
  },
  {
   "cell_type": "code",
   "execution_count": 50,
   "metadata": {},
   "outputs": [
    {
     "name": "stdout",
     "output_type": "stream",
     "text": [
      "Accuracy: 0.4461538461538462\n"
     ]
    }
   ],
   "source": [
    "cols = col_best\n",
    "RFC = RandomForestClassifier(n_estimators=10, max_depth=depth)\n",
    "RFC.fit(X_train[cols], y_train)\n",
    "y_pred = RFC.predict(X_train[cols])\n",
    "\n",
    "print(\"Accuracy:\", metrics.accuracy_score(y_train, y_pred))"
   ]
  },
  {
   "cell_type": "markdown",
   "metadata": {},
   "source": [
    "### Combinations Random Forest Classifier on Testing Data"
   ]
  },
  {
   "cell_type": "code",
   "execution_count": 51,
   "metadata": {},
   "outputs": [
    {
     "name": "stdout",
     "output_type": "stream",
     "text": [
      "['total_bill', 'sex_encoded']\n",
      "['size', 'sex_encoded']\n",
      "['total_bill', 'size', 'sex_encoded']\n",
      "['total_bill', 'smoker_encoded']\n",
      "['size', 'smoker_encoded']\n",
      "['total_bill', 'size', 'smoker_encoded']\n",
      "['total_bill', 'day_encoded']\n",
      "['size', 'day_encoded']\n",
      "['total_bill', 'size', 'day_encoded']\n",
      "['total_bill', 'time_encoded']\n",
      "['size', 'time_encoded']\n",
      "['total_bill', 'size', 'time_encoded']\n",
      "Best Score:  0.40888888888888886\n",
      "Best Columns:  ['total_bill', 'size', 'smoker_encoded']\n"
     ]
    }
   ],
   "source": [
    "from itertools import combinations\n",
    "from sklearn.model_selection import cross_val_score\n",
    "from sklearn.tree import DecisionTreeClassifier\n",
    "\n",
    "all_qual_cols= [\"sex\", \"smoker\",\"day\", \"time\"]\n",
    "all_quan_cols = [\"total_bill\", \"size\", ]\n",
    "\n",
    "score_counter = 0\n",
    "\n",
    "for qual in all_qual_cols:\n",
    "  qual_cols = [col for col in X_test.columns if qual in col ]\n",
    "  for quan in range(1, len(all_quan_cols) + 1):\n",
    "    for comb in combinations(all_quan_cols, quan):\n",
    "      cols = list(comb) + qual_cols\n",
    "      print(cols)\n",
    "      # training RFC model and scoring it\n",
    "      for depth in range(1, 10):\n",
    "        RFC = RandomForestClassifier(n_estimators=10, max_depth=depth)\n",
    "        cv_scores_RFC = cross_val_score(RFC, X_test[cols], y_test, cv=5)\n",
    "        mean_score = cv_scores_RFC.mean()\n",
    "        # using cross validation on RFC to avoid overfitting \n",
    "\n",
    "      if cv_scores_RFC.mean() > score_counter:\n",
    "        #updating the best score and columns of that score\n",
    "        score_counter = cv_scores_RFC.mean()\n",
    "        col_best = cols\n",
    "\n",
    "print('Best Score: ', score_counter)\n",
    "print('Best Columns: ', col_best)"
   ]
  },
  {
   "cell_type": "code",
   "execution_count": 52,
   "metadata": {},
   "outputs": [
    {
     "name": "stdout",
     "output_type": "stream",
     "text": [
      "Accuracy: 0.32653061224489793\n"
     ]
    }
   ],
   "source": [
    "cols = col_best\n",
    "RFC = RandomForestClassifier(n_estimators=10, max_depth=depth)\n",
    "RFC.fit(X_train[cols], y_train)\n",
    "y_pred = RFC.predict(X_test[cols])\n",
    "\n",
    "print(\"Accuracy:\", metrics.accuracy_score(y_test, y_pred))"
   ]
  },
  {
   "cell_type": "markdown",
   "metadata": {},
   "source": [
    "\\begin{aligned}\n",
    "    \\mathbf{w}_{k+1} \\gets \\mathbf{w}_k - \\alpha \\nabla L(\\mathbf{w}_k) + \\beta(\\mathbf{w}_k - \\mathbf{w}_{k-1})\n",
    "\\end{aligned}\n",
    "\\tag{1}"
   ]
  },
  {
   "cell_type": "markdown",
   "metadata": {},
   "source": [
    "### Backround Notes \n",
    "\n",
    "- The bigger the bill, the bigger the tip (measured in percentage of bill, not by quantity) (Lynn et al., 2012).\n",
    "- In resturants, tipping does incentivize better service (Azar, 2009; Lynn & McCall, 2000)\n",
    "- Would be very interesting if race was included in this data set\n",
    "    - white servers get tipped more than black servers ((Lynn, Sturman, Ganley, Adams, Douglas & McNeil, 2008))\n",
    "- Also would be interesting to include age of tipper, seeing as older populations tip based on service whole younger generations tip back on precedent (Lynn and Katz)\n",
    "- Tipping behavoirs are stronger on the weekends(Conlin, Lynn & O’Donoghue, 2003)\n",
    "- Higher tips for waitresses compared to waiters (Lynn & Simons, 2000)\n",
    "    - (CAN WE SHOW THIS WITHIN OUR DATA?)\n",
    "- Michael Lynn, Patrick Jabbour, Woo Gon Kim,Who uses tips as a reward for service and when? An examination of potential moderators of the service–tipping relationship,Journal of Economic Psychology,Volume 33, Issue 1 2012,Pages 90-103,ISSN 0167-4870,https://doi.org/10.1016/j.joep.2011.09.009.(https://www.sciencedirect.com/science/article/pii/S0167487011001474)\n",
    "\n",
    "### To-Dos\n",
    "- Ask Phil about DTC on why we get really high scores on testing set\n",
    "    - lecture note 14 on own LR experiemnting with optimization--> implement torch\n",
    "- we have a sign of overfitting whe it goes from 0.4 to 0.24\n",
    "- Fix bug on our implementation of linear regression\n",
    "- Add comments and write ups to the code, maybe a abstract, backround or conclusion section? "
   ]
  }
 ],
 "metadata": {
  "kernelspec": {
   "display_name": "ml-0451",
   "language": "python",
   "name": "python3"
  },
  "language_info": {
   "codemirror_mode": {
    "name": "ipython",
    "version": 3
   },
   "file_extension": ".py",
   "mimetype": "text/x-python",
   "name": "python",
   "nbconvert_exporter": "python",
   "pygments_lexer": "ipython3",
   "version": "3.9.18"
  },
  "orig_nbformat": 4
 },
 "nbformat": 4,
 "nbformat_minor": 2
}
