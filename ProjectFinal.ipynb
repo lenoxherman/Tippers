{
 "cells": [
  {
   "cell_type": "code",
   "execution_count": 1,
   "metadata": {},
   "outputs": [],
   "source": [
    "%load_ext autoreload\n",
    "%autoreload 2\n",
    "import warnings \n",
    "warnings.filterwarnings('ignore')\n"
   ]
  },
  {
   "cell_type": "code",
   "execution_count": 2,
   "metadata": {},
   "outputs": [
    {
     "name": "stdout",
     "output_type": "stream",
     "text": [
      "Intel MKL WARNING: Support of Intel(R) Streaming SIMD Extensions 4.2 (Intel(R) SSE4.2) enabled only processors has been deprecated. Intel oneAPI Math Kernel Library 2025.0 will require Intel(R) Advanced Vector Extensions (Intel(R) AVX) instructions.\n",
      "Intel MKL WARNING: Support of Intel(R) Streaming SIMD Extensions 4.2 (Intel(R) SSE4.2) enabled only processors has been deprecated. Intel oneAPI Math Kernel Library 2025.0 will require Intel(R) Advanced Vector Extensions (Intel(R) AVX) instructions.\n"
     ]
    }
   ],
   "source": [
    "import pandas as pd \n",
    "import torch\n",
    "\n",
    "# not running\n",
    "\n",
    "file_path = '/Users/ddelgado/Tippers/tipDataSet/tip.csv'\n",
    "# Extract the CSV file from the zip archive\n",
    "\n",
    "# Load the CSV file into a pandas DataFrame\n",
    "df = pd.read_csv(file_path)\n"
   ]
  },
  {
   "cell_type": "code",
   "execution_count": null,
   "metadata": {},
   "outputs": [
    {
     "data": {
      "text/html": [
       "<div>\n",
       "<style scoped>\n",
       "    .dataframe tbody tr th:only-of-type {\n",
       "        vertical-align: middle;\n",
       "    }\n",
       "\n",
       "    .dataframe tbody tr th {\n",
       "        vertical-align: top;\n",
       "    }\n",
       "\n",
       "    .dataframe thead th {\n",
       "        text-align: right;\n",
       "    }\n",
       "</style>\n",
       "<table border=\"1\" class=\"dataframe\">\n",
       "  <thead>\n",
       "    <tr style=\"text-align: right;\">\n",
       "      <th></th>\n",
       "      <th>total_bill</th>\n",
       "      <th>tip</th>\n",
       "      <th>sex</th>\n",
       "      <th>smoker</th>\n",
       "      <th>day</th>\n",
       "      <th>time</th>\n",
       "      <th>size</th>\n",
       "    </tr>\n",
       "  </thead>\n",
       "  <tbody>\n",
       "    <tr>\n",
       "      <th>0</th>\n",
       "      <td>16.99</td>\n",
       "      <td>1.01</td>\n",
       "      <td>Female</td>\n",
       "      <td>No</td>\n",
       "      <td>Sun</td>\n",
       "      <td>Dinner</td>\n",
       "      <td>2</td>\n",
       "    </tr>\n",
       "    <tr>\n",
       "      <th>1</th>\n",
       "      <td>10.34</td>\n",
       "      <td>1.66</td>\n",
       "      <td>Male</td>\n",
       "      <td>No</td>\n",
       "      <td>Sun</td>\n",
       "      <td>Dinner</td>\n",
       "      <td>3</td>\n",
       "    </tr>\n",
       "    <tr>\n",
       "      <th>2</th>\n",
       "      <td>21.01</td>\n",
       "      <td>3.50</td>\n",
       "      <td>Male</td>\n",
       "      <td>No</td>\n",
       "      <td>Sun</td>\n",
       "      <td>Dinner</td>\n",
       "      <td>3</td>\n",
       "    </tr>\n",
       "    <tr>\n",
       "      <th>3</th>\n",
       "      <td>23.68</td>\n",
       "      <td>3.31</td>\n",
       "      <td>Male</td>\n",
       "      <td>No</td>\n",
       "      <td>Sun</td>\n",
       "      <td>Dinner</td>\n",
       "      <td>2</td>\n",
       "    </tr>\n",
       "    <tr>\n",
       "      <th>4</th>\n",
       "      <td>24.59</td>\n",
       "      <td>3.61</td>\n",
       "      <td>Female</td>\n",
       "      <td>No</td>\n",
       "      <td>Sun</td>\n",
       "      <td>Dinner</td>\n",
       "      <td>4</td>\n",
       "    </tr>\n",
       "    <tr>\n",
       "      <th>...</th>\n",
       "      <td>...</td>\n",
       "      <td>...</td>\n",
       "      <td>...</td>\n",
       "      <td>...</td>\n",
       "      <td>...</td>\n",
       "      <td>...</td>\n",
       "      <td>...</td>\n",
       "    </tr>\n",
       "    <tr>\n",
       "      <th>239</th>\n",
       "      <td>29.03</td>\n",
       "      <td>5.92</td>\n",
       "      <td>Male</td>\n",
       "      <td>No</td>\n",
       "      <td>Sat</td>\n",
       "      <td>Dinner</td>\n",
       "      <td>3</td>\n",
       "    </tr>\n",
       "    <tr>\n",
       "      <th>240</th>\n",
       "      <td>27.18</td>\n",
       "      <td>2.00</td>\n",
       "      <td>Female</td>\n",
       "      <td>Yes</td>\n",
       "      <td>Sat</td>\n",
       "      <td>Dinner</td>\n",
       "      <td>2</td>\n",
       "    </tr>\n",
       "    <tr>\n",
       "      <th>241</th>\n",
       "      <td>22.67</td>\n",
       "      <td>2.00</td>\n",
       "      <td>Male</td>\n",
       "      <td>Yes</td>\n",
       "      <td>Sat</td>\n",
       "      <td>Dinner</td>\n",
       "      <td>2</td>\n",
       "    </tr>\n",
       "    <tr>\n",
       "      <th>242</th>\n",
       "      <td>17.82</td>\n",
       "      <td>1.75</td>\n",
       "      <td>Male</td>\n",
       "      <td>No</td>\n",
       "      <td>Sat</td>\n",
       "      <td>Dinner</td>\n",
       "      <td>2</td>\n",
       "    </tr>\n",
       "    <tr>\n",
       "      <th>243</th>\n",
       "      <td>18.78</td>\n",
       "      <td>3.00</td>\n",
       "      <td>Female</td>\n",
       "      <td>No</td>\n",
       "      <td>Thur</td>\n",
       "      <td>Dinner</td>\n",
       "      <td>2</td>\n",
       "    </tr>\n",
       "  </tbody>\n",
       "</table>\n",
       "<p>244 rows × 7 columns</p>\n",
       "</div>"
      ],
      "text/plain": [
       "     total_bill   tip     sex smoker   day    time  size\n",
       "0         16.99  1.01  Female     No   Sun  Dinner     2\n",
       "1         10.34  1.66    Male     No   Sun  Dinner     3\n",
       "2         21.01  3.50    Male     No   Sun  Dinner     3\n",
       "3         23.68  3.31    Male     No   Sun  Dinner     2\n",
       "4         24.59  3.61  Female     No   Sun  Dinner     4\n",
       "..          ...   ...     ...    ...   ...     ...   ...\n",
       "239       29.03  5.92    Male     No   Sat  Dinner     3\n",
       "240       27.18  2.00  Female    Yes   Sat  Dinner     2\n",
       "241       22.67  2.00    Male    Yes   Sat  Dinner     2\n",
       "242       17.82  1.75    Male     No   Sat  Dinner     2\n",
       "243       18.78  3.00  Female     No  Thur  Dinner     2\n",
       "\n",
       "[244 rows x 7 columns]"
      ]
     },
     "execution_count": 656,
     "metadata": {},
     "output_type": "execute_result"
    }
   ],
   "source": [
    "df\n"
   ]
  },
  {
   "cell_type": "code",
   "execution_count": null,
   "metadata": {},
   "outputs": [],
   "source": [
    "from sklearn.preprocessing import LabelEncoder\n",
    "le = LabelEncoder()\n",
    "def prepare_data(df):\n",
    "  #removing columns that are not needed\n",
    "  # df.drop('smoker', axis=1, inplace=True)\n",
    "  day_mapping = {'Sun': 1, 'Sat': 1, 'Fri': 1, 'Thur':0}\n",
    "  # Create a new column 'day_encoded' based on Weekday or Weekend\n",
    "  df['day_encoded'] = df['day'].map(day_mapping)\n",
    "  # Create a new column \"time_encoded\" based on Lunch or Dinner\n",
    "  df['time_encoded'] = le.fit_transform(df['time'])\n",
    "  # Creates a new column 'smoker_encoded' based on Yes or No\n",
    "  df['smoker_encoded'] = le.fit_transform(df['smoker'])\n",
    "  # Creates a new column \"sex_encoded'\" based on female or male\n",
    "  df['sex_encoded'] = le.fit_transform(df['sex'])\n",
    "  # Creates a new column 'percent_tip' based on the percentage of the tip amount\n",
    "  df['percent_tip'] = (df['tip'] / df['total_bill']) * 100\n",
    "  # Round the 'percent_tip' column to two decimal places\n",
    "  df['percent_tip'] = df['percent_tip'].round()\n",
    "  #makes groups for tips to 25+\n",
    "  tip_groups = [0, 10, 15, 20, 25, float('inf')]\n",
    "  label_tip_groups = ['0-10%', '10-15%', '15-20%', '20-25%', '25+']\n",
    "  df['tip_groups'] = pd.cut(df['percent_tip'], bins = tip_groups, labels= label_tip_groups)\n",
    "  df['tip_groups'] = df['tip_groups'].astype(str)\n",
    "  df['tip_groups'] = df['tip_groups'].str.extract(r'(\\d+)').astype(float)\n",
    "\n",
    "  le.fit(df[\"tip_groups\"])\n",
    "  #turns the labels in 'tip' to a number\n",
    "  y = le.transform(df[\"tip_groups\"])\n",
    "  #print(y)\n",
    "  #removing 'tip' col bc now held by y\n",
    "  df = df.drop([\"tip_groups\"], axis = 1)\n",
    "\n",
    "#drop tip, and percent_tip?\n",
    "\n",
    "  #converted into “one-hot encoded” 0-1 columns\n",
    "  df = pd.get_dummies(df)\n",
    "  return df, y\n",
    "X_train, y_train = prepare_data(df)"
   ]
  },
  {
   "cell_type": "code",
   "execution_count": null,
   "metadata": {},
   "outputs": [
    {
     "data": {
      "text/html": [
       "<div>\n",
       "<style scoped>\n",
       "    .dataframe tbody tr th:only-of-type {\n",
       "        vertical-align: middle;\n",
       "    }\n",
       "\n",
       "    .dataframe tbody tr th {\n",
       "        vertical-align: top;\n",
       "    }\n",
       "\n",
       "    .dataframe thead th {\n",
       "        text-align: right;\n",
       "    }\n",
       "</style>\n",
       "<table border=\"1\" class=\"dataframe\">\n",
       "  <thead>\n",
       "    <tr style=\"text-align: right;\">\n",
       "      <th></th>\n",
       "      <th>total_bill</th>\n",
       "      <th>tip</th>\n",
       "      <th>sex</th>\n",
       "      <th>smoker</th>\n",
       "      <th>day</th>\n",
       "      <th>time</th>\n",
       "      <th>size</th>\n",
       "      <th>day_encoded</th>\n",
       "      <th>time_encoded</th>\n",
       "      <th>smoker_encoded</th>\n",
       "      <th>sex_encoded</th>\n",
       "      <th>percent_tip</th>\n",
       "      <th>tip_groups</th>\n",
       "    </tr>\n",
       "  </thead>\n",
       "  <tbody>\n",
       "    <tr>\n",
       "      <th>0</th>\n",
       "      <td>16.99</td>\n",
       "      <td>1.01</td>\n",
       "      <td>Female</td>\n",
       "      <td>No</td>\n",
       "      <td>Sun</td>\n",
       "      <td>Dinner</td>\n",
       "      <td>2</td>\n",
       "      <td>1</td>\n",
       "      <td>0</td>\n",
       "      <td>0</td>\n",
       "      <td>0</td>\n",
       "      <td>6.0</td>\n",
       "      <td>0.0</td>\n",
       "    </tr>\n",
       "    <tr>\n",
       "      <th>1</th>\n",
       "      <td>10.34</td>\n",
       "      <td>1.66</td>\n",
       "      <td>Male</td>\n",
       "      <td>No</td>\n",
       "      <td>Sun</td>\n",
       "      <td>Dinner</td>\n",
       "      <td>3</td>\n",
       "      <td>1</td>\n",
       "      <td>0</td>\n",
       "      <td>0</td>\n",
       "      <td>1</td>\n",
       "      <td>16.0</td>\n",
       "      <td>15.0</td>\n",
       "    </tr>\n",
       "    <tr>\n",
       "      <th>2</th>\n",
       "      <td>21.01</td>\n",
       "      <td>3.50</td>\n",
       "      <td>Male</td>\n",
       "      <td>No</td>\n",
       "      <td>Sun</td>\n",
       "      <td>Dinner</td>\n",
       "      <td>3</td>\n",
       "      <td>1</td>\n",
       "      <td>0</td>\n",
       "      <td>0</td>\n",
       "      <td>1</td>\n",
       "      <td>17.0</td>\n",
       "      <td>15.0</td>\n",
       "    </tr>\n",
       "    <tr>\n",
       "      <th>3</th>\n",
       "      <td>23.68</td>\n",
       "      <td>3.31</td>\n",
       "      <td>Male</td>\n",
       "      <td>No</td>\n",
       "      <td>Sun</td>\n",
       "      <td>Dinner</td>\n",
       "      <td>2</td>\n",
       "      <td>1</td>\n",
       "      <td>0</td>\n",
       "      <td>0</td>\n",
       "      <td>1</td>\n",
       "      <td>14.0</td>\n",
       "      <td>10.0</td>\n",
       "    </tr>\n",
       "    <tr>\n",
       "      <th>4</th>\n",
       "      <td>24.59</td>\n",
       "      <td>3.61</td>\n",
       "      <td>Female</td>\n",
       "      <td>No</td>\n",
       "      <td>Sun</td>\n",
       "      <td>Dinner</td>\n",
       "      <td>4</td>\n",
       "      <td>1</td>\n",
       "      <td>0</td>\n",
       "      <td>0</td>\n",
       "      <td>0</td>\n",
       "      <td>15.0</td>\n",
       "      <td>10.0</td>\n",
       "    </tr>\n",
       "    <tr>\n",
       "      <th>...</th>\n",
       "      <td>...</td>\n",
       "      <td>...</td>\n",
       "      <td>...</td>\n",
       "      <td>...</td>\n",
       "      <td>...</td>\n",
       "      <td>...</td>\n",
       "      <td>...</td>\n",
       "      <td>...</td>\n",
       "      <td>...</td>\n",
       "      <td>...</td>\n",
       "      <td>...</td>\n",
       "      <td>...</td>\n",
       "      <td>...</td>\n",
       "    </tr>\n",
       "    <tr>\n",
       "      <th>239</th>\n",
       "      <td>29.03</td>\n",
       "      <td>5.92</td>\n",
       "      <td>Male</td>\n",
       "      <td>No</td>\n",
       "      <td>Sat</td>\n",
       "      <td>Dinner</td>\n",
       "      <td>3</td>\n",
       "      <td>1</td>\n",
       "      <td>0</td>\n",
       "      <td>0</td>\n",
       "      <td>1</td>\n",
       "      <td>20.0</td>\n",
       "      <td>15.0</td>\n",
       "    </tr>\n",
       "    <tr>\n",
       "      <th>240</th>\n",
       "      <td>27.18</td>\n",
       "      <td>2.00</td>\n",
       "      <td>Female</td>\n",
       "      <td>Yes</td>\n",
       "      <td>Sat</td>\n",
       "      <td>Dinner</td>\n",
       "      <td>2</td>\n",
       "      <td>1</td>\n",
       "      <td>0</td>\n",
       "      <td>1</td>\n",
       "      <td>0</td>\n",
       "      <td>7.0</td>\n",
       "      <td>0.0</td>\n",
       "    </tr>\n",
       "    <tr>\n",
       "      <th>241</th>\n",
       "      <td>22.67</td>\n",
       "      <td>2.00</td>\n",
       "      <td>Male</td>\n",
       "      <td>Yes</td>\n",
       "      <td>Sat</td>\n",
       "      <td>Dinner</td>\n",
       "      <td>2</td>\n",
       "      <td>1</td>\n",
       "      <td>0</td>\n",
       "      <td>1</td>\n",
       "      <td>1</td>\n",
       "      <td>9.0</td>\n",
       "      <td>0.0</td>\n",
       "    </tr>\n",
       "    <tr>\n",
       "      <th>242</th>\n",
       "      <td>17.82</td>\n",
       "      <td>1.75</td>\n",
       "      <td>Male</td>\n",
       "      <td>No</td>\n",
       "      <td>Sat</td>\n",
       "      <td>Dinner</td>\n",
       "      <td>2</td>\n",
       "      <td>1</td>\n",
       "      <td>0</td>\n",
       "      <td>0</td>\n",
       "      <td>1</td>\n",
       "      <td>10.0</td>\n",
       "      <td>0.0</td>\n",
       "    </tr>\n",
       "    <tr>\n",
       "      <th>243</th>\n",
       "      <td>18.78</td>\n",
       "      <td>3.00</td>\n",
       "      <td>Female</td>\n",
       "      <td>No</td>\n",
       "      <td>Thur</td>\n",
       "      <td>Dinner</td>\n",
       "      <td>2</td>\n",
       "      <td>0</td>\n",
       "      <td>0</td>\n",
       "      <td>0</td>\n",
       "      <td>0</td>\n",
       "      <td>16.0</td>\n",
       "      <td>15.0</td>\n",
       "    </tr>\n",
       "  </tbody>\n",
       "</table>\n",
       "<p>244 rows × 13 columns</p>\n",
       "</div>"
      ],
      "text/plain": [
       "     total_bill   tip     sex smoker   day    time  size  day_encoded  \\\n",
       "0         16.99  1.01  Female     No   Sun  Dinner     2            1   \n",
       "1         10.34  1.66    Male     No   Sun  Dinner     3            1   \n",
       "2         21.01  3.50    Male     No   Sun  Dinner     3            1   \n",
       "3         23.68  3.31    Male     No   Sun  Dinner     2            1   \n",
       "4         24.59  3.61  Female     No   Sun  Dinner     4            1   \n",
       "..          ...   ...     ...    ...   ...     ...   ...          ...   \n",
       "239       29.03  5.92    Male     No   Sat  Dinner     3            1   \n",
       "240       27.18  2.00  Female    Yes   Sat  Dinner     2            1   \n",
       "241       22.67  2.00    Male    Yes   Sat  Dinner     2            1   \n",
       "242       17.82  1.75    Male     No   Sat  Dinner     2            1   \n",
       "243       18.78  3.00  Female     No  Thur  Dinner     2            0   \n",
       "\n",
       "     time_encoded  smoker_encoded  sex_encoded  percent_tip  tip_groups  \n",
       "0               0               0            0          6.0         0.0  \n",
       "1               0               0            1         16.0        15.0  \n",
       "2               0               0            1         17.0        15.0  \n",
       "3               0               0            1         14.0        10.0  \n",
       "4               0               0            0         15.0        10.0  \n",
       "..            ...             ...          ...          ...         ...  \n",
       "239             0               0            1         20.0        15.0  \n",
       "240             0               1            0          7.0         0.0  \n",
       "241             0               1            1          9.0         0.0  \n",
       "242             0               0            1         10.0         0.0  \n",
       "243             0               0            0         16.0        15.0  \n",
       "\n",
       "[244 rows x 13 columns]"
      ]
     },
     "execution_count": 658,
     "metadata": {},
     "output_type": "execute_result"
    }
   ],
   "source": [
    "df"
   ]
  },
  {
   "cell_type": "markdown",
   "metadata": {},
   "source": [
    "## Visualizations"
   ]
  },
  {
   "cell_type": "code",
   "execution_count": null,
   "metadata": {},
   "outputs": [
    {
     "data": {
      "image/png": "[encoded data removed]",
      "text/plain": [
       "<Figure size 640x480 with 1 Axes>"
      ]
     },
     "metadata": {},
     "output_type": "display_data"
    }
   ],
   "source": [
    "from matplotlib import pyplot as plt\n",
    "import seaborn as sns\n",
    "\n",
    "sns.barplot(data = df, x = \"size\", y = \"total_bill\", hue = \"time\")\n",
    "\n",
    "plt.title('')\n",
    "plt.grid(True)\n",
    "plt.show()"
   ]
  },
  {
   "cell_type": "code",
   "execution_count": null,
   "metadata": {},
   "outputs": [
    {
     "data": {
      "image/png": "[encoded data removed]",
      "text/plain": [
       "<Figure size 1000x600 with 1 Axes>"
      ]
     },
     "metadata": {},
     "output_type": "display_data"
    }
   ],
   "source": [
    "import pandas as pd\n",
    "import matplotlib.pyplot as plt\n",
    "import seaborn as sns\n",
    "\n",
    "plt.figure(figsize=(10, 6))\n",
    "sns.boxplot(x='size', y='total_bill', data=df, palette='viridis')\n",
    "plt.title('Distribution of Total Bill by Party Size', fontsize=14)\n",
    "plt.xlabel('Party Size', fontsize=12)\n",
    "plt.ylabel('Total Bill ($)', fontsize=12)\n",
    "plt.xticks(fontsize=10)\n",
    "plt.yticks(fontsize=10)\n",
    "plt.grid(axis='y', linestyle='--', alpha=0.7)\n",
    "plt.show()\n",
    "\n"
   ]
  },
  {
   "cell_type": "code",
   "execution_count": null,
   "metadata": {},
   "outputs": [
    {
     "data": {
      "image/png": "[encoded data removed]",
      "text/plain": [
       "<Figure size 800x600 with 1 Axes>"
      ]
     },
     "metadata": {},
     "output_type": "display_data"
    }
   ],
   "source": [
    "import pandas as pd\n",
    "import matplotlib.pyplot as plt\n",
    "import seaborn as sns\n",
    "\n",
    "plt.figure(figsize=(8, 6))\n",
    "sns.boxplot(x='smoker', y='total_bill', data=df, palette='Set2')\n",
    "plt.title('Distribution of Total Bill by Smoking Status', fontsize=14)\n",
    "plt.xlabel('Smoker', fontsize=12)\n",
    "plt.ylabel('Total Bill ($)', fontsize=12)\n",
    "plt.xticks([0, 1], ['Non-Smoker', 'Smoker'], fontsize=10)  # Customize x-axis labels\n",
    "plt.yticks(fontsize=10)\n",
    "plt.grid(axis='y', linestyle='--', alpha=0.7)\n",
    "plt.show()\n"
   ]
  },
  {
   "cell_type": "code",
   "execution_count": null,
   "metadata": {},
   "outputs": [
    {
     "data": {
      "image/png": "[encoded data removed]",
      "text/plain": [
       "<Figure size 800x600 with 1 Axes>"
      ]
     },
     "metadata": {},
     "output_type": "display_data"
    }
   ],
   "source": [
    "import pandas as pd\n",
    "import matplotlib.pyplot as plt\n",
    "import seaborn as sns\n",
    "\n",
    "plt.figure(figsize=(8, 6))\n",
    "sns.barplot(x='size', y='total_bill', hue='sex', data=df, palette='pastel')\n",
    "plt.title('Total Bill by Party Size and Gender', fontsize=14)\n",
    "plt.xlabel('Party Size', fontsize=12)\n",
    "plt.ylabel('Total Bill ($)', fontsize=12)\n",
    "plt.xticks(fontsize=10)\n",
    "plt.yticks(fontsize=10)\n",
    "plt.legend(title='Gender', fontsize=10, title_fontsize=10)\n",
    "plt.grid(axis='y', linestyle='--', alpha=0.7)\n",
    "plt.show()\n"
   ]
  },
  {
   "cell_type": "markdown",
   "metadata": {},
   "source": [
    "multi_class = multinomial for LR "
   ]
  },
  {
   "cell_type": "code",
   "execution_count": null,
   "metadata": {},
   "outputs": [],
   "source": [
    "from sklearn.model_selection import train_test_split\n",
    "\n",
    "df_train, df_test = train_test_split(df, test_size = 0.2)"
   ]
  },
  {
   "cell_type": "code",
   "execution_count": null,
   "metadata": {},
   "outputs": [],
   "source": [
    "\n",
    "all_quan_cols = [\"total_bill\", \"tip\", \"percent_tip\", \"size\", \"tip_groups\", \"day_encoded\"]\n",
    "all_qual_cols= [\"sex\", \"smoker\",\"day\", \"time\"]\n",
    "\n",
    "predictor_cols = [\"size\", \"day_encoded\", \"time_encoded\", \"total_bill\", \"smoker_encoded\",'sex_encoded']\n",
    "target_col = [\"tip_groups\"]\n",
    "\n",
    "X_train = df_train[predictor_cols]\n",
    "y_train = df_train[target_col]\n",
    "\n",
    "X_test = df_test[predictor_cols]\n",
    "y_test = df_test[target_col]"
   ]
  },
  {
   "cell_type": "code",
   "execution_count": null,
   "metadata": {},
   "outputs": [
    {
     "name": "stdout",
     "output_type": "stream",
     "text": [
      "(195, 13)\n",
      "(49, 13)\n"
     ]
    }
   ],
   "source": [
    "print(df_train.shape)\n",
    "print(df_test.shape)"
   ]
  },
  {
   "cell_type": "markdown",
   "metadata": {},
   "source": [
    "# Basic Logistic Regression Score"
   ]
  },
  {
   "cell_type": "markdown",
   "metadata": {},
   "source": [
    "### Basic Logistic Regression Score on Training Data"
   ]
  },
  {
   "cell_type": "code",
   "execution_count": null,
   "metadata": {},
   "outputs": [],
   "source": [
    "from sklearn.linear_model import LogisticRegression\n",
    "\n",
    "LR = LogisticRegression()\n",
    "\n",
    "result = LR.fit(X_train, y_train)\n",
    "LR.fit(X_train, y_train)\n",
    "LR.score(X_train, y_train)"
   ]
  },
  {
   "cell_type": "markdown",
   "metadata": {},
   "source": [
    "### Basic Logistic Regression Score on Testing Data"
   ]
  },
  {
   "cell_type": "code",
   "execution_count": null,
   "metadata": {},
   "outputs": [
    {
     "data": {
      "text/plain": [
       "0.5306122448979592"
      ]
     },
     "execution_count": 651,
     "metadata": {},
     "output_type": "execute_result"
    }
   ],
   "source": [
    "from sklearn.linear_model import LogisticRegression\n",
    "\n",
    "LR = LogisticRegression()\n",
    "\n",
    "result = LR.fit(X_test, y_test)\n",
    "LR.fit(X_test, y_test)\n",
    "LR.score(X_test, y_test)"
   ]
  },
  {
   "cell_type": "markdown",
   "metadata": {},
   "source": [
    "# Logistic Regression with Optimization Score"
   ]
  },
  {
   "cell_type": "code",
   "execution_count": null,
   "metadata": {},
   "outputs": [],
   "source": [
    "from sklearn.model_selection import cross_val_score\n",
    "from GDO import LogisticRegression, GradientDescentOptimizer"
   ]
  },
  {
   "cell_type": "code",
   "execution_count": null,
   "metadata": {},
   "outputs": [
    {
     "name": "stdout",
     "output_type": "stream",
     "text": [
      "torch.Size([195, 6])\n",
      "tensor([[15.],\n",
      "        [20.],\n",
      "        [10.],\n",
      "        [10.],\n",
      "        [15.],\n",
      "        [10.],\n",
      "        [ 0.],\n",
      "        [20.],\n",
      "        [15.],\n",
      "        [15.],\n",
      "        [ 0.],\n",
      "        [10.],\n",
      "        [15.],\n",
      "        [15.],\n",
      "        [10.],\n",
      "        [15.],\n",
      "        [20.],\n",
      "        [10.],\n",
      "        [10.],\n",
      "        [15.],\n",
      "        [20.],\n",
      "        [10.],\n",
      "        [ 0.],\n",
      "        [10.],\n",
      "        [10.],\n",
      "        [15.],\n",
      "        [10.],\n",
      "        [10.],\n",
      "        [15.],\n",
      "        [15.],\n",
      "        [15.],\n",
      "        [15.],\n",
      "        [ 0.],\n",
      "        [10.],\n",
      "        [15.],\n",
      "        [20.],\n",
      "        [10.],\n",
      "        [15.],\n",
      "        [ 0.],\n",
      "        [20.],\n",
      "        [15.],\n",
      "        [10.],\n",
      "        [25.],\n",
      "        [20.],\n",
      "        [10.],\n",
      "        [10.],\n",
      "        [15.],\n",
      "        [20.],\n",
      "        [15.],\n",
      "        [15.],\n",
      "        [25.],\n",
      "        [10.],\n",
      "        [10.],\n",
      "        [15.],\n",
      "        [15.],\n",
      "        [15.],\n",
      "        [10.],\n",
      "        [15.],\n",
      "        [25.],\n",
      "        [15.],\n",
      "        [10.],\n",
      "        [ 0.],\n",
      "        [25.],\n",
      "        [10.],\n",
      "        [20.],\n",
      "        [ 0.],\n",
      "        [10.],\n",
      "        [10.],\n",
      "        [15.],\n",
      "        [15.],\n",
      "        [10.],\n",
      "        [15.],\n",
      "        [20.],\n",
      "        [10.],\n",
      "        [10.],\n",
      "        [15.],\n",
      "        [10.],\n",
      "        [10.],\n",
      "        [10.],\n",
      "        [ 0.],\n",
      "        [ 0.],\n",
      "        [ 0.],\n",
      "        [10.],\n",
      "        [15.],\n",
      "        [10.],\n",
      "        [ 0.],\n",
      "        [15.],\n",
      "        [15.],\n",
      "        [ 0.],\n",
      "        [15.],\n",
      "        [15.],\n",
      "        [20.],\n",
      "        [20.],\n",
      "        [10.],\n",
      "        [10.],\n",
      "        [15.],\n",
      "        [10.],\n",
      "        [10.],\n",
      "        [15.],\n",
      "        [ 0.],\n",
      "        [15.],\n",
      "        [15.],\n",
      "        [20.],\n",
      "        [ 0.],\n",
      "        [15.],\n",
      "        [15.],\n",
      "        [15.],\n",
      "        [20.],\n",
      "        [10.],\n",
      "        [ 0.],\n",
      "        [15.],\n",
      "        [25.],\n",
      "        [10.],\n",
      "        [20.],\n",
      "        [15.],\n",
      "        [10.],\n",
      "        [10.],\n",
      "        [15.],\n",
      "        [10.],\n",
      "        [10.],\n",
      "        [10.],\n",
      "        [20.],\n",
      "        [ 0.],\n",
      "        [10.],\n",
      "        [15.],\n",
      "        [15.],\n",
      "        [10.],\n",
      "        [15.],\n",
      "        [ 0.],\n",
      "        [10.],\n",
      "        [10.],\n",
      "        [15.],\n",
      "        [10.],\n",
      "        [10.],\n",
      "        [10.],\n",
      "        [15.],\n",
      "        [ 0.],\n",
      "        [ 0.],\n",
      "        [15.],\n",
      "        [10.],\n",
      "        [10.],\n",
      "        [15.],\n",
      "        [15.],\n",
      "        [15.],\n",
      "        [ 0.],\n",
      "        [10.],\n",
      "        [15.],\n",
      "        [ 0.],\n",
      "        [15.],\n",
      "        [10.],\n",
      "        [ 0.],\n",
      "        [15.],\n",
      "        [ 0.],\n",
      "        [15.],\n",
      "        [15.],\n",
      "        [15.],\n",
      "        [20.],\n",
      "        [15.],\n",
      "        [15.],\n",
      "        [25.],\n",
      "        [10.],\n",
      "        [10.],\n",
      "        [ 0.],\n",
      "        [10.],\n",
      "        [15.],\n",
      "        [15.],\n",
      "        [15.],\n",
      "        [15.],\n",
      "        [15.],\n",
      "        [15.],\n",
      "        [10.],\n",
      "        [15.],\n",
      "        [15.],\n",
      "        [15.],\n",
      "        [20.],\n",
      "        [ 0.],\n",
      "        [15.],\n",
      "        [15.],\n",
      "        [10.],\n",
      "        [10.],\n",
      "        [10.],\n",
      "        [25.],\n",
      "        [15.],\n",
      "        [10.],\n",
      "        [15.],\n",
      "        [10.],\n",
      "        [15.],\n",
      "        [15.],\n",
      "        [15.],\n",
      "        [10.],\n",
      "        [ 0.],\n",
      "        [10.],\n",
      "        [15.],\n",
      "        [10.],\n",
      "        [10.]], dtype=torch.float64)\n",
      "Unexpected exception formatting exception. Falling back to standard exception\n"
     ]
    },
    {
     "name": "stderr",
     "output_type": "stream",
     "text": [
      "Traceback (most recent call last):\n",
      "  File \"/Users/ddelgado/anaconda3/envs/ml-0451/lib/python3.9/site-packages/IPython/core/interactiveshell.py\", line 3526, in run_code\n",
      "    exec(code_obj, self.user_global_ns, self.user_ns)\n",
      "  File \"/var/folders/1j/mlsnh9t96n70j2n5mmm9h9780000gn/T/ipykernel_78661/900625442.py\", line 15, in <module>\n",
      "    opt.step(X_train_tensor, y_train_tensor, alpha = 0.1, beta = 0.9) #optimizer with momentum\n",
      "  File \"/Users/ddelgado/Tippers/GDO.py\", line 124, in step\n",
      "    self.model.w = self.model.w - self.model.grad(X, y).flatten() * alpha + beta * (self.model.w - self.old_w)\n",
      "  File \"/Users/ddelgado/Tippers/GDO.py\", line 93, in grad\n",
      "    s = X @ self.w\n",
      "RuntimeError: expected scalar type Double but found Float\n",
      "\n",
      "During handling of the above exception, another exception occurred:\n",
      "\n",
      "Traceback (most recent call last):\n",
      "  File \"/Users/ddelgado/anaconda3/envs/ml-0451/lib/python3.9/site-packages/IPython/core/interactiveshell.py\", line 2120, in showtraceback\n",
      "    stb = self.InteractiveTB.structured_traceback(\n",
      "  File \"/Users/ddelgado/anaconda3/envs/ml-0451/lib/python3.9/site-packages/IPython/core/ultratb.py\", line 1435, in structured_traceback\n",
      "    return FormattedTB.structured_traceback(\n",
      "  File \"/Users/ddelgado/anaconda3/envs/ml-0451/lib/python3.9/site-packages/IPython/core/ultratb.py\", line 1326, in structured_traceback\n",
      "    return VerboseTB.structured_traceback(\n",
      "  File \"/Users/ddelgado/anaconda3/envs/ml-0451/lib/python3.9/site-packages/IPython/core/ultratb.py\", line 1173, in structured_traceback\n",
      "    formatted_exception = self.format_exception_as_a_whole(etype, evalue, etb, number_of_lines_of_context,\n",
      "  File \"/Users/ddelgado/anaconda3/envs/ml-0451/lib/python3.9/site-packages/IPython/core/ultratb.py\", line 1088, in format_exception_as_a_whole\n",
      "    frames.append(self.format_record(record))\n",
      "  File \"/Users/ddelgado/anaconda3/envs/ml-0451/lib/python3.9/site-packages/IPython/core/ultratb.py\", line 970, in format_record\n",
      "    frame_info.lines, Colors, self.has_colors, lvals\n",
      "  File \"/Users/ddelgado/anaconda3/envs/ml-0451/lib/python3.9/site-packages/IPython/core/ultratb.py\", line 792, in lines\n",
      "    return self._sd.lines\n",
      "  File \"/Users/ddelgado/anaconda3/envs/ml-0451/lib/python3.9/site-packages/stack_data/utils.py\", line 145, in cached_property_wrapper\n",
      "    value = obj.__dict__[self.func.__name__] = self.func(obj)\n",
      "  File \"/Users/ddelgado/anaconda3/envs/ml-0451/lib/python3.9/site-packages/stack_data/core.py\", line 698, in lines\n",
      "    pieces = self.included_pieces\n",
      "  File \"/Users/ddelgado/anaconda3/envs/ml-0451/lib/python3.9/site-packages/stack_data/utils.py\", line 145, in cached_property_wrapper\n",
      "    value = obj.__dict__[self.func.__name__] = self.func(obj)\n",
      "  File \"/Users/ddelgado/anaconda3/envs/ml-0451/lib/python3.9/site-packages/stack_data/core.py\", line 649, in included_pieces\n",
      "    pos = scope_pieces.index(self.executing_piece)\n",
      "  File \"/Users/ddelgado/anaconda3/envs/ml-0451/lib/python3.9/site-packages/stack_data/utils.py\", line 145, in cached_property_wrapper\n",
      "    value = obj.__dict__[self.func.__name__] = self.func(obj)\n",
      "  File \"/Users/ddelgado/anaconda3/envs/ml-0451/lib/python3.9/site-packages/stack_data/core.py\", line 628, in executing_piece\n",
      "    return only(\n",
      "  File \"/Users/ddelgado/anaconda3/envs/ml-0451/lib/python3.9/site-packages/executing/executing.py\", line 164, in only\n",
      "    raise NotOneValueFound('Expected one value, found 0')\n",
      "executing.executing.NotOneValueFound: Expected one value, found 0\n"
     ]
    }
   ],
   "source": [
    "X_train_tensor = torch.tensor(X_train.values)\n",
    "y_train_tensor = torch.tensor(y_train.values)\n",
    "\n",
    "X_train_tensor = X_train_tensor.double() # THis does not work!!!! fix \n",
    "y_train_tensor = y_train_tensor.double()\n",
    "\n",
    "LRO = LogisticRegression()\n",
    "opt = GradientDescentOptimizer(LRO)\n",
    "\n",
    "loss_vec = []\n",
    "\n",
    "for _ in range(10000):\n",
    "    loss = LRO.loss(X_train_tensor,y_train_tensor)\n",
    "    loss_vec.append(loss)\n",
    "    opt.step(X_train_tensor, y_train_tensor, alpha = 0.1, beta = 0.9) #optimizer with momentum\n"
   ]
  },
  {
   "cell_type": "markdown",
   "metadata": {},
   "source": [
    "### Plotting data and checking the prediction at 10,000 iterations"
   ]
  },
  {
   "cell_type": "code",
   "execution_count": null,
   "metadata": {},
   "outputs": [
    {
     "data": {
      "image/png": "[encoded data removed]",
      "text/plain": [
       "<Figure size 640x480 with 1 Axes>"
      ]
     },
     "metadata": {},
     "output_type": "display_data"
    }
   ],
   "source": [
    "plt.plot(torch.arange(1, len(loss_vec)+1), loss_vec, color = \"black\")\n",
    "plt.semilogx()\n",
    "plt.grid(True)\n",
    "labs = plt.gca().set(xlabel = \"Number of gradient descent iterations\", ylabel = \"Loss (binary cross entropy)\")"
   ]
  },
  {
   "cell_type": "markdown",
   "metadata": {},
   "source": [
    "In this graph, we can see that as we increase the number of gradient descent optimizer iterations, the graph flattens out to reach convergence."
   ]
  },
  {
   "cell_type": "code",
   "execution_count": null,
   "metadata": {},
   "outputs": [
    {
     "ename": "TypeError",
     "evalue": "'int' object is not callable",
     "output_type": "error",
     "traceback": [
      "\u001b[0;31m---------------------------------------------------------------------------\u001b[0m",
      "\u001b[0;31mTypeError\u001b[0m                                 Traceback (most recent call last)",
      "\u001b[1;32m/Users/lenoxherman/Tippers/ProjectFinal.ipynb Cell 25\u001b[0m line \u001b[0;36m5\n\u001b[1;32m      <a href='vscode-notebook-cell:/Users/lenoxherman/Tippers/ProjectFinal.ipynb#Y166sZmlsZQ%3D%3D?line=0'>1</a>\u001b[0m \u001b[39mfrom\u001b[39;00m \u001b[39mGDO\u001b[39;00m \u001b[39mimport\u001b[39;00m LogisticRegression\n\u001b[1;32m      <a href='vscode-notebook-cell:/Users/lenoxherman/Tippers/ProjectFinal.ipynb#Y166sZmlsZQ%3D%3D?line=2'>3</a>\u001b[0m LRO \u001b[39m=\u001b[39m LogisticRegression()\n\u001b[0;32m----> <a href='vscode-notebook-cell:/Users/lenoxherman/Tippers/ProjectFinal.ipynb#Y166sZmlsZQ%3D%3D?line=4'>5</a>\u001b[0m GDO_predict \u001b[39m=\u001b[39m (\u001b[39m1.0\u001b[39m \u001b[39m*\u001b[39m (LRO\u001b[39m.\u001b[39;49mpredict(X_train) \u001b[39m==\u001b[39m y_train))\u001b[39m.\u001b[39mmean()\n\u001b[1;32m      <a href='vscode-notebook-cell:/Users/lenoxherman/Tippers/ProjectFinal.ipynb#Y166sZmlsZQ%3D%3D?line=5'>6</a>\u001b[0m \u001b[39mprint\u001b[39m(\u001b[39m\"\u001b[39m\u001b[39mPrediction Accuracy with Gradient Descent Optimizer Training Data: \u001b[39m\u001b[39m\"\u001b[39m, \u001b[39mfloat\u001b[39m(GDO_predict))\n",
      "File \u001b[0;32m~/Tippers/GDO.py:46\u001b[0m, in \u001b[0;36mLinearModel.predict\u001b[0;34m(self, X)\u001b[0m\n\u001b[1;32m     33\u001b[0m \u001b[39mdef\u001b[39;00m \u001b[39mpredict\u001b[39m(\u001b[39mself\u001b[39m, X):\n\u001b[1;32m     34\u001b[0m \u001b[39m    \u001b[39m\u001b[39m\"\"\"\u001b[39;00m\n\u001b[1;32m     35\u001b[0m \u001b[39m    Compute the predictions for each data point in the feature matrix X. The prediction for the ith data point is either 0 or 1. \u001b[39;00m\n\u001b[1;32m     36\u001b[0m \n\u001b[0;32m   (...)\u001b[0m\n\u001b[1;32m     44\u001b[0m \u001b[39m        y_hat, torch.Tensor: vector predictions in {0.0, 1.0}. y_hat.size() = (n,)\u001b[39;00m\n\u001b[1;32m     45\u001b[0m \u001b[39m    \"\"\"\u001b[39;00m\n\u001b[0;32m---> 46\u001b[0m     scores \u001b[39m=\u001b[39m \u001b[39mself\u001b[39;49m\u001b[39m.\u001b[39;49mscore(X)\n\u001b[1;32m     47\u001b[0m     y_hat \u001b[39m=\u001b[39m torch\u001b[39m.\u001b[39mwhere(scores \u001b[39m>\u001b[39m\u001b[39m=\u001b[39m \u001b[39m0\u001b[39m, torch\u001b[39m.\u001b[39mtensor(\u001b[39m1.0\u001b[39m), torch\u001b[39m.\u001b[39mtensor(\u001b[39m0.0\u001b[39m))\n\u001b[1;32m     48\u001b[0m     \u001b[39mreturn\u001b[39;00m y_hat\n",
      "File \u001b[0;32m~/Tippers/GDO.py:27\u001b[0m, in \u001b[0;36mLinearModel.score\u001b[0;34m(self, X)\u001b[0m\n\u001b[1;32m     11\u001b[0m \u001b[39m\u001b[39m\u001b[39m\"\"\"\u001b[39;00m\n\u001b[1;32m     12\u001b[0m \u001b[39mCompute the scores for each data point in the feature matrix X. \u001b[39;00m\n\u001b[1;32m     13\u001b[0m \u001b[39mThe formula for the ith entry of s is s[i] = <self.w, x[i]>. \u001b[39;00m\n\u001b[0;32m   (...)\u001b[0m\n\u001b[1;32m     24\u001b[0m \u001b[39m    s torch.Tensor: vector of scores. s.size() = (n,)\u001b[39;00m\n\u001b[1;32m     25\u001b[0m \u001b[39m\"\"\"\u001b[39;00m\n\u001b[1;32m     26\u001b[0m \u001b[39mif\u001b[39;00m \u001b[39mself\u001b[39m\u001b[39m.\u001b[39mw \u001b[39mis\u001b[39;00m \u001b[39mNone\u001b[39;00m: \n\u001b[0;32m---> 27\u001b[0m     \u001b[39mself\u001b[39m\u001b[39m.\u001b[39mw \u001b[39m=\u001b[39m torch\u001b[39m.\u001b[39mrand((X\u001b[39m.\u001b[39;49msize()[\u001b[39m1\u001b[39m]))\n\u001b[1;32m     29\u001b[0m \u001b[39m# computing the vector of scores s\u001b[39;00m\n\u001b[1;32m     30\u001b[0m scores \u001b[39m=\u001b[39m (X\u001b[39m@self\u001b[39m\u001b[39m.\u001b[39mw)\n",
      "\u001b[0;31mTypeError\u001b[0m: 'int' object is not callable"
     ]
    }
   ],
   "source": [
    "from GDO import LogisticRegression\n",
    "\n",
    "LRO = LogisticRegression()\n",
    "\n",
    "GDO_predict = (1.0 * (LRO.predict(X_train) == y_train)).mean()\n",
    "print(\"Prediction Accuracy with Gradient Descent Optimizer Training Data: \", float(GDO_predict))"
   ]
  },
  {
   "cell_type": "markdown",
   "metadata": {},
   "source": [
    "### Running Gradient Descent on Testing Data"
   ]
  },
  {
   "cell_type": "code",
   "execution_count": null,
   "metadata": {},
   "outputs": [
    {
     "ename": "TypeError",
     "evalue": "'int' object is not callable",
     "output_type": "error",
     "traceback": [
      "\u001b[0;31m---------------------------------------------------------------------------\u001b[0m",
      "\u001b[0;31mTypeError\u001b[0m                                 Traceback (most recent call last)",
      "\u001b[1;32m/Users/lenoxherman/Tippers/ProjectFinal.ipynb Cell 27\u001b[0m line \u001b[0;36m7\n\u001b[1;32m      <a href='vscode-notebook-cell:/Users/lenoxherman/Tippers/ProjectFinal.ipynb#Y210sZmlsZQ%3D%3D?line=2'>3</a>\u001b[0m LRO \u001b[39m=\u001b[39m LogisticRegression()\n\u001b[1;32m      <a href='vscode-notebook-cell:/Users/lenoxherman/Tippers/ProjectFinal.ipynb#Y210sZmlsZQ%3D%3D?line=3'>4</a>\u001b[0m \u001b[39m# need to change x and y test to tensors for this to work, copy code from x_train and y_train from above\u001b[39;00m\n\u001b[0;32m----> <a href='vscode-notebook-cell:/Users/lenoxherman/Tippers/ProjectFinal.ipynb#Y210sZmlsZQ%3D%3D?line=6'>7</a>\u001b[0m GDO_predict \u001b[39m=\u001b[39m (\u001b[39m1.0\u001b[39m \u001b[39m*\u001b[39m (LRO\u001b[39m.\u001b[39;49mpredict(X_test) \u001b[39m==\u001b[39m y_test))\u001b[39m.\u001b[39mmean()\n\u001b[1;32m      <a href='vscode-notebook-cell:/Users/lenoxherman/Tippers/ProjectFinal.ipynb#Y210sZmlsZQ%3D%3D?line=7'>8</a>\u001b[0m \u001b[39mprint\u001b[39m(\u001b[39m\"\u001b[39m\u001b[39mPrediction Accuracy with Gradient Descent Optimizer Testing Data: \u001b[39m\u001b[39m\"\u001b[39m, \u001b[39mfloat\u001b[39m(GDO_predict))\n",
      "File \u001b[0;32m~/Tippers/GDO.py:46\u001b[0m, in \u001b[0;36mLinearModel.predict\u001b[0;34m(self, X)\u001b[0m\n\u001b[1;32m     33\u001b[0m \u001b[39mdef\u001b[39;00m \u001b[39mpredict\u001b[39m(\u001b[39mself\u001b[39m, X):\n\u001b[1;32m     34\u001b[0m \u001b[39m    \u001b[39m\u001b[39m\"\"\"\u001b[39;00m\n\u001b[1;32m     35\u001b[0m \u001b[39m    Compute the predictions for each data point in the feature matrix X. The prediction for the ith data point is either 0 or 1. \u001b[39;00m\n\u001b[1;32m     36\u001b[0m \n\u001b[0;32m   (...)\u001b[0m\n\u001b[1;32m     44\u001b[0m \u001b[39m        y_hat, torch.Tensor: vector predictions in {0.0, 1.0}. y_hat.size() = (n,)\u001b[39;00m\n\u001b[1;32m     45\u001b[0m \u001b[39m    \"\"\"\u001b[39;00m\n\u001b[0;32m---> 46\u001b[0m     scores \u001b[39m=\u001b[39m \u001b[39mself\u001b[39;49m\u001b[39m.\u001b[39;49mscore(X)\n\u001b[1;32m     47\u001b[0m     y_hat \u001b[39m=\u001b[39m torch\u001b[39m.\u001b[39mwhere(scores \u001b[39m>\u001b[39m\u001b[39m=\u001b[39m \u001b[39m0\u001b[39m, torch\u001b[39m.\u001b[39mtensor(\u001b[39m1.0\u001b[39m), torch\u001b[39m.\u001b[39mtensor(\u001b[39m0.0\u001b[39m))\n\u001b[1;32m     48\u001b[0m     \u001b[39mreturn\u001b[39;00m y_hat\n",
      "File \u001b[0;32m~/Tippers/GDO.py:27\u001b[0m, in \u001b[0;36mLinearModel.score\u001b[0;34m(self, X)\u001b[0m\n\u001b[1;32m     11\u001b[0m \u001b[39m\u001b[39m\u001b[39m\"\"\"\u001b[39;00m\n\u001b[1;32m     12\u001b[0m \u001b[39mCompute the scores for each data point in the feature matrix X. \u001b[39;00m\n\u001b[1;32m     13\u001b[0m \u001b[39mThe formula for the ith entry of s is s[i] = <self.w, x[i]>. \u001b[39;00m\n\u001b[0;32m   (...)\u001b[0m\n\u001b[1;32m     24\u001b[0m \u001b[39m    s torch.Tensor: vector of scores. s.size() = (n,)\u001b[39;00m\n\u001b[1;32m     25\u001b[0m \u001b[39m\"\"\"\u001b[39;00m\n\u001b[1;32m     26\u001b[0m \u001b[39mif\u001b[39;00m \u001b[39mself\u001b[39m\u001b[39m.\u001b[39mw \u001b[39mis\u001b[39;00m \u001b[39mNone\u001b[39;00m: \n\u001b[0;32m---> 27\u001b[0m     \u001b[39mself\u001b[39m\u001b[39m.\u001b[39mw \u001b[39m=\u001b[39m torch\u001b[39m.\u001b[39mrand((X\u001b[39m.\u001b[39;49msize()[\u001b[39m1\u001b[39m]))\n\u001b[1;32m     29\u001b[0m \u001b[39m# computing the vector of scores s\u001b[39;00m\n\u001b[1;32m     30\u001b[0m scores \u001b[39m=\u001b[39m (X\u001b[39m@self\u001b[39m\u001b[39m.\u001b[39mw)\n",
      "\u001b[0;31mTypeError\u001b[0m: 'int' object is not callable"
     ]
    }
   ],
   "source": [
    "from GDO import LogisticRegression\n",
    "\n",
    "LRO = LogisticRegression()\n",
    "# need to change x and y test to tensors for this to work, copy code from x_train and y_train from above\n",
    "\n",
    "\n",
    "GDO_predict = (1.0 * (LRO.predict(X_test) == y_test)).mean()\n",
    "print(\"Prediction Accuracy with Gradient Descent Optimizer Testing Data: \", float(GDO_predict))"
   ]
  },
  {
   "cell_type": "markdown",
   "metadata": {},
   "source": [
    "# Decision Tree Classifier Model Prediction Score"
   ]
  },
  {
   "cell_type": "code",
   "execution_count": null,
   "metadata": {},
   "outputs": [
    {
     "name": "stdout",
     "output_type": "stream",
     "text": [
      "Best score:  0.43076923076923085\n",
      "Best depth:  49\n"
     ]
    }
   ],
   "source": [
    "from sklearn.tree import DecisionTreeClassifier\n",
    "\n",
    "score_counter = 0\n",
    "for i in range(1, 50):  \n",
    "    DTC = DecisionTreeClassifier(max_depth= i)\n",
    "    cv_scores= cross_val_score(DTC, X_train, y_train, cv= 5)\n",
    "    if(cv_scores.mean() > score_counter):\n",
    "        score_counter = cv_scores.mean()\n",
    "\n",
    "print(\"Best score: \" , score_counter)\n",
    "print(\"Best depth: \" , i)\n",
    "\n"
   ]
  },
  {
   "cell_type": "markdown",
   "metadata": {},
   "source": [
    "# Random Forest Classifier Prediction Score\n"
   ]
  },
  {
   "cell_type": "code",
   "execution_count": null,
   "metadata": {},
   "outputs": [],
   "source": [
    "from sklearn.ensemble import RandomForestClassifier\n",
    "\n",
    "clf = RandomForestClassifier(n_estimators=100)\n",
    "clf.fit(X_train, y_train)\n",
    "y_pred = clf.predict(X_test)"
   ]
  },
  {
   "cell_type": "code",
   "execution_count": null,
   "metadata": {},
   "outputs": [
    {
     "name": "stdout",
     "output_type": "stream",
     "text": [
      "Accuracy: 0.2857142857142857\n"
     ]
    }
   ],
   "source": [
    "from sklearn import metrics\n",
    "\n",
    "print(\"Accuracy:\", metrics.accuracy_score(y_test, y_pred))"
   ]
  },
  {
   "cell_type": "markdown",
   "metadata": {},
   "source": [
    "\\begin{aligned}\n",
    "    \\mathbf{w}_{k+1} \\gets \\mathbf{w}_k - \\alpha \\nabla L(\\mathbf{w}_k) + \\beta(\\mathbf{w}_k - \\mathbf{w}_{k-1})\n",
    "\\end{aligned}\n",
    "\\tag{1}"
   ]
  }
 ],
 "metadata": {
  "kernelspec": {
   "display_name": "ml-0451",
   "language": "python",
   "name": "python3"
  },
  "language_info": {
   "codemirror_mode": {
    "name": "ipython",
    "version": 3
   },
   "file_extension": ".py",
   "mimetype": "text/x-python",
   "name": "python",
   "nbconvert_exporter": "python",
   "pygments_lexer": "ipython3",
   "version": "3.9.18"
  },
  "orig_nbformat": 4
 },
 "nbformat": 4,
 "nbformat_minor": 2
}
