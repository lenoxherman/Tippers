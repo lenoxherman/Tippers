{
 "cells": [
  {
   "cell_type": "code",
   "execution_count": 2,
   "metadata": {},
   "outputs": [],
   "source": [
    "%load_ext autoreload\n",
    "%autoreload 2\n",
    "import warnings \n",
    "warnings.filterwarnings('ignore')\n"
   ]
  },
  {
   "cell_type": "code",
   "execution_count": 3,
   "metadata": {},
   "outputs": [],
   "source": [
    "import pandas as pd \n",
    "\n",
    "file_path = '/Users/ddelgado/Tippers/tipDataSet/tip.csv'\n",
    "# Extract the CSV file from the zip archive\n",
    "\n",
    "# Load the CSV file into a pandas DataFrame\n",
    "df = pd.read_csv(file_path)\n"
   ]
  },
  {
   "cell_type": "code",
   "execution_count": 4,
   "metadata": {},
   "outputs": [
    {
     "data": {
      "text/html": [
       "<div>\n",
       "<style scoped>\n",
       "    .dataframe tbody tr th:only-of-type {\n",
       "        vertical-align: middle;\n",
       "    }\n",
       "\n",
       "    .dataframe tbody tr th {\n",
       "        vertical-align: top;\n",
       "    }\n",
       "\n",
       "    .dataframe thead th {\n",
       "        text-align: right;\n",
       "    }\n",
       "</style>\n",
       "<table border=\"1\" class=\"dataframe\">\n",
       "  <thead>\n",
       "    <tr style=\"text-align: right;\">\n",
       "      <th></th>\n",
       "      <th>total_bill</th>\n",
       "      <th>tip</th>\n",
       "      <th>sex</th>\n",
       "      <th>smoker</th>\n",
       "      <th>day</th>\n",
       "      <th>time</th>\n",
       "      <th>size</th>\n",
       "    </tr>\n",
       "  </thead>\n",
       "  <tbody>\n",
       "    <tr>\n",
       "      <th>0</th>\n",
       "      <td>16.99</td>\n",
       "      <td>1.01</td>\n",
       "      <td>Female</td>\n",
       "      <td>No</td>\n",
       "      <td>Sun</td>\n",
       "      <td>Dinner</td>\n",
       "      <td>2</td>\n",
       "    </tr>\n",
       "    <tr>\n",
       "      <th>1</th>\n",
       "      <td>10.34</td>\n",
       "      <td>1.66</td>\n",
       "      <td>Male</td>\n",
       "      <td>No</td>\n",
       "      <td>Sun</td>\n",
       "      <td>Dinner</td>\n",
       "      <td>3</td>\n",
       "    </tr>\n",
       "    <tr>\n",
       "      <th>2</th>\n",
       "      <td>21.01</td>\n",
       "      <td>3.50</td>\n",
       "      <td>Male</td>\n",
       "      <td>No</td>\n",
       "      <td>Sun</td>\n",
       "      <td>Dinner</td>\n",
       "      <td>3</td>\n",
       "    </tr>\n",
       "    <tr>\n",
       "      <th>3</th>\n",
       "      <td>23.68</td>\n",
       "      <td>3.31</td>\n",
       "      <td>Male</td>\n",
       "      <td>No</td>\n",
       "      <td>Sun</td>\n",
       "      <td>Dinner</td>\n",
       "      <td>2</td>\n",
       "    </tr>\n",
       "    <tr>\n",
       "      <th>4</th>\n",
       "      <td>24.59</td>\n",
       "      <td>3.61</td>\n",
       "      <td>Female</td>\n",
       "      <td>No</td>\n",
       "      <td>Sun</td>\n",
       "      <td>Dinner</td>\n",
       "      <td>4</td>\n",
       "    </tr>\n",
       "    <tr>\n",
       "      <th>...</th>\n",
       "      <td>...</td>\n",
       "      <td>...</td>\n",
       "      <td>...</td>\n",
       "      <td>...</td>\n",
       "      <td>...</td>\n",
       "      <td>...</td>\n",
       "      <td>...</td>\n",
       "    </tr>\n",
       "    <tr>\n",
       "      <th>239</th>\n",
       "      <td>29.03</td>\n",
       "      <td>5.92</td>\n",
       "      <td>Male</td>\n",
       "      <td>No</td>\n",
       "      <td>Sat</td>\n",
       "      <td>Dinner</td>\n",
       "      <td>3</td>\n",
       "    </tr>\n",
       "    <tr>\n",
       "      <th>240</th>\n",
       "      <td>27.18</td>\n",
       "      <td>2.00</td>\n",
       "      <td>Female</td>\n",
       "      <td>Yes</td>\n",
       "      <td>Sat</td>\n",
       "      <td>Dinner</td>\n",
       "      <td>2</td>\n",
       "    </tr>\n",
       "    <tr>\n",
       "      <th>241</th>\n",
       "      <td>22.67</td>\n",
       "      <td>2.00</td>\n",
       "      <td>Male</td>\n",
       "      <td>Yes</td>\n",
       "      <td>Sat</td>\n",
       "      <td>Dinner</td>\n",
       "      <td>2</td>\n",
       "    </tr>\n",
       "    <tr>\n",
       "      <th>242</th>\n",
       "      <td>17.82</td>\n",
       "      <td>1.75</td>\n",
       "      <td>Male</td>\n",
       "      <td>No</td>\n",
       "      <td>Sat</td>\n",
       "      <td>Dinner</td>\n",
       "      <td>2</td>\n",
       "    </tr>\n",
       "    <tr>\n",
       "      <th>243</th>\n",
       "      <td>18.78</td>\n",
       "      <td>3.00</td>\n",
       "      <td>Female</td>\n",
       "      <td>No</td>\n",
       "      <td>Thur</td>\n",
       "      <td>Dinner</td>\n",
       "      <td>2</td>\n",
       "    </tr>\n",
       "  </tbody>\n",
       "</table>\n",
       "<p>244 rows × 7 columns</p>\n",
       "</div>"
      ],
      "text/plain": [
       "     total_bill   tip     sex smoker   day    time  size\n",
       "0         16.99  1.01  Female     No   Sun  Dinner     2\n",
       "1         10.34  1.66    Male     No   Sun  Dinner     3\n",
       "2         21.01  3.50    Male     No   Sun  Dinner     3\n",
       "3         23.68  3.31    Male     No   Sun  Dinner     2\n",
       "4         24.59  3.61  Female     No   Sun  Dinner     4\n",
       "..          ...   ...     ...    ...   ...     ...   ...\n",
       "239       29.03  5.92    Male     No   Sat  Dinner     3\n",
       "240       27.18  2.00  Female    Yes   Sat  Dinner     2\n",
       "241       22.67  2.00    Male    Yes   Sat  Dinner     2\n",
       "242       17.82  1.75    Male     No   Sat  Dinner     2\n",
       "243       18.78  3.00  Female     No  Thur  Dinner     2\n",
       "\n",
       "[244 rows x 7 columns]"
      ]
     },
     "execution_count": 4,
     "metadata": {},
     "output_type": "execute_result"
    }
   ],
   "source": [
    "df\n"
   ]
  },
  {
   "cell_type": "code",
   "execution_count": 5,
   "metadata": {},
   "outputs": [
    {
     "name": "stdout",
     "output_type": "stream",
     "text": [
      "[0 2 2 1 1 2 3 1 1 3 2 1 0 2 2 2 2 3 3 2 3 1 1 2 2 1 1 2 2 1 1 1 2 1 2 1 1\n",
      " 2 1 2 1 1 3 1 2 2 3 2 0 2 2 3 1 2 2 2 0 0 2 1 2 1 2 3 1 2 1 4 0 1 2 2 1 2\n",
      " 1 1 2 1 1 2 1 2 2 1 1 1 1 3 3 1 0 2 2 4 1 1 1 1 1 1 3 2 0 2 2 1 2 2 3 4 3\n",
      " 1 1 1 2 2 2 1 1 1 2 1 2 1 2 1 2 1 2 0 0 1 1 2 2 1 2 1 1 3 2 2 1 2 1 2 0 1\n",
      " 2 4 2 1 2 0 0 2 0 1 2 1 2 2 1 1 2 1 1 1 1 2 2 2 4 0 3 0 1 1 4 0 1 3 0 4 0\n",
      " 3 2 0 2 2 0 3 0 1 3 2 2 1 1 1 3 2 1 1 2 2 1 0 0 2 0 2 2 2 3 0 1 1 2 0 2 4\n",
      " 3 2 1 1 2 1 2 1 0 2 4 1 2 1 0 0 1 2 0 0 0 2]\n"
     ]
    }
   ],
   "source": [
    "from sklearn.preprocessing import LabelEncoder\n",
    "import torch\n",
    "\n",
    "le = LabelEncoder()\n",
    "def prepare_data(df):\n",
    "  #removing columns that are not needed\n",
    "  # df.drop('smoker', axis=1, inplace=True)\n",
    "  day_mapping = {'Sun': 1, 'Sat': 1, 'Fri': 1, 'Thur':0}\n",
    "  # Create a new column 'day_encoded' based on Weekday or Weekend\n",
    "  df['day_encoded'] = df['day'].map(day_mapping)\n",
    "  # Create a new column \"time_encoded\" based on Lunch or Dinner\n",
    "  df['time_encoded'] = le.fit_transform(df['time'])\n",
    "  # Creates a new column 'smoker_encoded' based on Yes or No\n",
    "  df['smoker_encoded'] = le.fit_transform(df['smoker'])\n",
    "  # Creates a new column \"sex_encoded'\" based on female or male\n",
    "  df['sex_encoded'] = le.fit_transform(df['sex'])\n",
    "  # Creates a new column 'percent_tip' based on the percentage of the tip amount\n",
    "  df['percent_tip'] = (df['tip'] / df['total_bill']) * 100\n",
    "  # Round the 'percent_tip' column to two decimal places\n",
    "  df['percent_tip'] = df['percent_tip'].round()\n",
    "  #makes groups for tips to 25+\n",
    "  tip_groups = [0, 10, 15, 20, 25, float('inf')]\n",
    "  label_tip_groups = ['0-10%', '10-15%', '15-20%', '20-25%', '25+']\n",
    "  df['tip_groups'] = pd.cut(df['percent_tip'], bins = tip_groups, labels= label_tip_groups)\n",
    "  df['tip_groups'] = df['tip_groups'].astype(str)\n",
    "  df['tip_groups'] = df['tip_groups'].str.extract(r'(\\d+)').astype(float)\n",
    "\n",
    "  le.fit(df[\"tip_groups\"])\n",
    "  #turns the labels in 'tip' to a number\n",
    "  y = le.transform(df[\"tip_groups\"])\n",
    "  print(y)\n",
    "  #removing 'tip' col bc now held by y\n",
    "  df = df.drop([\"tip_groups\"], axis = 1)\n",
    "\n",
    "#drop tip, and percent_tip?\n",
    "\n",
    "  #converted into “one-hot encoded” 0-1 columns\n",
    "  df = pd.get_dummies(df)\n",
    "  return df, y\n",
    "X_train, y_train = prepare_data(df)"
   ]
  },
  {
   "cell_type": "code",
   "execution_count": 6,
   "metadata": {},
   "outputs": [
    {
     "data": {
      "text/plain": [
       "(244, 18)"
      ]
     },
     "execution_count": 6,
     "metadata": {},
     "output_type": "execute_result"
    }
   ],
   "source": [
    "X_train.shape"
   ]
  },
  {
   "cell_type": "code",
   "execution_count": 7,
   "metadata": {},
   "outputs": [
    {
     "data": {
      "text/html": [
       "<div>\n",
       "<style scoped>\n",
       "    .dataframe tbody tr th:only-of-type {\n",
       "        vertical-align: middle;\n",
       "    }\n",
       "\n",
       "    .dataframe tbody tr th {\n",
       "        vertical-align: top;\n",
       "    }\n",
       "\n",
       "    .dataframe thead th {\n",
       "        text-align: right;\n",
       "    }\n",
       "</style>\n",
       "<table border=\"1\" class=\"dataframe\">\n",
       "  <thead>\n",
       "    <tr style=\"text-align: right;\">\n",
       "      <th></th>\n",
       "      <th>total_bill</th>\n",
       "      <th>tip</th>\n",
       "      <th>sex</th>\n",
       "      <th>smoker</th>\n",
       "      <th>day</th>\n",
       "      <th>time</th>\n",
       "      <th>size</th>\n",
       "      <th>day_encoded</th>\n",
       "      <th>time_encoded</th>\n",
       "      <th>smoker_encoded</th>\n",
       "      <th>sex_encoded</th>\n",
       "      <th>percent_tip</th>\n",
       "      <th>tip_groups</th>\n",
       "    </tr>\n",
       "  </thead>\n",
       "  <tbody>\n",
       "    <tr>\n",
       "      <th>0</th>\n",
       "      <td>16.99</td>\n",
       "      <td>1.01</td>\n",
       "      <td>Female</td>\n",
       "      <td>No</td>\n",
       "      <td>Sun</td>\n",
       "      <td>Dinner</td>\n",
       "      <td>2</td>\n",
       "      <td>1</td>\n",
       "      <td>0</td>\n",
       "      <td>0</td>\n",
       "      <td>0</td>\n",
       "      <td>6.0</td>\n",
       "      <td>0.0</td>\n",
       "    </tr>\n",
       "    <tr>\n",
       "      <th>1</th>\n",
       "      <td>10.34</td>\n",
       "      <td>1.66</td>\n",
       "      <td>Male</td>\n",
       "      <td>No</td>\n",
       "      <td>Sun</td>\n",
       "      <td>Dinner</td>\n",
       "      <td>3</td>\n",
       "      <td>1</td>\n",
       "      <td>0</td>\n",
       "      <td>0</td>\n",
       "      <td>1</td>\n",
       "      <td>16.0</td>\n",
       "      <td>15.0</td>\n",
       "    </tr>\n",
       "    <tr>\n",
       "      <th>2</th>\n",
       "      <td>21.01</td>\n",
       "      <td>3.50</td>\n",
       "      <td>Male</td>\n",
       "      <td>No</td>\n",
       "      <td>Sun</td>\n",
       "      <td>Dinner</td>\n",
       "      <td>3</td>\n",
       "      <td>1</td>\n",
       "      <td>0</td>\n",
       "      <td>0</td>\n",
       "      <td>1</td>\n",
       "      <td>17.0</td>\n",
       "      <td>15.0</td>\n",
       "    </tr>\n",
       "    <tr>\n",
       "      <th>3</th>\n",
       "      <td>23.68</td>\n",
       "      <td>3.31</td>\n",
       "      <td>Male</td>\n",
       "      <td>No</td>\n",
       "      <td>Sun</td>\n",
       "      <td>Dinner</td>\n",
       "      <td>2</td>\n",
       "      <td>1</td>\n",
       "      <td>0</td>\n",
       "      <td>0</td>\n",
       "      <td>1</td>\n",
       "      <td>14.0</td>\n",
       "      <td>10.0</td>\n",
       "    </tr>\n",
       "    <tr>\n",
       "      <th>4</th>\n",
       "      <td>24.59</td>\n",
       "      <td>3.61</td>\n",
       "      <td>Female</td>\n",
       "      <td>No</td>\n",
       "      <td>Sun</td>\n",
       "      <td>Dinner</td>\n",
       "      <td>4</td>\n",
       "      <td>1</td>\n",
       "      <td>0</td>\n",
       "      <td>0</td>\n",
       "      <td>0</td>\n",
       "      <td>15.0</td>\n",
       "      <td>10.0</td>\n",
       "    </tr>\n",
       "    <tr>\n",
       "      <th>...</th>\n",
       "      <td>...</td>\n",
       "      <td>...</td>\n",
       "      <td>...</td>\n",
       "      <td>...</td>\n",
       "      <td>...</td>\n",
       "      <td>...</td>\n",
       "      <td>...</td>\n",
       "      <td>...</td>\n",
       "      <td>...</td>\n",
       "      <td>...</td>\n",
       "      <td>...</td>\n",
       "      <td>...</td>\n",
       "      <td>...</td>\n",
       "    </tr>\n",
       "    <tr>\n",
       "      <th>239</th>\n",
       "      <td>29.03</td>\n",
       "      <td>5.92</td>\n",
       "      <td>Male</td>\n",
       "      <td>No</td>\n",
       "      <td>Sat</td>\n",
       "      <td>Dinner</td>\n",
       "      <td>3</td>\n",
       "      <td>1</td>\n",
       "      <td>0</td>\n",
       "      <td>0</td>\n",
       "      <td>1</td>\n",
       "      <td>20.0</td>\n",
       "      <td>15.0</td>\n",
       "    </tr>\n",
       "    <tr>\n",
       "      <th>240</th>\n",
       "      <td>27.18</td>\n",
       "      <td>2.00</td>\n",
       "      <td>Female</td>\n",
       "      <td>Yes</td>\n",
       "      <td>Sat</td>\n",
       "      <td>Dinner</td>\n",
       "      <td>2</td>\n",
       "      <td>1</td>\n",
       "      <td>0</td>\n",
       "      <td>1</td>\n",
       "      <td>0</td>\n",
       "      <td>7.0</td>\n",
       "      <td>0.0</td>\n",
       "    </tr>\n",
       "    <tr>\n",
       "      <th>241</th>\n",
       "      <td>22.67</td>\n",
       "      <td>2.00</td>\n",
       "      <td>Male</td>\n",
       "      <td>Yes</td>\n",
       "      <td>Sat</td>\n",
       "      <td>Dinner</td>\n",
       "      <td>2</td>\n",
       "      <td>1</td>\n",
       "      <td>0</td>\n",
       "      <td>1</td>\n",
       "      <td>1</td>\n",
       "      <td>9.0</td>\n",
       "      <td>0.0</td>\n",
       "    </tr>\n",
       "    <tr>\n",
       "      <th>242</th>\n",
       "      <td>17.82</td>\n",
       "      <td>1.75</td>\n",
       "      <td>Male</td>\n",
       "      <td>No</td>\n",
       "      <td>Sat</td>\n",
       "      <td>Dinner</td>\n",
       "      <td>2</td>\n",
       "      <td>1</td>\n",
       "      <td>0</td>\n",
       "      <td>0</td>\n",
       "      <td>1</td>\n",
       "      <td>10.0</td>\n",
       "      <td>0.0</td>\n",
       "    </tr>\n",
       "    <tr>\n",
       "      <th>243</th>\n",
       "      <td>18.78</td>\n",
       "      <td>3.00</td>\n",
       "      <td>Female</td>\n",
       "      <td>No</td>\n",
       "      <td>Thur</td>\n",
       "      <td>Dinner</td>\n",
       "      <td>2</td>\n",
       "      <td>0</td>\n",
       "      <td>0</td>\n",
       "      <td>0</td>\n",
       "      <td>0</td>\n",
       "      <td>16.0</td>\n",
       "      <td>15.0</td>\n",
       "    </tr>\n",
       "  </tbody>\n",
       "</table>\n",
       "<p>244 rows × 13 columns</p>\n",
       "</div>"
      ],
      "text/plain": [
       "     total_bill   tip     sex smoker   day    time  size  day_encoded  \\\n",
       "0         16.99  1.01  Female     No   Sun  Dinner     2            1   \n",
       "1         10.34  1.66    Male     No   Sun  Dinner     3            1   \n",
       "2         21.01  3.50    Male     No   Sun  Dinner     3            1   \n",
       "3         23.68  3.31    Male     No   Sun  Dinner     2            1   \n",
       "4         24.59  3.61  Female     No   Sun  Dinner     4            1   \n",
       "..          ...   ...     ...    ...   ...     ...   ...          ...   \n",
       "239       29.03  5.92    Male     No   Sat  Dinner     3            1   \n",
       "240       27.18  2.00  Female    Yes   Sat  Dinner     2            1   \n",
       "241       22.67  2.00    Male    Yes   Sat  Dinner     2            1   \n",
       "242       17.82  1.75    Male     No   Sat  Dinner     2            1   \n",
       "243       18.78  3.00  Female     No  Thur  Dinner     2            0   \n",
       "\n",
       "     time_encoded  smoker_encoded  sex_encoded  percent_tip  tip_groups  \n",
       "0               0               0            0          6.0         0.0  \n",
       "1               0               0            1         16.0        15.0  \n",
       "2               0               0            1         17.0        15.0  \n",
       "3               0               0            1         14.0        10.0  \n",
       "4               0               0            0         15.0        10.0  \n",
       "..            ...             ...          ...          ...         ...  \n",
       "239             0               0            1         20.0        15.0  \n",
       "240             0               1            0          7.0         0.0  \n",
       "241             0               1            1          9.0         0.0  \n",
       "242             0               0            1         10.0         0.0  \n",
       "243             0               0            0         16.0        15.0  \n",
       "\n",
       "[244 rows x 13 columns]"
      ]
     },
     "execution_count": 7,
     "metadata": {},
     "output_type": "execute_result"
    }
   ],
   "source": [
    "df"
   ]
  },
  {
   "cell_type": "code",
   "execution_count": 8,
   "metadata": {},
   "outputs": [
    {
     "data": {
      "text/html": [
       "<div>\n",
       "<style scoped>\n",
       "    .dataframe tbody tr th:only-of-type {\n",
       "        vertical-align: middle;\n",
       "    }\n",
       "\n",
       "    .dataframe tbody tr th {\n",
       "        vertical-align: top;\n",
       "    }\n",
       "\n",
       "    .dataframe thead th {\n",
       "        text-align: right;\n",
       "    }\n",
       "</style>\n",
       "<table border=\"1\" class=\"dataframe\">\n",
       "  <thead>\n",
       "    <tr style=\"text-align: right;\">\n",
       "      <th></th>\n",
       "      <th>total_bill</th>\n",
       "      <th>tip</th>\n",
       "      <th>size</th>\n",
       "      <th>day_encoded</th>\n",
       "      <th>time_encoded</th>\n",
       "      <th>smoker_encoded</th>\n",
       "      <th>sex_encoded</th>\n",
       "      <th>percent_tip</th>\n",
       "      <th>sex_Female</th>\n",
       "      <th>sex_Male</th>\n",
       "      <th>smoker_No</th>\n",
       "      <th>smoker_Yes</th>\n",
       "      <th>day_Fri</th>\n",
       "      <th>day_Sat</th>\n",
       "      <th>day_Sun</th>\n",
       "      <th>day_Thur</th>\n",
       "      <th>time_Dinner</th>\n",
       "      <th>time_Lunch</th>\n",
       "    </tr>\n",
       "  </thead>\n",
       "  <tbody>\n",
       "    <tr>\n",
       "      <th>0</th>\n",
       "      <td>16.99</td>\n",
       "      <td>1.01</td>\n",
       "      <td>2</td>\n",
       "      <td>1</td>\n",
       "      <td>0</td>\n",
       "      <td>0</td>\n",
       "      <td>0</td>\n",
       "      <td>6.0</td>\n",
       "      <td>True</td>\n",
       "      <td>False</td>\n",
       "      <td>True</td>\n",
       "      <td>False</td>\n",
       "      <td>False</td>\n",
       "      <td>False</td>\n",
       "      <td>True</td>\n",
       "      <td>False</td>\n",
       "      <td>True</td>\n",
       "      <td>False</td>\n",
       "    </tr>\n",
       "    <tr>\n",
       "      <th>1</th>\n",
       "      <td>10.34</td>\n",
       "      <td>1.66</td>\n",
       "      <td>3</td>\n",
       "      <td>1</td>\n",
       "      <td>0</td>\n",
       "      <td>0</td>\n",
       "      <td>1</td>\n",
       "      <td>16.0</td>\n",
       "      <td>False</td>\n",
       "      <td>True</td>\n",
       "      <td>True</td>\n",
       "      <td>False</td>\n",
       "      <td>False</td>\n",
       "      <td>False</td>\n",
       "      <td>True</td>\n",
       "      <td>False</td>\n",
       "      <td>True</td>\n",
       "      <td>False</td>\n",
       "    </tr>\n",
       "    <tr>\n",
       "      <th>2</th>\n",
       "      <td>21.01</td>\n",
       "      <td>3.50</td>\n",
       "      <td>3</td>\n",
       "      <td>1</td>\n",
       "      <td>0</td>\n",
       "      <td>0</td>\n",
       "      <td>1</td>\n",
       "      <td>17.0</td>\n",
       "      <td>False</td>\n",
       "      <td>True</td>\n",
       "      <td>True</td>\n",
       "      <td>False</td>\n",
       "      <td>False</td>\n",
       "      <td>False</td>\n",
       "      <td>True</td>\n",
       "      <td>False</td>\n",
       "      <td>True</td>\n",
       "      <td>False</td>\n",
       "    </tr>\n",
       "    <tr>\n",
       "      <th>3</th>\n",
       "      <td>23.68</td>\n",
       "      <td>3.31</td>\n",
       "      <td>2</td>\n",
       "      <td>1</td>\n",
       "      <td>0</td>\n",
       "      <td>0</td>\n",
       "      <td>1</td>\n",
       "      <td>14.0</td>\n",
       "      <td>False</td>\n",
       "      <td>True</td>\n",
       "      <td>True</td>\n",
       "      <td>False</td>\n",
       "      <td>False</td>\n",
       "      <td>False</td>\n",
       "      <td>True</td>\n",
       "      <td>False</td>\n",
       "      <td>True</td>\n",
       "      <td>False</td>\n",
       "    </tr>\n",
       "    <tr>\n",
       "      <th>4</th>\n",
       "      <td>24.59</td>\n",
       "      <td>3.61</td>\n",
       "      <td>4</td>\n",
       "      <td>1</td>\n",
       "      <td>0</td>\n",
       "      <td>0</td>\n",
       "      <td>0</td>\n",
       "      <td>15.0</td>\n",
       "      <td>True</td>\n",
       "      <td>False</td>\n",
       "      <td>True</td>\n",
       "      <td>False</td>\n",
       "      <td>False</td>\n",
       "      <td>False</td>\n",
       "      <td>True</td>\n",
       "      <td>False</td>\n",
       "      <td>True</td>\n",
       "      <td>False</td>\n",
       "    </tr>\n",
       "    <tr>\n",
       "      <th>...</th>\n",
       "      <td>...</td>\n",
       "      <td>...</td>\n",
       "      <td>...</td>\n",
       "      <td>...</td>\n",
       "      <td>...</td>\n",
       "      <td>...</td>\n",
       "      <td>...</td>\n",
       "      <td>...</td>\n",
       "      <td>...</td>\n",
       "      <td>...</td>\n",
       "      <td>...</td>\n",
       "      <td>...</td>\n",
       "      <td>...</td>\n",
       "      <td>...</td>\n",
       "      <td>...</td>\n",
       "      <td>...</td>\n",
       "      <td>...</td>\n",
       "      <td>...</td>\n",
       "    </tr>\n",
       "    <tr>\n",
       "      <th>239</th>\n",
       "      <td>29.03</td>\n",
       "      <td>5.92</td>\n",
       "      <td>3</td>\n",
       "      <td>1</td>\n",
       "      <td>0</td>\n",
       "      <td>0</td>\n",
       "      <td>1</td>\n",
       "      <td>20.0</td>\n",
       "      <td>False</td>\n",
       "      <td>True</td>\n",
       "      <td>True</td>\n",
       "      <td>False</td>\n",
       "      <td>False</td>\n",
       "      <td>True</td>\n",
       "      <td>False</td>\n",
       "      <td>False</td>\n",
       "      <td>True</td>\n",
       "      <td>False</td>\n",
       "    </tr>\n",
       "    <tr>\n",
       "      <th>240</th>\n",
       "      <td>27.18</td>\n",
       "      <td>2.00</td>\n",
       "      <td>2</td>\n",
       "      <td>1</td>\n",
       "      <td>0</td>\n",
       "      <td>1</td>\n",
       "      <td>0</td>\n",
       "      <td>7.0</td>\n",
       "      <td>True</td>\n",
       "      <td>False</td>\n",
       "      <td>False</td>\n",
       "      <td>True</td>\n",
       "      <td>False</td>\n",
       "      <td>True</td>\n",
       "      <td>False</td>\n",
       "      <td>False</td>\n",
       "      <td>True</td>\n",
       "      <td>False</td>\n",
       "    </tr>\n",
       "    <tr>\n",
       "      <th>241</th>\n",
       "      <td>22.67</td>\n",
       "      <td>2.00</td>\n",
       "      <td>2</td>\n",
       "      <td>1</td>\n",
       "      <td>0</td>\n",
       "      <td>1</td>\n",
       "      <td>1</td>\n",
       "      <td>9.0</td>\n",
       "      <td>False</td>\n",
       "      <td>True</td>\n",
       "      <td>False</td>\n",
       "      <td>True</td>\n",
       "      <td>False</td>\n",
       "      <td>True</td>\n",
       "      <td>False</td>\n",
       "      <td>False</td>\n",
       "      <td>True</td>\n",
       "      <td>False</td>\n",
       "    </tr>\n",
       "    <tr>\n",
       "      <th>242</th>\n",
       "      <td>17.82</td>\n",
       "      <td>1.75</td>\n",
       "      <td>2</td>\n",
       "      <td>1</td>\n",
       "      <td>0</td>\n",
       "      <td>0</td>\n",
       "      <td>1</td>\n",
       "      <td>10.0</td>\n",
       "      <td>False</td>\n",
       "      <td>True</td>\n",
       "      <td>True</td>\n",
       "      <td>False</td>\n",
       "      <td>False</td>\n",
       "      <td>True</td>\n",
       "      <td>False</td>\n",
       "      <td>False</td>\n",
       "      <td>True</td>\n",
       "      <td>False</td>\n",
       "    </tr>\n",
       "    <tr>\n",
       "      <th>243</th>\n",
       "      <td>18.78</td>\n",
       "      <td>3.00</td>\n",
       "      <td>2</td>\n",
       "      <td>0</td>\n",
       "      <td>0</td>\n",
       "      <td>0</td>\n",
       "      <td>0</td>\n",
       "      <td>16.0</td>\n",
       "      <td>True</td>\n",
       "      <td>False</td>\n",
       "      <td>True</td>\n",
       "      <td>False</td>\n",
       "      <td>False</td>\n",
       "      <td>False</td>\n",
       "      <td>False</td>\n",
       "      <td>True</td>\n",
       "      <td>True</td>\n",
       "      <td>False</td>\n",
       "    </tr>\n",
       "  </tbody>\n",
       "</table>\n",
       "<p>244 rows × 18 columns</p>\n",
       "</div>"
      ],
      "text/plain": [
       "     total_bill   tip  size  day_encoded  time_encoded  smoker_encoded  \\\n",
       "0         16.99  1.01     2            1             0               0   \n",
       "1         10.34  1.66     3            1             0               0   \n",
       "2         21.01  3.50     3            1             0               0   \n",
       "3         23.68  3.31     2            1             0               0   \n",
       "4         24.59  3.61     4            1             0               0   \n",
       "..          ...   ...   ...          ...           ...             ...   \n",
       "239       29.03  5.92     3            1             0               0   \n",
       "240       27.18  2.00     2            1             0               1   \n",
       "241       22.67  2.00     2            1             0               1   \n",
       "242       17.82  1.75     2            1             0               0   \n",
       "243       18.78  3.00     2            0             0               0   \n",
       "\n",
       "     sex_encoded  percent_tip  sex_Female  sex_Male  smoker_No  smoker_Yes  \\\n",
       "0              0          6.0        True     False       True       False   \n",
       "1              1         16.0       False      True       True       False   \n",
       "2              1         17.0       False      True       True       False   \n",
       "3              1         14.0       False      True       True       False   \n",
       "4              0         15.0        True     False       True       False   \n",
       "..           ...          ...         ...       ...        ...         ...   \n",
       "239            1         20.0       False      True       True       False   \n",
       "240            0          7.0        True     False      False        True   \n",
       "241            1          9.0       False      True      False        True   \n",
       "242            1         10.0       False      True       True       False   \n",
       "243            0         16.0        True     False       True       False   \n",
       "\n",
       "     day_Fri  day_Sat  day_Sun  day_Thur  time_Dinner  time_Lunch  \n",
       "0      False    False     True     False         True       False  \n",
       "1      False    False     True     False         True       False  \n",
       "2      False    False     True     False         True       False  \n",
       "3      False    False     True     False         True       False  \n",
       "4      False    False     True     False         True       False  \n",
       "..       ...      ...      ...       ...          ...         ...  \n",
       "239    False     True    False     False         True       False  \n",
       "240    False     True    False     False         True       False  \n",
       "241    False     True    False     False         True       False  \n",
       "242    False     True    False     False         True       False  \n",
       "243    False    False    False      True         True       False  \n",
       "\n",
       "[244 rows x 18 columns]"
      ]
     },
     "execution_count": 8,
     "metadata": {},
     "output_type": "execute_result"
    }
   ],
   "source": [
    "X_train"
   ]
  },
  {
   "cell_type": "markdown",
   "metadata": {},
   "source": [
    "## Visualizations"
   ]
  },
  {
   "cell_type": "code",
   "execution_count": 9,
   "metadata": {},
   "outputs": [
    {
     "data": {
      "image/png": "[encoded data removed]",
      "text/plain": [
       "<Figure size 640x480 with 1 Axes>"
      ]
     },
     "metadata": {},
     "output_type": "display_data"
    }
   ],
   "source": [
    "from matplotlib import pyplot as plt\n",
    "import seaborn as sns\n",
    "\n",
    "sns.barplot(data = df, x = \"size\", y = \"total_bill\", hue = \"time\")\n",
    "\n",
    "plt.title('')\n",
    "plt.grid(True)\n",
    "plt.show()"
   ]
  },
  {
   "cell_type": "code",
   "execution_count": 10,
   "metadata": {},
   "outputs": [
    {
     "data": {
      "image/png": "[encoded data removed]",
      "text/plain": [
       "<Figure size 1000x600 with 1 Axes>"
      ]
     },
     "metadata": {},
     "output_type": "display_data"
    }
   ],
   "source": [
    "import pandas as pd\n",
    "import matplotlib.pyplot as plt\n",
    "import seaborn as sns\n",
    "\n",
    "plt.figure(figsize=(10, 6))\n",
    "sns.boxplot(x='size', y='total_bill', data=df, palette='viridis')\n",
    "plt.title('Distribution of Total Bill by Party Size', fontsize=14)\n",
    "plt.xlabel('Party Size', fontsize=12)\n",
    "plt.ylabel('Total Bill ($)', fontsize=12)\n",
    "plt.xticks(fontsize=10)\n",
    "plt.yticks(fontsize=10)\n",
    "plt.grid(axis='y', linestyle='--', alpha=0.7)\n",
    "plt.show()\n",
    "\n"
   ]
  },
  {
   "cell_type": "code",
   "execution_count": 11,
   "metadata": {},
   "outputs": [
    {
     "data": {
      "image/png": "[encoded data removed]",
      "text/plain": [
       "<Figure size 800x600 with 1 Axes>"
      ]
     },
     "metadata": {},
     "output_type": "display_data"
    }
   ],
   "source": [
    "import pandas as pd\n",
    "import matplotlib.pyplot as plt\n",
    "import seaborn as sns\n",
    "\n",
    "plt.figure(figsize=(8, 6))\n",
    "sns.boxplot(x='smoker', y='total_bill', data=df, palette='Set2')\n",
    "plt.title('Distribution of Total Bill by Smoking Status', fontsize=14)\n",
    "plt.xlabel('Smoker', fontsize=12)\n",
    "plt.ylabel('Total Bill ($)', fontsize=12)\n",
    "plt.xticks([0, 1], ['Non-Smoker', 'Smoker'], fontsize=10)  # Customize x-axis labels\n",
    "plt.yticks(fontsize=10)\n",
    "plt.grid(axis='y', linestyle='--', alpha=0.7)\n",
    "plt.show()\n"
   ]
  },
  {
   "cell_type": "code",
   "execution_count": 12,
   "metadata": {},
   "outputs": [
    {
     "data": {
      "image/png": "[encoded data removed]",
      "text/plain": [
       "<Figure size 800x600 with 1 Axes>"
      ]
     },
     "metadata": {},
     "output_type": "display_data"
    }
   ],
   "source": [
    "import pandas as pd\n",
    "import matplotlib.pyplot as plt\n",
    "import seaborn as sns\n",
    "\n",
    "plt.figure(figsize=(8, 6))\n",
    "sns.barplot(x='size', y='total_bill', hue='sex', data=df, palette='pastel')\n",
    "plt.title('Total Bill by Party Size and Gender', fontsize=14)\n",
    "plt.xlabel('Party Size', fontsize=12)\n",
    "plt.ylabel('Total Bill ($)', fontsize=12)\n",
    "plt.xticks(fontsize=10)\n",
    "plt.yticks(fontsize=10)\n",
    "plt.legend(title='Gender', fontsize=10, title_fontsize=10)\n",
    "plt.grid(axis='y', linestyle='--', alpha=0.7)\n",
    "plt.show()\n"
   ]
  },
  {
   "cell_type": "code",
   "execution_count": 13,
   "metadata": {},
   "outputs": [],
   "source": [
    "from sklearn.model_selection import train_test_split\n",
    "\n",
    "df_train, df_test = train_test_split(df, test_size = 0.2)"
   ]
  },
  {
   "cell_type": "code",
   "execution_count": 14,
   "metadata": {},
   "outputs": [],
   "source": [
    "predictor_cols = [\"size\", \"day_encoded\", \"time_encoded\", \"total_bill\", \"smoker_encoded\",'sex_encoded']\n",
    "target_col = [\"tip_groups\"]\n",
    "\n",
    "X_train = df_train[predictor_cols]\n",
    "y_train = df_train[target_col]\n",
    "\n",
    "X_test = df_test[predictor_cols]\n",
    "y_test = df_test[target_col]"
   ]
  },
  {
   "cell_type": "code",
   "execution_count": 15,
   "metadata": {},
   "outputs": [
    {
     "name": "stdout",
     "output_type": "stream",
     "text": [
      "(195, 13)\n",
      "(49, 13)\n"
     ]
    }
   ],
   "source": [
    "print(df_train.shape)\n",
    "print(df_test.shape)"
   ]
  },
  {
   "cell_type": "markdown",
   "metadata": {},
   "source": [
    "# Basic Logistic Regression Score"
   ]
  },
  {
   "cell_type": "markdown",
   "metadata": {},
   "source": [
    "### Basic Logistic Regression Score on Training Data"
   ]
  },
  {
   "cell_type": "code",
   "execution_count": 16,
   "metadata": {},
   "outputs": [
    {
     "data": {
      "text/plain": [
       "0.4512820512820513"
      ]
     },
     "execution_count": 16,
     "metadata": {},
     "output_type": "execute_result"
    }
   ],
   "source": [
    "from sklearn.linear_model import LogisticRegression\n",
    "from sklearn.metrics import accuracy_score\n",
    "\n",
    "\n",
    "LR = LogisticRegression()\n",
    "\n",
    "LR.fit(X_train, y_train)\n",
    "LR.score(X_train, y_train)\n",
    "\n",
    "\n",
    "#which one is the most frequent\n"
   ]
  },
  {
   "cell_type": "code",
   "execution_count": 17,
   "metadata": {},
   "outputs": [
    {
     "data": {
      "text/plain": [
       "195"
      ]
     },
     "execution_count": 17,
     "metadata": {},
     "output_type": "execute_result"
    }
   ],
   "source": [
    "y_train.size"
   ]
  },
  {
   "cell_type": "code",
   "execution_count": 18,
   "metadata": {},
   "outputs": [
    {
     "name": "stdout",
     "output_type": "stream",
     "text": [
      "tip_groups\n",
      "15.0          76\n",
      "10.0          67\n",
      "0.0           27\n",
      "20.0          18\n",
      "25.0           7\n",
      "Name: count, dtype: int64\n",
      "76\n",
      "Base rate: 0.38974358974358975\n"
     ]
    }
   ],
   "source": [
    "# base rate\n",
    "\n",
    "class_counts = y_train[target_col].value_counts() #how many in each group\n",
    "print(class_counts)\n",
    "\n",
    "most_counts = class_counts.max() #max\n",
    "print(most_counts)\n",
    "\n",
    "base_rate = most_counts / len(y_train) #average\n",
    "\n",
    "print(\"Base rate:\", base_rate)"
   ]
  },
  {
   "cell_type": "markdown",
   "metadata": {},
   "source": [
    "### Basic Logistic Regression Score on Testing Data"
   ]
  },
  {
   "cell_type": "code",
   "execution_count": 19,
   "metadata": {},
   "outputs": [
    {
     "data": {
      "text/plain": [
       "0.42857142857142855"
      ]
     },
     "execution_count": 19,
     "metadata": {},
     "output_type": "execute_result"
    }
   ],
   "source": [
    "from sklearn.linear_model import LogisticRegression\n",
    "\n",
    "LR = LogisticRegression()\n",
    "\n",
    "LR.fit(X_train, y_train)\n",
    "LR.score(X_test, y_test)\n"
   ]
  },
  {
   "cell_type": "markdown",
   "metadata": {},
   "source": [
    "### Combination Logistic Regression Score on Training Data"
   ]
  },
  {
   "cell_type": "code",
   "execution_count": 20,
   "metadata": {},
   "outputs": [
    {
     "name": "stdout",
     "output_type": "stream",
     "text": [
      "['total_bill', 'sex_encoded']\n",
      "['size', 'sex_encoded']\n",
      "['total_bill', 'size', 'sex_encoded']\n",
      "['total_bill', 'smoker_encoded']\n",
      "['size', 'smoker_encoded']\n",
      "['total_bill', 'size', 'smoker_encoded']\n",
      "['total_bill', 'day_encoded']\n",
      "['size', 'day_encoded']\n",
      "['total_bill', 'size', 'day_encoded']\n",
      "['total_bill', 'time_encoded']\n",
      "['size', 'time_encoded']\n",
      "['total_bill', 'size', 'time_encoded']\n",
      "Best Score:  0.43589743589743596\n",
      "Best Columns:  ['total_bill', 'size', 'time_encoded']\n"
     ]
    }
   ],
   "source": [
    "from itertools import combinations\n",
    "from sklearn.model_selection import cross_val_score\n",
    "import random\n",
    "\n",
    "# issue is we are looking at same cateogories --> looking at sexes in both quan and qual cols\n",
    "all_qual_cols= [\"sex\", \"smoker\",\"day\", \"time\"]\n",
    "all_quan_cols = [\"total_bill\", \"size\"]\n",
    "\n",
    "score_counter = 0\n",
    "\n",
    "for qual in all_qual_cols:\n",
    "  qual_cols = [col for col in X_train.columns if qual in col ]\n",
    "  for quan in range(1, len(all_quan_cols) + 1):\n",
    "    for comb in combinations(all_quan_cols, quan):\n",
    "      cols = list(comb) + qual_cols\n",
    "      print(cols)\n",
    "      # training LR model and scoring it\n",
    "      LR = LogisticRegression()\n",
    "      #using cross validation on LR to avoid overfitting\n",
    "      cv_scores_LR = cross_val_score(LR, X_train[cols], y_train, cv = 5) #training on remaining 80% of data\n",
    "\n",
    "      if cv_scores_LR.mean() > score_counter:\n",
    "        #updating the best score and columns of that score\n",
    "        score_counter = cv_scores_LR.mean()\n",
    "        col_best = cols\n",
    "\n",
    "print('Best Score: ', score_counter)\n",
    "print('Best Columns: ', col_best)"
   ]
  },
  {
   "cell_type": "code",
   "execution_count": 21,
   "metadata": {},
   "outputs": [
    {
     "data": {
      "text/plain": [
       "0.4461538461538462"
      ]
     },
     "execution_count": 21,
     "metadata": {},
     "output_type": "execute_result"
    }
   ],
   "source": [
    "cols = col_best\n",
    "\n",
    "LR = LogisticRegression()\n",
    "LR.fit(X_train[cols], y_train)\n",
    "LR.score(X_train[cols], y_train)"
   ]
  },
  {
   "cell_type": "markdown",
   "metadata": {},
   "source": [
    "### Combination Logistic Regression Score on Testing Data"
   ]
  },
  {
   "cell_type": "code",
   "execution_count": 22,
   "metadata": {},
   "outputs": [
    {
     "name": "stdout",
     "output_type": "stream",
     "text": [
      "['total_bill', 'sex_encoded']\n",
      "['size', 'sex_encoded']\n",
      "['total_bill', 'size', 'sex_encoded']\n",
      "['total_bill', 'smoker_encoded']\n",
      "['size', 'smoker_encoded']\n",
      "['total_bill', 'size', 'smoker_encoded']\n",
      "['total_bill', 'day_encoded']\n",
      "['size', 'day_encoded']\n",
      "['total_bill', 'size', 'day_encoded']\n",
      "['total_bill', 'time_encoded']\n",
      "['size', 'time_encoded']\n",
      "['total_bill', 'size', 'time_encoded']\n",
      "Best Score:  0.4111111111111111\n",
      "Best Three Columns:  ['total_bill', 'size', 'sex_encoded']\n"
     ]
    }
   ],
   "source": [
    "from itertools import combinations\n",
    "from sklearn.model_selection import cross_val_score\n",
    "\n",
    "all_qual_cols= [\"sex\", \"smoker\",\"day\", \"time\"]\n",
    "all_quan_cols = [\"total_bill\", \"size\"]\n",
    "\n",
    "score_counter = 0\n",
    "\n",
    "for qual in all_qual_cols:\n",
    "  qual_cols = [col for col in X_train.columns if qual in col ]\n",
    "  for quan in range(1, len(all_quan_cols) + 1):\n",
    "    for comb in combinations(all_quan_cols, quan):\n",
    "      cols = list(comb) + qual_cols\n",
    "      print(cols)\n",
    "    # training LR model and scoring it\n",
    "    LR = LogisticRegression()\n",
    "    #using cross validation on LR to avoid overfitting\n",
    "    cv_scores_LR = cross_val_score(LR, X_test[cols], y_test, cv = 5) #training on remaining 80% of data\n",
    "\n",
    "    if cv_scores_LR.mean() > score_counter:\n",
    "      #updating the best score and columns of that score\n",
    "      score_counter = cv_scores_LR.mean()\n",
    "      col_best = cols\n",
    "\n",
    "print('Best Score: ', score_counter)\n",
    "print('Best Three Columns: ', col_best)"
   ]
  },
  {
   "cell_type": "code",
   "execution_count": 23,
   "metadata": {},
   "outputs": [
    {
     "data": {
      "text/plain": [
       "0.3469387755102041"
      ]
     },
     "execution_count": 23,
     "metadata": {},
     "output_type": "execute_result"
    }
   ],
   "source": [
    "cols = col_best\n",
    "\n",
    "LR = LogisticRegression()\n",
    "LR.fit(X_train[cols], y_train)\n",
    "LR.score(X_test[cols], y_test)"
   ]
  },
  {
   "cell_type": "markdown",
   "metadata": {},
   "source": [
    "# Logistic Regression with Optimization Score"
   ]
  },
  {
   "cell_type": "code",
   "execution_count": 38,
   "metadata": {},
   "outputs": [],
   "source": [
    "from sklearn.model_selection import cross_val_score\n",
    "from GDO import LogisticRegression, GradientDescentOptimizer\n",
    "import torch"
   ]
  },
  {
   "cell_type": "code",
   "execution_count": 39,
   "metadata": {},
   "outputs": [],
   "source": [
    "X_train_tensor = torch.tensor(X_train.values, dtype=torch.double)\n",
    "y_train_tensor = torch.tensor(y_train.values, dtype=torch.double)"
   ]
  },
  {
   "cell_type": "code",
   "execution_count": 40,
   "metadata": {},
   "outputs": [],
   "source": [
    "LRO = LogisticRegression()\n",
    "opt = GradientDescentOptimizer(LRO)"
   ]
  },
  {
   "cell_type": "code",
   "execution_count": 41,
   "metadata": {},
   "outputs": [
    {
     "name": "stdout",
     "output_type": "stream",
     "text": [
      "self.w inside of if statnemt tensor([0.0828, 0.9065, 0.5944, 0.9278, 0.8770, 0.4739], dtype=torch.float64)\n",
      "s:  tensor([11.7746, 13.6985, 12.9700, 12.6475, 25.0091, 30.6417, 21.2484, 19.0494,\n",
      "        46.5702, 20.7882, 11.5386, 37.8549, 23.7672, 18.5158, 20.1476, 21.6796,\n",
      "        15.5004, 25.1761, 25.4043, 41.8008, 17.0009, 18.1951, 14.8316, 14.1134,\n",
      "        25.5758, 16.7615, 15.7038, 44.5823, 14.9947, 31.7729, 13.2113, 40.0460,\n",
      "        21.9164, 16.8999, 13.9509, 20.2594, 15.8577, 16.3495, 11.7045, 28.5633,\n",
      "        23.4566, 17.6429, 13.4573, 17.9491, 29.4812, 17.0113, 11.3185, 17.1326,\n",
      "        20.0545, 20.4820, 18.1725, 30.3959, 20.4342, 21.5683, 18.9697, 11.2973,\n",
      "        11.7732, 24.4331,  8.2482, 14.7388, 10.7392, 13.3233, 24.9411, 33.2415,\n",
      "        36.9508, 13.1808, 10.8891, 18.0426, 22.1799, 10.3079, 16.0326, 18.8112,\n",
      "        20.3158, 13.9179, 10.4066, 13.6985, 14.2612, 10.6412, 24.1603, 27.1671,\n",
      "        16.7429, 14.4646, 28.7401, 21.6596, 22.4895, 18.2838, 24.0689, 16.0040,\n",
      "        11.0747, 22.7507, 17.0632, 19.9353, 21.4232, 20.0170, 17.7457, 22.4126,\n",
      "        21.1222, 20.8075, 22.4724, 17.7019, 23.9521, 22.3510, 17.0910, 20.8665,\n",
      "         7.7160, 26.6513, 24.0861, 16.5110, 15.2261, 12.3179, 26.1886, 17.5900,\n",
      "        21.3245,  4.7146, 14.2996, 16.8319, 16.6742, 31.1327, 12.8516, 16.5758,\n",
      "        14.6456,  8.5072,  9.6042, 20.9909, 18.0797, 34.3986, 38.2862, 19.3037,\n",
      "        10.8561, 12.2927, 19.5583, 28.4980, 18.1944, 18.1373, 30.0790, 16.0604,\n",
      "        33.3892, 25.8132, 19.0216, 13.5846, 38.5229, 18.9366,  8.6557, 46.5530,\n",
      "        19.5531, 12.6984, 13.8674, 12.3391, 30.9326, 24.3789, 23.9383, 16.2189,\n",
      "        26.8702, 29.9172, 18.4694, 34.7374,  8.2018, 13.3200, 29.3018, 13.7880,\n",
      "        14.2319, 16.9689, 15.2591, 49.6482, 20.6854, 24.8654, 10.0203, 21.4339,\n",
      "        27.7338, 15.8529, 28.1180, 15.0450, 19.5668, 17.6390, 13.1763, 10.7685,\n",
      "        46.4974, 18.0288, 31.9740, 34.5533, 14.6004, 17.2758, 25.4266, 12.0801,\n",
      "        15.4686, 16.4734, 11.9051, 27.1764, 26.6097, 29.0158, 16.8531, 16.6913,\n",
      "        32.4319, 18.7370, 16.3347], dtype=torch.float64)\n",
      "sigma_s: tensor([1.0000, 1.0000, 1.0000, 1.0000, 1.0000, 1.0000, 1.0000, 1.0000, 1.0000,\n",
      "        1.0000, 1.0000, 1.0000, 1.0000, 1.0000, 1.0000, 1.0000, 1.0000, 1.0000,\n",
      "        1.0000, 1.0000, 1.0000, 1.0000, 1.0000, 1.0000, 1.0000, 1.0000, 1.0000,\n",
      "        1.0000, 1.0000, 1.0000, 1.0000, 1.0000, 1.0000, 1.0000, 1.0000, 1.0000,\n",
      "        1.0000, 1.0000, 1.0000, 1.0000, 1.0000, 1.0000, 1.0000, 1.0000, 1.0000,\n",
      "        1.0000, 1.0000, 1.0000, 1.0000, 1.0000, 1.0000, 1.0000, 1.0000, 1.0000,\n",
      "        1.0000, 1.0000, 1.0000, 1.0000, 0.9997, 1.0000, 1.0000, 1.0000, 1.0000,\n",
      "        1.0000, 1.0000, 1.0000, 1.0000, 1.0000, 1.0000, 1.0000, 1.0000, 1.0000,\n",
      "        1.0000, 1.0000, 1.0000, 1.0000, 1.0000, 1.0000, 1.0000, 1.0000, 1.0000,\n",
      "        1.0000, 1.0000, 1.0000, 1.0000, 1.0000, 1.0000, 1.0000, 1.0000, 1.0000,\n",
      "        1.0000, 1.0000, 1.0000, 1.0000, 1.0000, 1.0000, 1.0000, 1.0000, 1.0000,\n",
      "        1.0000, 1.0000, 1.0000, 1.0000, 1.0000, 0.9996, 1.0000, 1.0000, 1.0000,\n",
      "        1.0000, 1.0000, 1.0000, 1.0000, 1.0000, 0.9911, 1.0000, 1.0000, 1.0000,\n",
      "        1.0000, 1.0000, 1.0000, 1.0000, 0.9998, 0.9999, 1.0000, 1.0000, 1.0000,\n",
      "        1.0000, 1.0000, 1.0000, 1.0000, 1.0000, 1.0000, 1.0000, 1.0000, 1.0000,\n",
      "        1.0000, 1.0000, 1.0000, 1.0000, 1.0000, 1.0000, 1.0000, 0.9998, 1.0000,\n",
      "        1.0000, 1.0000, 1.0000, 1.0000, 1.0000, 1.0000, 1.0000, 1.0000, 1.0000,\n",
      "        1.0000, 1.0000, 1.0000, 0.9997, 1.0000, 1.0000, 1.0000, 1.0000, 1.0000,\n",
      "        1.0000, 1.0000, 1.0000, 1.0000, 1.0000, 1.0000, 1.0000, 1.0000, 1.0000,\n",
      "        1.0000, 1.0000, 1.0000, 1.0000, 1.0000, 1.0000, 1.0000, 1.0000, 1.0000,\n",
      "        1.0000, 1.0000, 1.0000, 1.0000, 1.0000, 1.0000, 1.0000, 1.0000, 1.0000,\n",
      "        1.0000, 1.0000, 1.0000, 1.0000, 1.0000, 1.0000], dtype=torch.float64)\n",
      "y tensor([[10.],\n",
      "        [10.],\n",
      "        [20.],\n",
      "        [15.],\n",
      "        [15.],\n",
      "        [15.],\n",
      "        [15.],\n",
      "        [15.],\n",
      "        [ 0.],\n",
      "        [15.],\n",
      "        [10.],\n",
      "        [ 0.],\n",
      "        [10.],\n",
      "        [15.],\n",
      "        [10.],\n",
      "        [15.],\n",
      "        [10.],\n",
      "        [15.],\n",
      "        [15.],\n",
      "        [10.],\n",
      "        [15.],\n",
      "        [15.],\n",
      "        [15.],\n",
      "        [ 0.],\n",
      "        [ 0.],\n",
      "        [10.],\n",
      "        [10.],\n",
      "        [ 0.],\n",
      "        [25.],\n",
      "        [15.],\n",
      "        [10.],\n",
      "        [ 0.],\n",
      "        [10.],\n",
      "        [20.],\n",
      "        [10.],\n",
      "        [15.],\n",
      "        [10.],\n",
      "        [10.],\n",
      "        [15.],\n",
      "        [15.],\n",
      "        [ 0.],\n",
      "        [15.],\n",
      "        [15.],\n",
      "        [10.],\n",
      "        [15.],\n",
      "        [10.],\n",
      "        [15.],\n",
      "        [15.],\n",
      "        [ 0.],\n",
      "        [15.],\n",
      "        [20.],\n",
      "        [ 0.],\n",
      "        [10.],\n",
      "        [15.],\n",
      "        [10.],\n",
      "        [10.],\n",
      "        [10.],\n",
      "        [10.],\n",
      "        [15.],\n",
      "        [10.],\n",
      "        [15.],\n",
      "        [10.],\n",
      "        [ 0.],\n",
      "        [10.],\n",
      "        [10.],\n",
      "        [15.],\n",
      "        [10.],\n",
      "        [15.],\n",
      "        [10.],\n",
      "        [15.],\n",
      "        [10.],\n",
      "        [15.],\n",
      "        [ 0.],\n",
      "        [ 0.],\n",
      "        [10.],\n",
      "        [10.],\n",
      "        [15.],\n",
      "        [10.],\n",
      "        [20.],\n",
      "        [ 0.],\n",
      "        [20.],\n",
      "        [15.],\n",
      "        [10.],\n",
      "        [15.],\n",
      "        [ 0.],\n",
      "        [15.],\n",
      "        [20.],\n",
      "        [10.],\n",
      "        [15.],\n",
      "        [15.],\n",
      "        [15.],\n",
      "        [15.],\n",
      "        [15.],\n",
      "        [20.],\n",
      "        [10.],\n",
      "        [15.],\n",
      "        [15.],\n",
      "        [10.],\n",
      "        [10.],\n",
      "        [15.],\n",
      "        [10.],\n",
      "        [10.],\n",
      "        [25.],\n",
      "        [10.],\n",
      "        [10.],\n",
      "        [10.],\n",
      "        [25.],\n",
      "        [10.],\n",
      "        [25.],\n",
      "        [25.],\n",
      "        [15.],\n",
      "        [15.],\n",
      "        [15.],\n",
      "        [25.],\n",
      "        [15.],\n",
      "        [15.],\n",
      "        [10.],\n",
      "        [10.],\n",
      "        [15.],\n",
      "        [15.],\n",
      "        [10.],\n",
      "        [15.],\n",
      "        [15.],\n",
      "        [20.],\n",
      "        [ 0.],\n",
      "        [10.],\n",
      "        [15.],\n",
      "        [10.],\n",
      "        [25.],\n",
      "        [10.],\n",
      "        [20.],\n",
      "        [ 0.],\n",
      "        [20.],\n",
      "        [ 0.],\n",
      "        [ 0.],\n",
      "        [10.],\n",
      "        [15.],\n",
      "        [15.],\n",
      "        [10.],\n",
      "        [10.],\n",
      "        [ 0.],\n",
      "        [ 0.],\n",
      "        [10.],\n",
      "        [15.],\n",
      "        [20.],\n",
      "        [15.],\n",
      "        [15.],\n",
      "        [15.],\n",
      "        [ 0.],\n",
      "        [10.],\n",
      "        [15.],\n",
      "        [15.],\n",
      "        [10.],\n",
      "        [15.],\n",
      "        [20.],\n",
      "        [10.],\n",
      "        [25.],\n",
      "        [15.],\n",
      "        [ 0.],\n",
      "        [15.],\n",
      "        [10.],\n",
      "        [15.],\n",
      "        [20.],\n",
      "        [15.],\n",
      "        [10.],\n",
      "        [ 0.],\n",
      "        [15.],\n",
      "        [15.],\n",
      "        [10.],\n",
      "        [ 0.],\n",
      "        [ 0.],\n",
      "        [15.],\n",
      "        [10.],\n",
      "        [10.],\n",
      "        [10.],\n",
      "        [15.],\n",
      "        [10.],\n",
      "        [20.],\n",
      "        [ 0.],\n",
      "        [ 0.],\n",
      "        [15.],\n",
      "        [15.],\n",
      "        [15.],\n",
      "        [15.],\n",
      "        [10.],\n",
      "        [10.],\n",
      "        [15.],\n",
      "        [10.],\n",
      "        [15.],\n",
      "        [15.],\n",
      "        [10.],\n",
      "        [15.],\n",
      "        [10.],\n",
      "        [10.],\n",
      "        [10.]], dtype=torch.float64)\n",
      "logistic loss: tensor(nan, dtype=torch.float64)\n",
      "step w: tensor([ 2.8336,  1.6973,  0.9318, 21.0598,  1.2764,  1.1667],\n",
      "       dtype=torch.float64)\n"
     ]
    }
   ],
   "source": [
    "\n",
    "\n",
    "loss_vec = []\n",
    "\n",
    "for _ in range(1):\n",
    "    loss_var = LRO.loss(X_train_tensor,y_train_tensor)    \n",
    "    loss_vec.append(loss_var)\n",
    "    opt.step(X_train_tensor, y_train_tensor, alpha = 0.1, beta = 0.9) #optimizer with momentum\n"
   ]
  },
  {
   "cell_type": "markdown",
   "metadata": {},
   "source": [
    "### Plotting data and checking the prediction at 10,000 iterations"
   ]
  },
  {
   "cell_type": "code",
   "execution_count": 42,
   "metadata": {},
   "outputs": [
    {
     "data": {
      "image/png": "[encoded data removed]",
      "text/plain": [
       "<Figure size 640x480 with 1 Axes>"
      ]
     },
     "metadata": {},
     "output_type": "display_data"
    }
   ],
   "source": [
    "plt.plot(torch.arange(1, len(loss_vec)+1), loss_vec, color = \"black\")\n",
    "plt.semilogx()\n",
    "plt.grid(True)\n",
    "labs = plt.gca().set(xlabel = \"Number of gradient descent iterations\", ylabel = \"Loss (binary cross entropy)\")"
   ]
  },
  {
   "cell_type": "markdown",
   "metadata": {},
   "source": [
    "In this graph, we can see that as we increase the number of gradient descent optimizer iterations, the graph flattens out to reach convergence."
   ]
  },
  {
   "cell_type": "code",
   "execution_count": 43,
   "metadata": {},
   "outputs": [
    {
     "name": "stdout",
     "output_type": "stream",
     "text": [
      "X:  tensor([[ 2.0000,  1.0000,  0.0000, 10.5900,  1.0000,  0.0000],\n",
      "        [ 2.0000,  0.0000,  1.0000, 13.0000,  1.0000,  0.0000],\n",
      "        [ 2.0000,  0.0000,  1.0000, 13.1600,  0.0000,  0.0000],\n",
      "        ...,\n",
      "        [ 2.0000,  0.0000,  1.0000, 32.6800,  1.0000,  1.0000],\n",
      "        [ 4.0000,  1.0000,  0.0000, 18.3500,  0.0000,  1.0000],\n",
      "        [ 2.0000,  1.0000,  0.0000, 16.4500,  0.0000,  0.0000]],\n",
      "       dtype=torch.float64)\n",
      "self.w score tensor([0.1394, 0.9842, 0.2125, 0.8954, 0.0079, 0.2891])\n"
     ]
    }
   ],
   "source": [
    "from GDO import LogisticRegression\n",
    "\n",
    "LRO = LogisticRegression()\n",
    "\n",
    "GDO_predict = (1.0 * (LRO.predict(X_train_tensor) == y_train_tensor)).mean()\n",
    "print(\"Prediction Accuracy with Gradient Descent Optimizer Training Data: \", float(GDO_predict))"
   ]
  },
  {
   "cell_type": "markdown",
   "metadata": {},
   "source": [
    "### Running Gradient Descent on Testing Data"
   ]
  },
  {
   "cell_type": "code",
   "execution_count": null,
   "metadata": {},
   "outputs": [
    {
     "name": "stdout",
     "output_type": "stream",
     "text": [
      "X:  tensor([[ 2.0000,  1.0000,  0.0000, 20.2900,  0.0000,  0.0000],\n",
      "        [ 2.0000,  1.0000,  0.0000, 20.9200,  0.0000,  0.0000],\n",
      "        [ 4.0000,  1.0000,  0.0000, 30.4000,  0.0000,  1.0000],\n",
      "        [ 4.0000,  1.0000,  0.0000, 18.3500,  0.0000,  1.0000],\n",
      "        [ 4.0000,  1.0000,  0.0000, 25.5600,  0.0000,  1.0000],\n",
      "        [ 2.0000,  0.0000,  1.0000, 13.0300,  0.0000,  1.0000],\n",
      "        [ 3.0000,  1.0000,  0.0000, 20.6500,  0.0000,  1.0000],\n",
      "        [ 2.0000,  0.0000,  1.0000, 14.5200,  0.0000,  0.0000],\n",
      "        [ 3.0000,  1.0000,  0.0000, 16.9700,  0.0000,  0.0000],\n",
      "        [ 2.0000,  1.0000,  0.0000, 12.9000,  1.0000,  0.0000],\n",
      "        [ 1.0000,  1.0000,  0.0000,  7.2500,  0.0000,  0.0000],\n",
      "        [ 2.0000,  1.0000,  0.0000,  9.6800,  0.0000,  1.0000],\n",
      "        [ 4.0000,  1.0000,  0.0000, 23.1700,  1.0000,  1.0000],\n",
      "        [ 2.0000,  1.0000,  0.0000, 14.8300,  0.0000,  0.0000],\n",
      "        [ 2.0000,  0.0000,  1.0000, 13.4200,  0.0000,  0.0000],\n",
      "        [ 2.0000,  0.0000,  1.0000, 10.6500,  0.0000,  0.0000],\n",
      "        [ 3.0000,  1.0000,  0.0000, 28.5500,  0.0000,  1.0000],\n",
      "        [ 2.0000,  0.0000,  1.0000, 17.2900,  0.0000,  1.0000],\n",
      "        [ 5.0000,  1.0000,  0.0000, 28.1500,  1.0000,  1.0000],\n",
      "        [ 2.0000,  0.0000,  1.0000, 15.4800,  1.0000,  1.0000],\n",
      "        [ 2.0000,  1.0000,  1.0000, 13.4200,  1.0000,  0.0000],\n",
      "        [ 2.0000,  1.0000,  0.0000, 27.1800,  1.0000,  0.0000],\n",
      "        [ 2.0000,  1.0000,  0.0000, 32.8300,  1.0000,  1.0000],\n",
      "        [ 2.0000,  1.0000,  0.0000, 34.6300,  1.0000,  1.0000],\n",
      "        [ 3.0000,  1.0000,  0.0000, 15.6900,  1.0000,  1.0000],\n",
      "        [ 2.0000,  0.0000,  1.0000, 14.2600,  0.0000,  1.0000],\n",
      "        [ 2.0000,  1.0000,  0.0000, 26.4100,  0.0000,  0.0000],\n",
      "        [ 3.0000,  1.0000,  0.0000, 23.1000,  1.0000,  1.0000],\n",
      "        [ 2.0000,  1.0000,  0.0000, 10.5900,  1.0000,  0.0000],\n",
      "        [ 3.0000,  1.0000,  0.0000, 16.2900,  0.0000,  1.0000],\n",
      "        [ 2.0000,  0.0000,  1.0000, 16.5800,  1.0000,  1.0000],\n",
      "        [ 3.0000,  1.0000,  0.0000, 16.2100,  0.0000,  0.0000],\n",
      "        [ 2.0000,  1.0000,  0.0000, 20.7600,  0.0000,  1.0000],\n",
      "        [ 2.0000,  0.0000,  1.0000, 18.2600,  0.0000,  0.0000],\n",
      "        [ 3.0000,  1.0000,  0.0000, 28.1700,  1.0000,  0.0000],\n",
      "        [ 2.0000,  0.0000,  1.0000, 28.4400,  1.0000,  1.0000],\n",
      "        [ 2.0000,  1.0000,  0.0000,  9.6000,  1.0000,  0.0000],\n",
      "        [ 2.0000,  0.0000,  1.0000, 12.2600,  0.0000,  0.0000],\n",
      "        [ 2.0000,  1.0000,  0.0000, 19.6500,  0.0000,  0.0000],\n",
      "        [ 2.0000,  1.0000,  1.0000, 12.1600,  1.0000,  1.0000],\n",
      "        [ 2.0000,  1.0000,  0.0000, 17.3100,  0.0000,  0.0000],\n",
      "        [ 3.0000,  1.0000,  0.0000, 18.6900,  0.0000,  1.0000],\n",
      "        [ 2.0000,  0.0000,  1.0000, 16.0000,  1.0000,  1.0000],\n",
      "        [ 2.0000,  0.0000,  1.0000, 17.4700,  0.0000,  0.0000],\n",
      "        [ 2.0000,  0.0000,  1.0000, 13.5100,  1.0000,  1.0000],\n",
      "        [ 2.0000,  1.0000,  0.0000, 10.6300,  1.0000,  0.0000],\n",
      "        [ 1.0000,  1.0000,  1.0000,  8.5800,  1.0000,  1.0000],\n",
      "        [ 2.0000,  1.0000,  0.0000, 12.0300,  1.0000,  1.0000],\n",
      "        [ 4.0000,  1.0000,  0.0000, 24.0100,  1.0000,  1.0000]],\n",
      "       dtype=torch.float64)\n",
      "self.w score tensor([0.5054, 0.0323, 0.8663, 0.0796, 0.5821, 0.2387])\n"
     ]
    },
    {
     "ename": "RuntimeError",
     "evalue": "expected scalar type Double but found Float",
     "output_type": "error",
     "traceback": [
      "\u001b[0;31m---------------------------------------------------------------------------\u001b[0m",
      "\u001b[0;31mRuntimeError\u001b[0m                              Traceback (most recent call last)",
      "\u001b[1;32m/Users/lenoxherman/Tippers/ProjectFinal.ipynb Cell 35\u001b[0m line \u001b[0;36m9\n\u001b[1;32m      <a href='vscode-notebook-cell:/Users/lenoxherman/Tippers/ProjectFinal.ipynb#Y151sZmlsZQ%3D%3D?line=4'>5</a>\u001b[0m X_test_tensor \u001b[39m=\u001b[39m torch\u001b[39m.\u001b[39mtensor(X_test\u001b[39m.\u001b[39mvalues, dtype\u001b[39m=\u001b[39mtorch\u001b[39m.\u001b[39mdouble)\n\u001b[1;32m      <a href='vscode-notebook-cell:/Users/lenoxherman/Tippers/ProjectFinal.ipynb#Y151sZmlsZQ%3D%3D?line=5'>6</a>\u001b[0m y_test_tensor \u001b[39m=\u001b[39m torch\u001b[39m.\u001b[39mtensor(y_test\u001b[39m.\u001b[39mvalues, dtype\u001b[39m=\u001b[39mtorch\u001b[39m.\u001b[39mdouble)\n\u001b[0;32m----> <a href='vscode-notebook-cell:/Users/lenoxherman/Tippers/ProjectFinal.ipynb#Y151sZmlsZQ%3D%3D?line=8'>9</a>\u001b[0m GDO_predict \u001b[39m=\u001b[39m (\u001b[39m1.0\u001b[39m \u001b[39m*\u001b[39m (LRO\u001b[39m.\u001b[39;49mpredict(X_test_tensor) \u001b[39m==\u001b[39m y_test_tensor))\u001b[39m.\u001b[39mmean()\n\u001b[1;32m     <a href='vscode-notebook-cell:/Users/lenoxherman/Tippers/ProjectFinal.ipynb#Y151sZmlsZQ%3D%3D?line=9'>10</a>\u001b[0m \u001b[39mprint\u001b[39m(\u001b[39m\"\u001b[39m\u001b[39mPrediction Accuracy with Gradient Descent Optimizer Testing Data: \u001b[39m\u001b[39m\"\u001b[39m, \u001b[39mfloat\u001b[39m(GDO_predict))\n",
      "File \u001b[0;32m~/Tippers/GDO.py:49\u001b[0m, in \u001b[0;36mLinearModel.predict\u001b[0;34m(self, X)\u001b[0m\n\u001b[1;32m     36\u001b[0m \u001b[39mdef\u001b[39;00m \u001b[39mpredict\u001b[39m(\u001b[39mself\u001b[39m, X):\n\u001b[1;32m     37\u001b[0m \u001b[39m    \u001b[39m\u001b[39m\"\"\"\u001b[39;00m\n\u001b[1;32m     38\u001b[0m \u001b[39m    Compute the predictions for each data point in the feature matrix X. The prediction for the ith data point is either 0 or 1. \u001b[39;00m\n\u001b[1;32m     39\u001b[0m \n\u001b[0;32m   (...)\u001b[0m\n\u001b[1;32m     47\u001b[0m \u001b[39m        y_hat, torch.Tensor: vector predictions in {0.0, 1.0}. y_hat.size() = (n,)\u001b[39;00m\n\u001b[1;32m     48\u001b[0m \u001b[39m    \"\"\"\u001b[39;00m\n\u001b[0;32m---> 49\u001b[0m     scores \u001b[39m=\u001b[39m \u001b[39mself\u001b[39;49m\u001b[39m.\u001b[39;49mscore(X\u001b[39m.\u001b[39;49mdouble())\u001b[39m.\u001b[39mdouble()\n\u001b[1;32m     50\u001b[0m     y_hat \u001b[39m=\u001b[39m torch\u001b[39m.\u001b[39mwhere(scores \u001b[39m>\u001b[39m\u001b[39m=\u001b[39m \u001b[39m0\u001b[39m, torch\u001b[39m.\u001b[39mtensor(\u001b[39m1.0\u001b[39m), torch\u001b[39m.\u001b[39mtensor(\u001b[39m0.0\u001b[39m))\n\u001b[1;32m     51\u001b[0m     \u001b[39mreturn\u001b[39;00m y_hat\n",
      "File \u001b[0;32m~/Tippers/GDO.py:33\u001b[0m, in \u001b[0;36mLinearModel.score\u001b[0;34m(self, X)\u001b[0m\n\u001b[1;32m     31\u001b[0m \u001b[39mprint\u001b[39m(\u001b[39m\"\u001b[39m\u001b[39mX: \u001b[39m\u001b[39m\"\u001b[39m, X)\n\u001b[1;32m     32\u001b[0m \u001b[39mprint\u001b[39m(\u001b[39m\"\u001b[39m\u001b[39mself.w score\u001b[39m\u001b[39m\"\u001b[39m, \u001b[39mself\u001b[39m\u001b[39m.\u001b[39mw)\n\u001b[0;32m---> 33\u001b[0m scores \u001b[39m=\u001b[39m (X\u001b[39m.\u001b[39;49mdouble()\u001b[39m@self\u001b[39;49m\u001b[39m.\u001b[39;49mw)\u001b[39m.\u001b[39mdouble()\n\u001b[1;32m     34\u001b[0m \u001b[39mreturn\u001b[39;00m scores\n",
      "\u001b[0;31mRuntimeError\u001b[0m: expected scalar type Double but found Float"
     ]
    }
   ],
   "source": [
    "from GDO import LogisticRegression\n",
    "\n",
    "LRO = LogisticRegression()\n",
    "\n",
    "X_test_tensor = torch.tensor(X_test.values, dtype=torch.double)\n",
    "y_test_tensor = torch.tensor(y_test.values, dtype=torch.double)\n",
    "\n",
    "\n",
    "GDO_predict = (1.0 * (LRO.predict(X_test_tensor) == y_test_tensor)).mean()\n",
    "print(\"Prediction Accuracy with Gradient Descent Optimizer Testing Data: \", float(GDO_predict))"
   ]
  },
  {
   "cell_type": "markdown",
   "metadata": {},
   "source": [
    "# Decision Tree Classifier Model Prediction Score"
   ]
  },
  {
   "cell_type": "code",
   "execution_count": 24,
   "metadata": {},
   "outputs": [
    {
     "name": "stdout",
     "output_type": "stream",
     "text": [
      "Best score:  0.41025641025641024\n",
      "Best depth:  4\n"
     ]
    }
   ],
   "source": [
    "from sklearn.tree import DecisionTreeClassifier\n",
    "from sklearn.model_selection import cross_val_score\n",
    "\n",
    "\n",
    "score_counter = 0\n",
    "best_depth = 0\n",
    "\n",
    "for i in range(1, 50):\n",
    "    DTC = DecisionTreeClassifier(max_depth= i)\n",
    "    cv_scores= cross_val_score(DTC, X_train, y_train, cv= 5)\n",
    "    if(cv_scores.mean() > score_counter):\n",
    "        score_counter = cv_scores.mean()\n",
    "        best_depth = i\n",
    "\n",
    "\n",
    "print(\"Best score: \" , score_counter)\n",
    "print(\"Best depth: \" , best_depth)\n",
    "\n"
   ]
  },
  {
   "cell_type": "code",
   "execution_count": 25,
   "metadata": {},
   "outputs": [
    {
     "name": "stdout",
     "output_type": "stream",
     "text": [
      "Best score:  0.428888888888889\n",
      "Best depth:  1\n"
     ]
    }
   ],
   "source": [
    "from sklearn.tree import DecisionTreeClassifier\n",
    "from sklearn.model_selection import cross_val_score\n",
    "\n",
    "\n",
    "score_counter = 0\n",
    "best_depth = 0\n",
    "\n",
    "for i in range(1, 50):\n",
    "    DTC = DecisionTreeClassifier(max_depth= i)\n",
    "    cv_scores= cross_val_score(DTC, X_test, y_test, cv= 5)\n",
    "    if(cv_scores.mean() > score_counter):\n",
    "        score_counter = cv_scores.mean()\n",
    "        best_depth = i\n",
    "\n",
    "\n",
    "print(\"Best score: \" , score_counter)\n",
    "print(\"Best depth: \" , best_depth)"
   ]
  },
  {
   "cell_type": "markdown",
   "metadata": {},
   "source": [
    "### Combination Decision Tree Classifier on Training Data"
   ]
  },
  {
   "cell_type": "code",
   "execution_count": 26,
   "metadata": {},
   "outputs": [
    {
     "name": "stdout",
     "output_type": "stream",
     "text": [
      "['total_bill', 'sex_encoded']\n",
      "['size', 'sex_encoded']\n",
      "['total_bill', 'size', 'sex_encoded']\n",
      "['total_bill', 'smoker_encoded']\n",
      "['size', 'smoker_encoded']\n",
      "['total_bill', 'size', 'smoker_encoded']\n",
      "['total_bill', 'day_encoded']\n",
      "['size', 'day_encoded']\n",
      "['total_bill', 'size', 'day_encoded']\n",
      "['total_bill', 'time_encoded']\n",
      "['size', 'time_encoded']\n",
      "['total_bill', 'size', 'time_encoded']\n",
      "Best Score:  0.42564102564102574\n",
      "Best Three Columns:  ['total_bill', 'smoker_encoded']\n",
      "At depth:  4\n"
     ]
    }
   ],
   "source": [
    "from itertools import combinations\n",
    "from sklearn.model_selection import cross_val_score\n",
    "from sklearn.tree import DecisionTreeClassifier\n",
    "\n",
    "all_qual_cols= [\"sex\", \"smoker\",\"day\", \"time\"]\n",
    "all_quan_cols = [\"total_bill\", \"size\", ]\n",
    "\n",
    "score_counter = 0\n",
    "best_depth = 0\n",
    "\n",
    "for qual in all_qual_cols:\n",
    "  qual_cols = [col for col in X_train.columns if qual in col ]\n",
    "  for quan in range(1, len(all_quan_cols) + 1):\n",
    "    for comb in combinations(all_quan_cols, quan):\n",
    "      cols = list(comb) + qual_cols\n",
    "      print(cols)\n",
    "      # training DTC model and scoring it\n",
    "      for i in range(1,10):\n",
    "        #setting the max depth to be between 1-19 and iterating through each one\n",
    "        DTC = DecisionTreeClassifier(max_depth=i)\n",
    "        #using cross validation on DTC to avoid overfitting\n",
    "        cv_scores_DTC = cross_val_score(DTC, X_train[cols], y_train, cv = 5)\n",
    "        #updating the best score and columns of that score\n",
    "        if cv_scores_DTC.mean() > score_counter:\n",
    "          score_counter = cv_scores_DTC.mean()\n",
    "          col_best = cols\n",
    "          best_depth = i\n",
    "    \n",
    "print('Best Score: ', score_counter)\n",
    "print('Best Three Columns: ', col_best)\n",
    "print('At depth: ', best_depth)"
   ]
  },
  {
   "cell_type": "code",
   "execution_count": 27,
   "metadata": {},
   "outputs": [
    {
     "data": {
      "text/plain": [
       "0.717948717948718"
      ]
     },
     "execution_count": 27,
     "metadata": {},
     "output_type": "execute_result"
    }
   ],
   "source": [
    "cols = col_best\n",
    "\n",
    "DTC = DecisionTreeClassifier(max_depth=i)\n",
    "DTC.fit(X_train[cols], y_train)\n",
    "DTC.score(X_train[cols], y_train)\n",
    "\n",
    "# IS THIS CAUSING OVER FITTING?"
   ]
  },
  {
   "cell_type": "markdown",
   "metadata": {},
   "source": [
    "### Combination Decision Tree Classifier on Test Data"
   ]
  },
  {
   "cell_type": "code",
   "execution_count": 28,
   "metadata": {},
   "outputs": [
    {
     "name": "stdout",
     "output_type": "stream",
     "text": [
      "['total_bill', 'sex_encoded']\n",
      "['size', 'sex_encoded']\n",
      "['total_bill', 'size', 'sex_encoded']\n",
      "['total_bill', 'smoker_encoded']\n",
      "['size', 'smoker_encoded']\n",
      "['total_bill', 'size', 'smoker_encoded']\n",
      "['total_bill', 'day_encoded']\n",
      "['size', 'day_encoded']\n",
      "['total_bill', 'size', 'day_encoded']\n",
      "['total_bill', 'time_encoded']\n",
      "['size', 'time_encoded']\n",
      "['total_bill', 'size', 'time_encoded']\n",
      "Best Score:  0.42564102564102574\n",
      "Best Three Columns:  ['total_bill', 'smoker_encoded']\n",
      "At depth:  4\n"
     ]
    }
   ],
   "source": [
    "from itertools import combinations\n",
    "from sklearn.model_selection import cross_val_score\n",
    "from sklearn.tree import DecisionTreeClassifier\n",
    "\n",
    "all_qual_cols= [\"sex\", \"smoker\",\"day\", \"time\"]\n",
    "all_quan_cols = [\"total_bill\", \"size\", ]\n",
    "\n",
    "score_counter = 0\n",
    "best_depth = 0\n",
    "\n",
    "for qual in all_qual_cols:\n",
    "  qual_cols = [col for col in X_train.columns if qual in col ]\n",
    "  for quan in range(1, len(all_quan_cols) + 1):\n",
    "    for comb in combinations(all_quan_cols, quan):\n",
    "      cols = list(comb) + qual_cols\n",
    "      print(cols)\n",
    "      # training DTC model and scoring it\n",
    "      for i in range(1,10):\n",
    "        #setting the max depth to be between 1-19 and iterating through each one\n",
    "        DTC = DecisionTreeClassifier(max_depth=i)\n",
    "        #using cross validation on DTC to avoid overfitting\n",
    "        cv_scores_DTC = cross_val_score(DTC, X_train[cols], y_train, cv = 5)\n",
    "        #updating the best score and columns of that score\n",
    "        if cv_scores_DTC.mean() > score_counter:\n",
    "          score_counter = cv_scores_DTC.mean()\n",
    "          col_best = cols\n",
    "          best_depth = i\n",
    "    \n",
    "print('Best Score: ', score_counter)\n",
    "print('Best Three Columns: ', col_best)\n",
    "print('At depth: ', best_depth)"
   ]
  },
  {
   "cell_type": "code",
   "execution_count": 29,
   "metadata": {},
   "outputs": [
    {
     "data": {
      "text/plain": [
       "0.5306122448979592"
      ]
     },
     "execution_count": 29,
     "metadata": {},
     "output_type": "execute_result"
    }
   ],
   "source": [
    "cols = col_best\n",
    "\n",
    "DTC = DecisionTreeClassifier(max_depth=i)\n",
    "DTC.fit(X_train[cols], y_train)\n",
    "DTC.score(X_test[cols], y_test)\n",
    "\n",
    "# THE CUT IS A SIGN OF OVERFITTING"
   ]
  },
  {
   "cell_type": "markdown",
   "metadata": {},
   "source": [
    "# Random Forest Classifier Prediction Score\n",
    "### Basic Random Forest Classifier\n"
   ]
  },
  {
   "cell_type": "code",
   "execution_count": 30,
   "metadata": {},
   "outputs": [],
   "source": [
    "from sklearn.ensemble import RandomForestClassifier\n",
    "\n",
    "RFC = RandomForestClassifier(n_estimators=100)\n",
    "RFC.fit(X_train, y_train)\n",
    "y_pred = RFC.predict(X_test)"
   ]
  },
  {
   "cell_type": "code",
   "execution_count": 31,
   "metadata": {},
   "outputs": [
    {
     "name": "stdout",
     "output_type": "stream",
     "text": [
      "Accuracy: 0.4489795918367347\n"
     ]
    }
   ],
   "source": [
    "from sklearn import metrics\n",
    "\n",
    "print(\"Accuracy:\", metrics.accuracy_score(y_test, y_pred))"
   ]
  },
  {
   "cell_type": "markdown",
   "metadata": {},
   "source": [
    "### Combinations Ranodm Forest Classifier on Training Data"
   ]
  },
  {
   "cell_type": "code",
   "execution_count": 32,
   "metadata": {},
   "outputs": [
    {
     "name": "stdout",
     "output_type": "stream",
     "text": [
      "['total_bill', 'sex_encoded']\n",
      "['size', 'sex_encoded']\n",
      "['total_bill', 'size', 'sex_encoded']\n",
      "['total_bill', 'smoker_encoded']\n",
      "['size', 'smoker_encoded']\n",
      "['total_bill', 'size', 'smoker_encoded']\n",
      "['total_bill', 'day_encoded']\n",
      "['size', 'day_encoded']\n",
      "['total_bill', 'size', 'day_encoded']\n",
      "['total_bill', 'time_encoded']\n",
      "['size', 'time_encoded']\n",
      "['total_bill', 'size', 'time_encoded']\n",
      "Best Score:  0.4102564102564103\n",
      "Best Columns:  ['size', 'day_encoded']\n"
     ]
    }
   ],
   "source": [
    "from itertools import combinations\n",
    "from sklearn.model_selection import cross_val_score\n",
    "from sklearn.tree import DecisionTreeClassifier\n",
    "\n",
    "all_qual_cols= [\"sex\", \"smoker\",\"day\", \"time\"]\n",
    "all_quan_cols = [\"total_bill\", \"size\", ]\n",
    "\n",
    "score_counter = 0\n",
    "\n",
    "for qual in all_qual_cols:\n",
    "  qual_cols = [col for col in X_train.columns if qual in col ]\n",
    "  for quan in range(1, len(all_quan_cols) + 1):\n",
    "    for comb in combinations(all_quan_cols, quan):\n",
    "      cols = list(comb) + qual_cols\n",
    "      print(cols)\n",
    "      # training RFC model and scoring it\n",
    "      for depth in range(1, 10):\n",
    "        RFC = RandomForestClassifier(n_estimators=10, max_depth=depth)\n",
    "        cv_scores_RFC = cross_val_score(RFC, X_train[cols], y_train, cv=5)\n",
    "        mean_score = cv_scores_RFC.mean()\n",
    "        # using cross validation on RFC to avoid overfitting \n",
    "\n",
    "      if cv_scores_RFC.mean() > score_counter:\n",
    "        #updating the best score and columns of that score\n",
    "        score_counter = cv_scores_RFC.mean()\n",
    "        col_best = cols\n",
    "\n",
    "print('Best Score: ', score_counter)\n",
    "print('Best Columns: ', col_best)"
   ]
  },
  {
   "cell_type": "code",
   "execution_count": 33,
   "metadata": {},
   "outputs": [
    {
     "name": "stdout",
     "output_type": "stream",
     "text": [
      "Accuracy: 0.4461538461538462\n"
     ]
    }
   ],
   "source": [
    "cols = col_best\n",
    "RFC = RandomForestClassifier(n_estimators=10, max_depth=depth)\n",
    "RFC.fit(X_train[cols], y_train)\n",
    "y_pred = RFC.predict(X_train[cols])\n",
    "\n",
    "print(\"Accuracy:\", metrics.accuracy_score(y_train, y_pred))"
   ]
  },
  {
   "cell_type": "markdown",
   "metadata": {},
   "source": [
    "### Combinations Random Forest Classifier on Testing Data"
   ]
  },
  {
   "cell_type": "code",
   "execution_count": 34,
   "metadata": {},
   "outputs": [
    {
     "name": "stdout",
     "output_type": "stream",
     "text": [
      "['total_bill', 'sex_encoded']\n",
      "['size', 'sex_encoded']\n",
      "['total_bill', 'size', 'sex_encoded']\n",
      "['total_bill', 'smoker_encoded']\n",
      "['size', 'smoker_encoded']\n",
      "['total_bill', 'size', 'smoker_encoded']\n",
      "['total_bill', 'day_encoded']\n",
      "['size', 'day_encoded']\n",
      "['total_bill', 'size', 'day_encoded']\n",
      "['total_bill', 'time_encoded']\n",
      "['size', 'time_encoded']\n",
      "['total_bill', 'size', 'time_encoded']\n",
      "Best Score:  0.5088888888888888\n",
      "Best Columns:  ['total_bill', 'size', 'time_encoded']\n"
     ]
    }
   ],
   "source": [
    "from itertools import combinations\n",
    "from sklearn.model_selection import cross_val_score\n",
    "from sklearn.tree import DecisionTreeClassifier\n",
    "\n",
    "all_qual_cols= [\"sex\", \"smoker\",\"day\", \"time\"]\n",
    "all_quan_cols = [\"total_bill\", \"size\", ]\n",
    "\n",
    "score_counter = 0\n",
    "\n",
    "for qual in all_qual_cols:\n",
    "  qual_cols = [col for col in X_test.columns if qual in col ]\n",
    "  for quan in range(1, len(all_quan_cols) + 1):\n",
    "    for comb in combinations(all_quan_cols, quan):\n",
    "      cols = list(comb) + qual_cols\n",
    "      print(cols)\n",
    "      # training RFC model and scoring it\n",
    "      for depth in range(1, 10):\n",
    "        RFC = RandomForestClassifier(n_estimators=10, max_depth=depth)\n",
    "        cv_scores_RFC = cross_val_score(RFC, X_test[cols], y_test, cv=5)\n",
    "        mean_score = cv_scores_RFC.mean()\n",
    "        # using cross validation on RFC to avoid overfitting \n",
    "\n",
    "      if cv_scores_RFC.mean() > score_counter:\n",
    "        #updating the best score and columns of that score\n",
    "        score_counter = cv_scores_RFC.mean()\n",
    "        col_best = cols\n",
    "\n",
    "print('Best Score: ', score_counter)\n",
    "print('Best Columns: ', col_best)"
   ]
  },
  {
   "cell_type": "code",
   "execution_count": 35,
   "metadata": {},
   "outputs": [
    {
     "name": "stdout",
     "output_type": "stream",
     "text": [
      "Accuracy: 0.3469387755102041\n"
     ]
    }
   ],
   "source": [
    "cols = col_best\n",
    "RFC = RandomForestClassifier(n_estimators=10, max_depth=depth)\n",
    "RFC.fit(X_train[cols], y_train)\n",
    "y_pred = RFC.predict(X_test[cols])\n",
    "\n",
    "print(\"Accuracy:\", metrics.accuracy_score(y_test, y_pred))"
   ]
  },
  {
   "cell_type": "markdown",
   "metadata": {},
   "source": [
    "\\begin{aligned}\n",
    "    \\mathbf{w}_{k+1} \\gets \\mathbf{w}_k - \\alpha \\nabla L(\\mathbf{w}_k) + \\beta(\\mathbf{w}_k - \\mathbf{w}_{k-1})\n",
    "\\end{aligned}\n",
    "\\tag{1}"
   ]
  },
  {
   "cell_type": "markdown",
   "metadata": {},
   "source": [
    "### Backround Notes \n",
    "\n",
    "- The bigger the bill, the bigger the tip (measured in percentage of bill, not by quantity) (Lynn et al., 2012).\n",
    "- In resturants, tipping does incentivize better service (Azar, 2009; Lynn & McCall, 2000)\n",
    "- Would be very interesting if race was included in this data set\n",
    "    - white servers get tipped more than black servers ((Lynn, Sturman, Ganley, Adams, Douglas & McNeil, 2008))\n",
    "- Also would be interesting to include age of tipper, seeing as older populations tip based on service whole younger generations tip back on precedent (Lynn and Katz)\n",
    "- Tipping behavoirs are stronger on the weekends(Conlin, Lynn & O’Donoghue, 2003)\n",
    "- Higher tips for waitresses compared to waiters (Lynn & Simons, 2000)\n",
    "    - (CAN WE SHOW THIS WITHIN OUR DATA?)\n",
    "- Michael Lynn, Patrick Jabbour, Woo Gon Kim,Who uses tips as a reward for service and when? An examination of potential moderators of the service–tipping relationship,Journal of Economic Psychology,Volume 33, Issue 1 2012,Pages 90-103,ISSN 0167-4870,https://doi.org/10.1016/j.joep.2011.09.009.(https://www.sciencedirect.com/science/article/pii/S0167487011001474)\n",
    "\n",
    "### To-Dos\n",
    "- Ask Phil about DTC on why we get really high scores on testing set\n",
    "    - lecture note 14 on own LR experiemnting with optimization--> implement torch\n",
    "- we have a sign of overfitting whe it goes from 0.4 to 0.24 in testing DTC\n",
    "- Fix bug on our implementation of linear regression\n",
    "- Add comments and write ups to the code, maybe a abstract, backround or conclusion section? "
   ]
  }
 ],
 "metadata": {
  "kernelspec": {
   "display_name": "ml-0451",
   "language": "python",
   "name": "python3"
  },
  "language_info": {
   "codemirror_mode": {
    "name": "ipython",
    "version": 3
   },
   "file_extension": ".py",
   "mimetype": "text/x-python",
   "name": "python",
   "nbconvert_exporter": "python",
   "pygments_lexer": "ipython3",
   "version": "3.9.18"
  },
  "orig_nbformat": 4
 },
 "nbformat": 4,
 "nbformat_minor": 2
}
